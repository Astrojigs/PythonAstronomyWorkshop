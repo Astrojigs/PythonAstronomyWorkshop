{
 "cells": [
  {
   "cell_type": "markdown",
   "id": "dd5fcfba-169a-48b9-b05b-df790bb8b744",
   "metadata": {},
   "source": [
    "# Day 2 - Assignment"
   ]
  },
  {
   "cell_type": "markdown",
   "id": "ef067c86-4a10-4459-bc75-5fa56ef6b06f",
   "metadata": {},
   "source": [
    "## Problem 1\n",
    "Calculate the number of lunar months in a year."
   ]
  },
  {
   "cell_type": "code",
   "execution_count": 12,
   "id": "25ec08ac-d156-40b0-8f95-7be08bfa8221",
   "metadata": {},
   "outputs": [
    {
     "data": {
      "text/latex": [
       "$12.368778 \\; \\mathrm{}$"
      ],
      "text/plain": [
       "<Quantity 12.36877751>"
      ]
     },
     "execution_count": 12,
     "metadata": {},
     "output_type": "execute_result"
    }
   ],
   "source": [
    "# Your code\n",
    "import numpy as np\n",
    "import astropy.constants as const\n",
    "from astropy import units as u\n",
    "\n",
    "# Constants\n",
    "days_in_year = 365.25*u.day\n",
    "lunar_month = 29.53 * u.day# days\n",
    "sidereal_period = u.sday  # Earth's sidereal rotation in seconds\n",
    "earth_mass = M_earth\n",
    "earth_radius = R_earth.to(u.km).value\n",
    "\n",
    "# Problem 1\n",
    "lunar_months_in_year = days_in_year / lunar_month\n",
    "lunar_months_in_year\n"
   ]
  },
  {
   "cell_type": "markdown",
   "id": "2ee13403-9376-4138-827d-3a3098f6885d",
   "metadata": {},
   "source": [
    "## Problem 2 \n",
    "Calculate the distance of geostationary satellite from the center of the Earth, in the units of Earth radius, Geostationary satellite has timeperiod equal to Earth's sidereal rotation period.\n",
    "$$\\dfrac{GM}{r^3}=\\dfrac{4\\pi}{T^2}$$"
   ]
  },
  {
   "cell_type": "code",
   "execution_count": 32,
   "id": "d315a88a-73cd-4411-8383-e31efc1c2122",
   "metadata": {},
   "outputs": [
    {
     "data": {
      "text/plain": [
       "23.934469591666666"
      ]
     },
     "execution_count": 32,
     "metadata": {},
     "output_type": "execute_result"
    }
   ],
   "source": [
    "u.sday.to(u.hour)"
   ]
  },
  {
   "cell_type": "code",
   "execution_count": 33,
   "id": "4523930b-f11b-4e10-97fd-8e3efd893fc6",
   "metadata": {},
   "outputs": [],
   "source": [
    "from astropy.constants import G, M_earth\n",
    "from astropy import units as u\n",
    "import numpy as np\n",
    "\n",
    "# Define the sidereal period\n",
    "sidereal_period = 23.9344696 * u.hour  \n",
    "T = sidereal_period.to(u.s)  # Convert to seconds\n",
    "\n",
    "# Calculate the orbital radius\n",
    "r = ((G * M_earth * T**2) / (4 * np.pi**2))**(1/3)\n",
    "\n",
    "# Convert r to Earth radii\n",
    "r_in_earth_radii = r.to(u.R_earth)\n"
   ]
  },
  {
   "cell_type": "code",
   "execution_count": 34,
   "id": "7f8cf99b-5120-4f62-8491-69b3079f9619",
   "metadata": {},
   "outputs": [
    {
     "data": {
      "text/latex": [
       "$42164.168 \\; \\mathrm{km}$"
      ],
      "text/plain": [
       "<Quantity 42164.16816978 km>"
      ]
     },
     "execution_count": 34,
     "metadata": {},
     "output_type": "execute_result"
    }
   ],
   "source": [
    "r.to(u.km)"
   ]
  },
  {
   "cell_type": "code",
   "execution_count": 37,
   "id": "d7d47530-4588-4212-8582-d68f95336e1a",
   "metadata": {},
   "outputs": [
    {
     "data": {
      "text/latex": [
       "$6378.1 \\; \\mathrm{km}$"
      ],
      "text/plain": [
       "<Quantity 6378.1 km>"
      ]
     },
     "execution_count": 37,
     "metadata": {},
     "output_type": "execute_result"
    }
   ],
   "source": [
    "(1*u.R_earth).to(u.km)"
   ]
  },
  {
   "cell_type": "code",
   "execution_count": 35,
   "id": "9063e57c-9c68-4b92-bfb2-f09165087f0b",
   "metadata": {},
   "outputs": [
    {
     "data": {
      "text/latex": [
       "$6.6107725 \\; \\mathrm{R_{\\oplus}}$"
      ],
      "text/plain": [
       "<Quantity 6.61077251 earthRad>"
      ]
     },
     "execution_count": 35,
     "metadata": {},
     "output_type": "execute_result"
    }
   ],
   "source": [
    "r_in_earth_radii"
   ]
  },
  {
   "cell_type": "markdown",
   "id": "4326a0c1-8d0d-4e42-b40c-1b9160b5a3e9",
   "metadata": {},
   "source": [
    "## Problem 3 \n",
    "\n",
    "Moon moves away from the Earth, due to tidal forces, at a rate of about 3.8 cm/year. It is at a distance of 3,84,000 km from Earth. We also know, universe expands at a rate given by Hubble’s law, which is about 72 km/s per Mpc. Calculate at what rate the moon moves away in the units of km/s per Mpc. Compare with the expansion of the Universe."
   ]
  },
  {
   "cell_type": "code",
   "execution_count": 43,
   "id": "396bbe31-1ac5-41a2-9eaf-37fd52675e09",
   "metadata": {},
   "outputs": [
    {
     "data": {
      "text/latex": [
       "$3.8 \\; \\mathrm{\\frac{cm}{yr}}$"
      ],
      "text/plain": [
       "<Quantity 3.8 cm / yr>"
      ]
     },
     "execution_count": 43,
     "metadata": {},
     "output_type": "execute_result"
    }
   ],
   "source": [
    "moon_rate_cm_per_year = 3.8 * (u.cm/u.year)\n",
    "moon_rate_cm_per_year"
   ]
  },
  {
   "cell_type": "code",
   "execution_count": 42,
   "id": "4862b6da-4f1d-442f-9b85-52838e197a62",
   "metadata": {},
   "outputs": [
    {
     "data": {
      "text/latex": [
       "$3.8 \\times 10^{-5} \\; \\mathrm{\\frac{km}{yr}}$"
      ],
      "text/plain": [
       "<Quantity 3.8e-05 km / yr>"
      ]
     },
     "execution_count": 42,
     "metadata": {},
     "output_type": "execute_result"
    }
   ],
   "source": [
    "moon_rate_km_per_year = moon_rate_cm_per_year.to(u.km/u.year)\n",
    "moon_rate_km_per_year"
   ]
  },
  {
   "cell_type": "code",
   "execution_count": 44,
   "id": "ede97e26-fcf7-439f-9fdd-cbcb0ad09aad",
   "metadata": {},
   "outputs": [
    {
     "data": {
      "text/latex": [
       "$1.2041473 \\times 10^{-12} \\; \\mathrm{\\frac{km}{s}}$"
      ],
      "text/plain": [
       "<Quantity 1.20414734e-12 km / s>"
      ]
     },
     "execution_count": 44,
     "metadata": {},
     "output_type": "execute_result"
    }
   ],
   "source": [
    "moon_rate_km_per_s = moon_rate_km_per_year.to(u.km/u.s)\n",
    "moon_rate_km_per_s"
   ]
  },
  {
   "cell_type": "code",
   "execution_count": 50,
   "id": "11ab48c6-73fa-41fa-97d2-ea25f8073f18",
   "metadata": {},
   "outputs": [
    {
     "data": {
      "text/latex": [
       "$72 \\; \\mathrm{\\frac{km}{Mpc\\,s}}$"
      ],
      "text/plain": [
       "<Quantity 72. km / (Mpc s)>"
      ]
     },
     "execution_count": 50,
     "metadata": {},
     "output_type": "execute_result"
    }
   ],
   "source": [
    "hubble_rate = 72*(u.km/u.s/u.Mpc)\n",
    "hubble_rate"
   ]
  },
  {
   "cell_type": "code",
   "execution_count": 51,
   "id": "dd272ac0-cfe0-4237-8efd-43a1afbcf75c",
   "metadata": {},
   "outputs": [
    {
     "data": {
      "text/latex": [
       "$1.6724269 \\times 10^{-14} \\; \\mathrm{Mpc}$"
      ],
      "text/plain": [
       "<Quantity 1.67242686e-14 Mpc>"
      ]
     },
     "execution_count": 51,
     "metadata": {},
     "output_type": "execute_result"
    }
   ],
   "source": [
    "moon_rate_in_hubble_units = moon_rate_km_per_s/hubble_rate\n",
    "moon_rate_in_hubble_units"
   ]
  },
  {
   "cell_type": "markdown",
   "id": "e622df46-7a54-4297-81b3-abac67d5a9ce",
   "metadata": {},
   "source": [
    "## Problem 4\n",
    "\n",
    "Eckart and Genzel measured the speeds of the stars close to the supermassive black holes at the centre of Milky Way. They found speeds about 300 km/s when these stars were at distance of 0.015 pc from the centre. Estimate the mass of the supermassive blackholes in units of M_sun. Speed of object around massive object is given by $$\\nu = \\sqrt{\\dfrac{GM}{r}}$$"
   ]
  },
  {
   "cell_type": "code",
   "execution_count": 48,
   "id": "9c250d9d-cef9-4e4d-8daf-a7b4ffb3d6d9",
   "metadata": {},
   "outputs": [
    {
     "data": {
      "text/latex": [
       "$2.022684 \\times 10^{13} \\; \\mathrm{\\frac{km^{2}\\,kg\\,pc}{m^{3}}}$"
      ],
      "text/plain": [
       "<Quantity 2.02268403e+13 km2 kg pc / m3>"
      ]
     },
     "execution_count": 48,
     "metadata": {},
     "output_type": "execute_result"
    }
   ],
   "source": [
    "# Your code\n",
    "v_star = 300 * u.km / u.s\n",
    "r_star = 0.015 * u.pc\n",
    "\n",
    "M = v_star**2 * r_star / const.G\n",
    "\n",
    "M"
   ]
  },
  {
   "cell_type": "code",
   "execution_count": 49,
   "id": "6054538f-b264-4001-8517-0eae96231944",
   "metadata": {},
   "outputs": [
    {
     "data": {
      "text/latex": [
       "$1.0450729 \\times 10^{11} \\; \\mathrm{M_{\\oplus}}$"
      ],
      "text/plain": [
       "<Quantity 1.04507289e+11 earthMass>"
      ]
     },
     "execution_count": 49,
     "metadata": {},
     "output_type": "execute_result"
    }
   ],
   "source": [
    "M.to(u.M_earth)"
   ]
  },
  {
   "cell_type": "markdown",
   "id": "550d2d65-fda4-4280-8ee9-8c60b0c53ac4",
   "metadata": {},
   "source": [
    "## Problem 5\n",
    "\n",
    "Ghez and others identified stars close to the super massive black hole at 0.01pc moving with acceleration of about $3\\;mm/s^2$. Estimate the mass of the supermassive blackhole in units of M_sun. Acceleration of object around massive object is given by $$a=\\dfrac{GM}{r^2}$$"
   ]
  },
  {
   "cell_type": "code",
   "execution_count": 111,
   "id": "105e688f-5ee9-43a6-995e-574a0cd2271e",
   "metadata": {},
   "outputs": [],
   "source": [
    "a_star = 3 * 1e-3 * u.m / u.s**2  # Acceleration of stars\n",
    "r_star = 0.01*u.pc"
   ]
  },
  {
   "cell_type": "code",
   "execution_count": 113,
   "id": "7d9c441e-7162-4a23-928e-74be1fa19f6a",
   "metadata": {},
   "outputs": [
    {
     "data": {
      "text/latex": [
       "$4494.8534 \\; \\mathrm{\\frac{pc^{2}\\,kg}{m^{2}}}$"
      ],
      "text/plain": [
       "<Quantity 4494.85339287 pc2 kg / m2>"
      ]
     },
     "execution_count": 113,
     "metadata": {},
     "output_type": "execute_result"
    }
   ],
   "source": [
    "mass_blackhole = (a_star * r_star**2) / const.G\n",
    "mass_blackhole"
   ]
  },
  {
   "cell_type": "code",
   "execution_count": 114,
   "id": "f6c7fd91-8338-4863-bd83-7cc98c3d5cff",
   "metadata": {},
   "outputs": [
    {
     "data": {
      "text/latex": [
       "$4.2797325 \\times 10^{36} \\; \\mathrm{kg}$"
      ],
      "text/plain": [
       "<Quantity 4.27973247e+36 kg>"
      ]
     },
     "execution_count": 114,
     "metadata": {},
     "output_type": "execute_result"
    }
   ],
   "source": [
    "mass_blackhole.to(u.kg)"
   ]
  },
  {
   "cell_type": "code",
   "execution_count": 115,
   "id": "82ef0139-cb34-424f-8ce9-9dc40198c0e5",
   "metadata": {},
   "outputs": [
    {
     "data": {
      "text/latex": [
       "$2152339.2 \\; \\mathrm{M_{\\odot}}$"
      ],
      "text/plain": [
       "<Quantity 2152339.17865991 solMass>"
      ]
     },
     "execution_count": 115,
     "metadata": {},
     "output_type": "execute_result"
    }
   ],
   "source": [
    "mass_blackhole.to(u.M_sun)"
   ]
  },
  {
   "cell_type": "markdown",
   "id": "b6fdde3b-88a5-433f-ad68-eb45b33ad9ac",
   "metadata": {},
   "source": [
    "## Problem 6\n",
    "\n",
    "Sidereal day on Mars is 24h 37m 22.7s and sidereal year on Mars is 686.980 d. \n",
    "\n",
    "Mass of the Mars is 0.107 that of the Earth. \n",
    "Radius of the Mars is  0.533 that of the Earth. \n",
    "Distance of the Mars from the Sun is 1.52368 AU.\n",
    "\n",
    "- Calculate a solar day on Mars and define it as sol.\n",
    "- Phobos is at the distance of 9376 km from the Mars. Calculate its period of revolution around Mars in terms of sol.\n",
    "- Calculate the lunar month (in sol) due to Phobos on Mars."
   ]
  },
  {
   "cell_type": "code",
   "execution_count": 74,
   "id": "44691ab3-5c69-4f8f-a7d3-1eefc47743d5",
   "metadata": {},
   "outputs": [
    {
     "data": {
      "text/latex": [
       "$88642.7 \\; \\mathrm{s}$"
      ],
      "text/plain": [
       "<Quantity 88642.7 s>"
      ]
     },
     "execution_count": 74,
     "metadata": {},
     "output_type": "execute_result"
    }
   ],
   "source": [
    "# Your code\n",
    "mars_day_sidereal = (24 * 3600 + 37 * 60 + 22.7)*u.s\n",
    "mars_day_sidereal"
   ]
  },
  {
   "cell_type": "code",
   "execution_count": 75,
   "id": "5c119fd8-b7b3-4c86-950f-c79aca69ec05",
   "metadata": {},
   "outputs": [
    {
     "data": {
      "text/latex": [
       "$686.98 \\; \\mathrm{d}$"
      ],
      "text/plain": [
       "<Quantity 686.98 d>"
      ]
     },
     "execution_count": 75,
     "metadata": {},
     "output_type": "execute_result"
    }
   ],
   "source": [
    "mars_year_sidereal = 686.980*u.day\n",
    "mars_year_sidereal"
   ]
  },
  {
   "cell_type": "code",
   "execution_count": 82,
   "id": "c3cf6979-19e5-4135-8cd6-68956c24236f",
   "metadata": {},
   "outputs": [
    {
     "name": "stdout",
     "output_type": "stream",
     "text": [
      "Solar day on Mars (sol): 24.659799930008607 hours\n",
      "Phobos period (in sol): 8.642730325361978e-05 h\n"
     ]
    }
   ],
   "source": [
    "mars_day_sidereal = 24 * 3600 + 37 * 60 + 22.7  # seconds\n",
    "mars_year_sidereal = 686.980 * 24 * 3600  # seconds\n",
    "solar_day_mars = mars_day_sidereal / (1 - mars_day_sidereal / mars_year_sidereal)\n",
    "print(\"Solar day on Mars (sol):\", solar_day_mars / 3600, \"hours\")\n",
    "\n",
    "phobos_distance = 9376 * u.km\n",
    "mars_mass = 0.107 * earth_mass\n",
    "phobos_period = (4 * np.pi**2 * phobos_distance**3 / (G * mars_mass))**0.5\n",
    "phobos_period_in_sol = (phobos_period / solar_day_mars).to(u.hour)\n",
    "print(\"Phobos period (in sol):\", phobos_period_in_sol)"
   ]
  },
  {
   "cell_type": "code",
   "execution_count": 89,
   "id": "00ed4574-fa00-4f4a-89d1-be3702e36c4c",
   "metadata": {},
   "outputs": [],
   "source": [
    "sol = u.def_unit(\"sol\", solar_day_mars)"
   ]
  },
  {
   "cell_type": "code",
   "execution_count": 91,
   "id": "8fbb78c8-915c-42ff-884c-ca16a182661f",
   "metadata": {},
   "outputs": [
    {
     "data": {
      "text/plain": [
       "24.659799930008607"
      ]
     },
     "execution_count": 91,
     "metadata": {},
     "output_type": "execute_result"
    }
   ],
   "source": [
    "sol.to(u.hour)"
   ]
  },
  {
   "cell_type": "code",
   "execution_count": 118,
   "id": "1139ecfd-4379-4bcb-9b90-bf3b993db21e",
   "metadata": {},
   "outputs": [],
   "source": [
    "import astropy.units as u\n",
    "from astropy.constants import G, M_earth, au\n",
    "\n",
    "# Define data\n",
    "sidereal_day_mars = (24 * u.hour) + (37 * u.minute) + (22.7 * u.second)\n",
    "sidereal_year_mars = 686.980 * u.day\n",
    "mass_mars = 0.107 * M_earth\n",
    "distance_phobos = 9376 * u.km\n",
    "\n",
    "# 1. Calculate the solar day (sol) on Mars\n",
    "solar_day_mars = sidereal_day_mars / (1 - (sidereal_day_mars / sidereal_year_mars))\n",
    "\n",
    "# Define \"sol\" as a custom unit\n",
    "sol = u.def_unit(\"sol\", solar_day_mars)\n",
    "\n",
    "# 2. Calculate the period of Phobos in sol\n",
    "phobos_period = (2 * np.pi * ((distance_phobos**3) / (G * mass_mars))**0.5).to(u.s)\n",
    "phobos_period_in_sol = phobos_period.to(sol)\n",
    "\n",
    "# 3. Calculate the lunar month due to Phobos in sol\n",
    "lunar_month_phobos = (1 / ((1 / phobos_period_in_sol) - (1 / (1 * sol))))\n"
   ]
  },
  {
   "cell_type": "code",
   "execution_count": 119,
   "id": "4078adc8-b028-4c6f-be51-355130310d3a",
   "metadata": {},
   "outputs": [
    {
     "data": {
      "text/latex": [
       "$24.6598 \\; \\mathrm{h}$"
      ],
      "text/plain": [
       "<Quantity 24.65979993 h>"
      ]
     },
     "execution_count": 119,
     "metadata": {},
     "output_type": "execute_result"
    }
   ],
   "source": [
    "solar_day_mars"
   ]
  },
  {
   "cell_type": "code",
   "execution_count": 120,
   "id": "74366996-9847-4afe-b42c-70bda0044dea",
   "metadata": {},
   "outputs": [
    {
     "data": {
      "text/latex": [
       "$0.31113829 \\; \\mathrm{sol}$"
      ],
      "text/plain": [
       "<Quantity 0.31113829 sol>"
      ]
     },
     "execution_count": 120,
     "metadata": {},
     "output_type": "execute_result"
    }
   ],
   "source": [
    "phobos_period_in_sol"
   ]
  },
  {
   "cell_type": "code",
   "execution_count": 121,
   "id": "77dcabe9-d7fc-4891-8e5c-ce97731713f5",
   "metadata": {},
   "outputs": [
    {
     "data": {
      "text/latex": [
       "$0.45167018 \\; \\mathrm{sol}$"
      ],
      "text/plain": [
       "<Quantity 0.45167018 sol>"
      ]
     },
     "execution_count": 121,
     "metadata": {},
     "output_type": "execute_result"
    }
   ],
   "source": [
    "lunar_month_phobos"
   ]
  },
  {
   "cell_type": "markdown",
   "id": "4f7758c3-8df5-414f-8806-e35c95324027",
   "metadata": {},
   "source": [
    "## Problem 7\n",
    "\n",
    "At what distance a 100 W lamp will provide the same flux as given by the Sun at the Earth. At what distance the lamp should be to match the flux given by Vega?$$F=\\dfrac{L}{4\\pi d^2}$$"
   ]
  },
  {
   "cell_type": "code",
   "execution_count": 124,
   "id": "e4df6b3c-5a22-4eed-b485-0eaa0954c49a",
   "metadata": {},
   "outputs": [],
   "source": [
    "# Your code\n",
    "from astropy.constants import L_sun, au\n",
    "from astropy import units as u\n",
    "\n",
    "# Given data\n",
    "lamp_luminosity = 100 * u.W  # Lamp power\n",
    "solar_flux_earth = (L_sun / (4 * np.pi * au**2)).to(u.W / u.m**2)  # Sun's flux at Earth\n",
    "vega_flux = 3.46e-8 * u.W / u.m**2  # Vega's flux at Earth (typical value)\n",
    "\n",
    "# Distance for lamp to match Sun's flux at Earth\n",
    "distance_for_sun_flux = ((lamp_luminosity / (4 * np.pi * solar_flux_earth))**0.5).to(u.m)\n",
    "\n",
    "# Distance for lamp to match Vega's flux\n",
    "distance_for_vega_flux = ((lamp_luminosity / (4 * np.pi * vega_flux))**0.5).to(u.m)"
   ]
  },
  {
   "cell_type": "code",
   "execution_count": 125,
   "id": "8e031b44-9d69-443c-a548-fe35eebbfdf3",
   "metadata": {},
   "outputs": [
    {
     "data": {
      "text/latex": [
       "$0.076460907 \\; \\mathrm{m}$"
      ],
      "text/plain": [
       "<Quantity 0.07646091 m>"
      ]
     },
     "execution_count": 125,
     "metadata": {},
     "output_type": "execute_result"
    }
   ],
   "source": [
    "distance_for_sun_flux"
   ]
  },
  {
   "cell_type": "code",
   "execution_count": 126,
   "id": "ff34b5b6-da2e-4713-9a20-fe5517792f8e",
   "metadata": {},
   "outputs": [
    {
     "data": {
      "text/latex": [
       "$15165.51 \\; \\mathrm{m}$"
      ],
      "text/plain": [
       "<Quantity 15165.50995942 m>"
      ]
     },
     "execution_count": 126,
     "metadata": {},
     "output_type": "execute_result"
    }
   ],
   "source": [
    "distance_for_vega_flux"
   ]
  },
  {
   "cell_type": "markdown",
   "id": "a3888aca-0a3e-4ba9-ac66-d3e67b7ee3fa",
   "metadata": {},
   "source": [
    "## Problem 8\n",
    "\n",
    "Calculate the distance between Mumbai and Mombasa in R_earth and in km."
   ]
  },
  {
   "cell_type": "code",
   "execution_count": 100,
   "id": "fa406931-e4ff-4d81-aa57-62fa0946e6e4",
   "metadata": {},
   "outputs": [],
   "source": [
    "# Your code\n",
    "from astropy.coordinates import EarthLocation\n",
    "import astropy.units as u\n",
    "import numpy as np\n",
    "\n",
    "# Get Earth locations for Mumbai and Mombasa\n",
    "mumbai = EarthLocation.of_address(\"Mumbai, India\")\n",
    "mombasa = EarthLocation.of_address(\"Mombasa, Kenya\")\n",
    "\n",
    "# Extract latitude and longitude in radians\n",
    "lat1, lon1 = np.radians([mumbai.lat.deg, mumbai.lon.deg])\n",
    "lat2, lon2 = np.radians([mombasa.lat.deg, mombasa.lon.deg])\n",
    "\n",
    "# Radius of Earth\n",
    "R_earth = 6371 * u.km  # Mean radius of Earth in kilometers\n",
    "\n",
    "# Haversine formula to compute the great-circle distance\n",
    "dlat = lat2 - lat1\n",
    "dlon = lon2 - lon1\n",
    "a = np.sin(dlat / 2)**2 + np.cos(lat1) * np.cos(lat2) * np.sin(dlon / 2)**2\n",
    "c = 2 * np.arcsin(np.sqrt(a))\n",
    "distance_km = c * R_earth\n",
    "\n",
    "# Convert distance to Earth radii\n",
    "distance_rearth = distance_km / R_earth"
   ]
  },
  {
   "cell_type": "code",
   "execution_count": 102,
   "id": "7290be8a-966c-45cd-9be4-2866bb35ed63",
   "metadata": {},
   "outputs": [
    {
     "data": {
      "text/latex": [
       "$4449.6301 \\; \\mathrm{km}$"
      ],
      "text/plain": [
       "<Quantity 4449.63005892 km>"
      ]
     },
     "execution_count": 102,
     "metadata": {},
     "output_type": "execute_result"
    }
   ],
   "source": [
    "distance_km.to(u.km)"
   ]
  },
  {
   "cell_type": "code",
   "execution_count": 104,
   "id": "49464058-9089-4844-aa38-f0731d851533",
   "metadata": {},
   "outputs": [
    {
     "data": {
      "text/latex": [
       "$0.69841941 \\; \\mathrm{}$"
      ],
      "text/plain": [
       "<Quantity 0.69841941>"
      ]
     },
     "execution_count": 104,
     "metadata": {},
     "output_type": "execute_result"
    }
   ],
   "source": [
    "distance_rearth"
   ]
  },
  {
   "cell_type": "markdown",
   "id": "62fc8e82-9e34-44a5-85e0-fb82d7e6f7a1",
   "metadata": {},
   "source": [
    "## Problem 9\n",
    "Calculate angular separation between stars ‘Fomalhaut’, ‘Canopus’ and ‘Achernar’."
   ]
  },
  {
   "cell_type": "code",
   "execution_count": 108,
   "id": "952f0d5d-b351-4af3-b8da-7d23a9613ab8",
   "metadata": {},
   "outputs": [],
   "source": [
    "# Your code\n",
    "from astropy.coordinates import SkyCoord\n",
    "Fomalhaut=SkyCoord.from_name('Fomalhaut')\n",
    "Canopus=SkyCoord.from_name('Canopus')\n",
    "Achernar=SkyCoord.from_name('Achernar')\n",
    "sep_1=Achernar.separation(Canopus)\n",
    "sep_2=Achernar.separation(Fomalhaut)\n",
    "sep_3=Canopus.separation(Fomalhaut)"
   ]
  },
  {
   "cell_type": "code",
   "execution_count": 106,
   "id": "6b475890-3697-4926-afa1-8e6c26992cfd",
   "metadata": {},
   "outputs": [
    {
     "data": {
      "text/latex": [
       "$39^\\circ24{}^\\prime33.22327731{}^{\\prime\\prime}$"
      ],
      "text/plain": [
       "<Angle 39.40922869 deg>"
      ]
     },
     "execution_count": 106,
     "metadata": {},
     "output_type": "execute_result"
    }
   ],
   "source": [
    "sep_1"
   ]
  },
  {
   "cell_type": "code",
   "execution_count": 109,
   "id": "bf9500f5-bbf8-4c5c-bed1-3ca5056ee42f",
   "metadata": {},
   "outputs": [
    {
     "data": {
      "text/latex": [
       "$39^\\circ06{}^\\prime34.60147652{}^{\\prime\\prime}$"
      ],
      "text/plain": [
       "<Angle 39.10961152 deg>"
      ]
     },
     "execution_count": 109,
     "metadata": {},
     "output_type": "execute_result"
    }
   ],
   "source": [
    "sep_2"
   ]
  },
  {
   "cell_type": "code",
   "execution_count": 110,
   "id": "d8734678-59bc-485d-a903-a9f59e3c6452",
   "metadata": {},
   "outputs": [
    {
     "data": {
      "text/latex": [
       "$78^\\circ29{}^\\prime46.48671088{}^{\\prime\\prime}$"
      ],
      "text/plain": [
       "<Angle 78.49624631 deg>"
      ]
     },
     "execution_count": 110,
     "metadata": {},
     "output_type": "execute_result"
    }
   ],
   "source": [
    "sep_3"
   ]
  },
  {
   "cell_type": "markdown",
   "id": "eef15d61-40c9-4cfe-b42d-26de7732887b",
   "metadata": {},
   "source": [
    "## Problem 10\n",
    "Calculate the four sides of the Square of Pegasus. At its vertex are the stars: ‘Alpheratz’, ‘Scheat’, ‘Markab’ and ‘Algenib’."
   ]
  },
  {
   "cell_type": "code",
   "execution_count": 138,
   "id": "fd3bb822-7eb1-439b-b855-b15dc54c95cc",
   "metadata": {},
   "outputs": [],
   "source": [
    "# Your code\n",
    "from astropy.coordinates import SkyCoord\n",
    "import astropy.units as u\n",
    "\n",
    "# Retrieve coordinates for the stars at the vertices of the Square of Pegasus\n",
    "alpheratz = SkyCoord.from_name(\"Alpheratz\")\n",
    "scheat = SkyCoord.from_name(\"Scheat\")\n",
    "markab = SkyCoord.from_name(\"Markab\")\n",
    "algenib = SkyCoord.from_name(\"Algenib\")\n",
    "\n",
    "# Calculate the angular distances between the vertices\n",
    "side_1 = alpheratz.separation(scheat)  # Between Alpheratz and Scheat\n",
    "side_2 = scheat.separation(markab)     # Between Scheat and Markab\n",
    "side_3 = markab.separation(algenib)    # Between Markab and Algenib\n",
    "side_4 = algenib.separation(alpheratz) # Between Algenib and Alpheratz\n",
    "\n",
    "# Display the sides in degrees\n",
    "sides = [side_1.to(u.deg), side_2.to(u.deg), side_3.to(u.deg), side_4.to(u.deg)]"
   ]
  },
  {
   "cell_type": "code",
   "execution_count": 134,
   "id": "6bf8e7c7-6ad6-4468-9e53-c46516bf5990",
   "metadata": {},
   "outputs": [
    {
     "data": {
      "text/latex": [
       "$14^\\circ12{}^\\prime31.59613641{}^{\\prime\\prime}$"
      ],
      "text/plain": [
       "<Angle 14.2087767 deg>"
      ]
     },
     "execution_count": 134,
     "metadata": {},
     "output_type": "execute_result"
    }
   ],
   "source": [
    "side_1.to(u.deg)"
   ]
  },
  {
   "cell_type": "code",
   "execution_count": 135,
   "id": "9c11d932-9d63-4dbd-8ccf-f08502676c93",
   "metadata": {},
   "outputs": [
    {
     "data": {
      "text/latex": [
       "$12^\\circ52{}^\\prime46.37246041{}^{\\prime\\prime}$"
      ],
      "text/plain": [
       "<Angle 12.87954791 deg>"
      ]
     },
     "execution_count": 135,
     "metadata": {},
     "output_type": "execute_result"
    }
   ],
   "source": [
    "side_2.to(u.deg)"
   ]
  },
  {
   "cell_type": "code",
   "execution_count": 136,
   "id": "314b0e89-b7e2-4b83-bfd7-3292818b778d",
   "metadata": {},
   "outputs": [
    {
     "data": {
      "text/latex": [
       "$16^\\circ30{}^\\prime57.83650789{}^{\\prime\\prime}$"
      ],
      "text/plain": [
       "<Angle 16.5160657 deg>"
      ]
     },
     "execution_count": 136,
     "metadata": {},
     "output_type": "execute_result"
    }
   ],
   "source": [
    "side_3.to(u.deg)"
   ]
  },
  {
   "cell_type": "code",
   "execution_count": 137,
   "id": "8f31de6d-c1c9-40ff-8213-44431595baa2",
   "metadata": {},
   "outputs": [
    {
     "data": {
      "text/latex": [
       "$13^\\circ57{}^\\prime06.28033681{}^{\\prime\\prime}$"
      ],
      "text/plain": [
       "<Angle 13.95174454 deg>"
      ]
     },
     "execution_count": 137,
     "metadata": {},
     "output_type": "execute_result"
    }
   ],
   "source": [
    "side_4.to(u.deg)"
   ]
  },
  {
   "cell_type": "markdown",
   "id": "3912c04c-fbc0-4702-9578-caa21495b183",
   "metadata": {},
   "source": [
    "## Problem 11 - Miller's Planet\n",
    "\n",
    "In the movie Interstellar, Miller's planet experiences time dilation due to its proximity to a black hole, such that 1 hour on Miller's planet equals 7 years on Earth.\n",
    "\n",
    "Edwin Hubble first presented his findings about discovering new galaxies during a meeting at Americal Astronomical Society on 1st Jan 1925. \n",
    "\n",
    "Use astropy.time module to evaluate how many days/years it has been since this meeting. Assume today's date is 25th December 2024.\n",
    "\n",
    "Use the def_unit function of astropy to create a new unit definition, say, miller_hour which is equivalent to 7 earth years. \n",
    "\n",
    "Test your unit definition by using miller_hour.to(u.year) which should give the output 7.\n",
    "\n",
    "Find out how many hours it has been on Miller's planet since Hubble's meeting.\n"
   ]
  },
  {
   "cell_type": "code",
   "execution_count": 54,
   "id": "17ed7bee-749c-4fc2-98dd-f513f561e316",
   "metadata": {},
   "outputs": [
    {
     "data": {
      "text/latex": [
       "$2 \\; \\mathrm{miller\\_hour}$"
      ],
      "text/plain": [
       "<Quantity 2. miller_hour>"
      ]
     },
     "execution_count": 54,
     "metadata": {},
     "output_type": "execute_result"
    }
   ],
   "source": [
    "miller_hour = u.def_unit('miller_hour', 7*u.year)\n",
    "2*miller_hour"
   ]
  },
  {
   "cell_type": "code",
   "execution_count": 55,
   "id": "51119089-3de8-44ab-9222-d04096919c77",
   "metadata": {},
   "outputs": [
    {
     "data": {
      "text/plain": [
       "7.0"
      ]
     },
     "execution_count": 55,
     "metadata": {},
     "output_type": "execute_result"
    }
   ],
   "source": [
    "miller_hour.to(u.year)"
   ]
  },
  {
   "cell_type": "code",
   "execution_count": 56,
   "id": "731b844f-d5ba-450b-b03f-64d5da9aedb8",
   "metadata": {},
   "outputs": [],
   "source": [
    "a = 2*miller_hour"
   ]
  },
  {
   "cell_type": "code",
   "execution_count": 57,
   "id": "c1bc8f85-8fe6-457f-a7ea-5f54f56127cf",
   "metadata": {},
   "outputs": [
    {
     "data": {
      "text/latex": [
       "$14 \\; \\mathrm{yr}$"
      ],
      "text/plain": [
       "<Quantity 14. yr>"
      ]
     },
     "execution_count": 57,
     "metadata": {},
     "output_type": "execute_result"
    }
   ],
   "source": [
    "a.to(u.year)"
   ]
  },
  {
   "cell_type": "code",
   "execution_count": 58,
   "id": "7fac3c39-3068-403f-b2dd-b573215da7df",
   "metadata": {},
   "outputs": [
    {
     "data": {
      "text/html": [
       "<table style=\"width:50%\"><tr><th>Primary name</th><th>Unit definition</th><th>Aliases</th></tr><tr><td>a</td><td>3.15576e+07 s</td><td>annum</td></tr><tr><td>d</td><td>86400 s</td><td>day</td></tr><tr><td>fortnight</td><td>1.2096e+06 s</td><td></td></tr><tr><td>h</td><td>3600 s</td><td>hour, hr</td></tr><tr><td>min</td><td>60 s</td><td>minute</td></tr><tr><td>s</td><td>irreducible</td><td>second</td></tr><tr><td>sday</td><td>86164.1 s</td><td></td></tr><tr><td>wk</td><td>604800 s</td><td>week</td></tr><tr><td>yr</td><td>3.15576e+07 s</td><td>year</td></tr></table>"
      ],
      "text/plain": [
       "  Primary name | Unit definition | Aliases \n",
       "[\n",
       "  a            | 3.15576e+07 s   | annum    ,\n",
       "  d            | 86400 s         | day      ,\n",
       "  fortnight    | 1.2096e+06 s    |          ,\n",
       "  h            | 3600 s          | hour, hr ,\n",
       "  min          | 60 s            | minute   ,\n",
       "  s            | irreducible     | second   ,\n",
       "  sday         | 86164.1 s       |          ,\n",
       "  wk           | 604800 s        | week     ,\n",
       "  yr           | 3.15576e+07 s   | year     ,\n",
       "]"
      ]
     },
     "execution_count": 58,
     "metadata": {},
     "output_type": "execute_result"
    }
   ],
   "source": [
    "miller_hour.find_equivalent_units()"
   ]
  },
  {
   "cell_type": "code",
   "execution_count": 59,
   "id": "fc7933e9-ea13-45ea-899b-9c77ff3cd313",
   "metadata": {},
   "outputs": [
    {
     "data": {
      "text/plain": [
       "'30 November 1609'"
      ]
     },
     "execution_count": 59,
     "metadata": {},
     "output_type": "execute_result"
    }
   ],
   "source": [
    "'30 November 1609'"
   ]
  },
  {
   "cell_type": "code",
   "execution_count": 60,
   "id": "e87d1acf-c7e6-4918-85d7-90414bf8dbad",
   "metadata": {},
   "outputs": [
    {
     "name": "stderr",
     "output_type": "stream",
     "text": [
      "/Users/pratik/opt/miniconda3/envs/SETU/lib/python3.11/site-packages/erfa/core.py:133: ErfaWarning: ERFA function \"dtf2d\" yielded 1 of \"dubious year (Note 6)\"\n",
      "  warn(f'ERFA function \"{func_name}\" yielded {wmsg}', ErfaWarning)\n"
     ]
    }
   ],
   "source": [
    "from astropy.time import Time\n",
    "\n",
    "hubble_date = Time('1925-01-01')\n",
    "today_date = Time('2024-12-25')"
   ]
  },
  {
   "cell_type": "code",
   "execution_count": 61,
   "id": "23894f99-fb74-4e5d-ae46-ad6f3f763e52",
   "metadata": {},
   "outputs": [
    {
     "name": "stderr",
     "output_type": "stream",
     "text": [
      "/Users/pratik/opt/miniconda3/envs/SETU/lib/python3.11/site-packages/erfa/core.py:133: ErfaWarning: ERFA function \"utctai\" yielded 1 of \"dubious year (Note 3)\"\n",
      "  warn(f'ERFA function \"{func_name}\" yielded {wmsg}', ErfaWarning)\n"
     ]
    },
    {
     "data": {
      "text/latex": [
       "$99.980836 \\; \\mathrm{yr}$"
      ],
      "text/plain": [
       "<Quantity 99.98083622 yr>"
      ]
     },
     "execution_count": 61,
     "metadata": {},
     "output_type": "execute_result"
    }
   ],
   "source": [
    "(today_date - hubble_date).to(u.year)"
   ]
  },
  {
   "cell_type": "code",
   "execution_count": 62,
   "id": "c84c46c1-9add-466d-b7bc-06fe9aa06951",
   "metadata": {},
   "outputs": [],
   "source": [
    "earth_time = (today_date - hubble_date).to(u.year)"
   ]
  },
  {
   "cell_type": "code",
   "execution_count": 63,
   "id": "c1fcf7b6-d612-4288-a829-fc4a9a9fa767",
   "metadata": {},
   "outputs": [
    {
     "data": {
      "text/latex": [
       "$14.282977 \\; \\mathrm{miller\\_hour}$"
      ],
      "text/plain": [
       "<Quantity 14.2829766 miller_hour>"
      ]
     },
     "execution_count": 63,
     "metadata": {},
     "output_type": "execute_result"
    }
   ],
   "source": [
    "miller_time = earth_time.to(miller_hour)\n",
    "miller_time"
   ]
  },
  {
   "cell_type": "markdown",
   "id": "0b15cc26-f896-4905-b196-3514d7b5dfc5",
   "metadata": {},
   "source": [
    "## Problem 12 - Curve Fitting\n",
    "\n",
    "You are provided with a noisy dataset that represents some physical phenomenon. The data contains underlying exponential, logarithmic and polynomical components. Your task is to apply curve fitting techniques to this data using exponential, logarithmic and polynomical functions, and determine the best fitting model.\n",
    "\n",
    "The simulated dataset contains two columns `x`(independent variable) and `y`(dependent variable). Your objective is to fit the data to three different models and evaluate the goodness of the fit.\n",
    "\n",
    "1. Load the data from provided csv file `astronomy_fit_data.csv`\n",
    "2. Create three functions for Exponential model, logarithmic model and polynomial model (degree 4)\n",
    "\n",
    "You can use these equations for your model\n",
    "\n",
    "\n",
    "\\begin{align*}\n",
    "\\textbf{Exponential:} \\quad & y(x) = G \\cdot e^{H \\cdot x} \\\\\n",
    "\\\\\n",
    "\\textbf{Logarithmic:} \\quad & y(x) = D \\cdot \\log(E \\cdot x + F) \\\\\n",
    "\\\\\n",
    "\\textbf{Polynomial:} \\quad & y(x) = I \\cdot x^4 + J \\cdot x^3 + K \\cdot x^2 + L \\cdot x\n",
    "\\end{align*}\n",
    "\n",
    "\n",
    "\n",
    "For the initial conditions you can use these values\n",
    "\n",
    "\\begin{align}\n",
    "\\textbf{Exponential:} \\quad & G = 10, \\quad H = -0.1 \\\\\n",
    "\\textbf{Logarithmic:} \\quad & D = 8, \\quad E = 2, \\quad F = 2 \\\\\n",
    "\\textbf{Polynomial:} \\quad & I = 0.5, \\quad J = -2, \\quad K = 6, \\quad L = -15\n",
    "\\end{align}\n",
    "\n",
    "\n",
    "Visualise the data first.\n",
    "\n",
    "Then visualise all three fits in the same plot.\n",
    "\n",
    "Use $R^2$ value for eachmodel to evaluate the goodness and determine which function is the best fit using this value.\n",
    "\n",
    "Try using different initial condition values to determine if the goodness of the fit increases or decreases.\n",
    "\n",
    "It is possible that you will face the below error when trying to fit the curve.\n",
    "\n",
    "```RuntimeError: Optimal parameters not found: Number of calls to function has reached maxfev = 800.```\n",
    "\n",
    "Debugging is part of learning, so try to find solution to how you can mitigate this error.\n"
   ]
  },
  {
   "cell_type": "code",
   "execution_count": 64,
   "id": "3ebed30b-b8a2-4c8e-8041-f80750d0b445",
   "metadata": {},
   "outputs": [
    {
     "data": {
      "image/png": "[encoded data removed]",
      "text/plain": [
       "<Figure size 640x480 with 1 Axes>"
      ]
     },
     "metadata": {},
     "output_type": "display_data"
    }
   ],
   "source": [
    "# Your code \n",
    "\n",
    "import pandas as pd\n",
    "import numpy as np\n",
    "import matplotlib.pyplot as plt\n",
    "\n",
    "# Load the dataset\n",
    "df = pd.read_csv('astronomy_fit_data.csv')\n",
    "\n",
    "# Extract x and y values\n",
    "x = df['x']\n",
    "y = df['y']\n",
    "\n",
    "# Plot the noisy data\n",
    "plt.scatter(x, y, label=\"Noisy Data\", color=\"r\", alpha=0.6)\n",
    "plt.xlabel('x')\n",
    "plt.ylabel('y')\n",
    "plt.title('Noisy Data')\n",
    "plt.legend()\n",
    "plt.show()"
   ]
  },
  {
   "cell_type": "code",
   "execution_count": 65,
   "id": "34908984-e4c4-44aa-8131-20cb02e783c2",
   "metadata": {},
   "outputs": [
    {
     "name": "stderr",
     "output_type": "stream",
     "text": [
      "/Users/pratik/opt/miniconda3/envs/SETU/lib/python3.11/site-packages/pandas/core/arraylike.py:399: RuntimeWarning: invalid value encountered in log\n",
      "  result = getattr(ufunc, method)(*inputs, **kwargs)\n"
     ]
    },
    {
     "data": {
      "image/png": "[encoded data removed]",
      "text/plain": [
       "<Figure size 1000x600 with 1 Axes>"
      ]
     },
     "metadata": {},
     "output_type": "display_data"
    }
   ],
   "source": [
    "from scipy.optimize import curve_fit\n",
    "import numpy as np\n",
    "import matplotlib.pyplot as plt\n",
    "\n",
    "# Exponential function\n",
    "def exp_func(x, G, H):\n",
    "    return G * np.exp(H * x)\n",
    "\n",
    "# Logarithmic function\n",
    "def log_func(x, D, E, F):\n",
    "    return D * np.log(E * x + F)\n",
    "\n",
    "\n",
    "# Polynomial function (4th degree)\n",
    "def poly_func(x, I, J, K, L):\n",
    "    return I * x**4 + J * x**3 + K * x**2 + L * x\n",
    "\n",
    "# Providing better initial guesses and increasing maxfev\n",
    "p0_exp = [10, -0.1]  # Reasonable initial guesses for exponential\n",
    "p0_log = [8, 2, 2]   # Reasonable initial guesses for logarithmic\n",
    "p0_poly = [0.5, -2, 6, -15]  # Reasonable initial guesses for polynomial\n",
    "\n",
    "# Fit the exponential model with increased maxfev\n",
    "params_exp, params_exp_cov = curve_fit(exp_func, x, y, p0=p0_exp, maxfev=10000)\n",
    "\n",
    "# Fit the logarithmic model with increased maxfev\n",
    "params_log, params_log_cov = curve_fit(log_func, x, y, p0=p0_log, maxfev=10000)\n",
    "\n",
    "\n",
    "# Fit the polynomial model (degree 4) with increased maxfev\n",
    "params_poly, params_poly_cov = curve_fit(poly_func, x, y, p0=p0_poly, maxfev=10000)\n",
    "\n",
    "# Plot the results\n",
    "plt.figure(figsize=(10, 6))\n",
    "\n",
    "# Plot the noisy data\n",
    "plt.scatter(x, y, label=\"Noisy Data\", color=\"r\", alpha=0.6)\n",
    "\n",
    "# Plot the fits\n",
    "x_fit = np.linspace(0.1, 10, 100)\n",
    "plt.plot(x_fit, exp_func(x_fit, *params_exp), label=\"Exponential Fit\", color=\"b\")\n",
    "plt.plot(x_fit, log_func(x_fit, *params_log), label=\"Logarithmic Fit\", color=\"g\")\n",
    "plt.plot(x_fit, poly_func(x_fit, *params_poly), label=\"Polynomial Fit\", color=\"purple\")\n",
    "\n",
    "plt.xlabel('x')\n",
    "plt.ylabel('y')\n",
    "plt.title('Curve Fitting to Noisy Data')\n",
    "plt.legend()\n",
    "plt.show()\n"
   ]
  },
  {
   "cell_type": "code",
   "execution_count": 66,
   "id": "8153f460-b574-46a5-8b06-e2034009b58c",
   "metadata": {},
   "outputs": [
    {
     "name": "stdout",
     "output_type": "stream",
     "text": [
      "R^2 for Exponential Fit: 0.8697\n",
      "R^2 for Logarithmic Fit: 0.6120\n",
      "R^2 for Polynomial Fit: 0.8853\n"
     ]
    }
   ],
   "source": [
    "# Function to calculate R^2 value\n",
    "def r_squared(y_true, y_fit):\n",
    "    return 1 - np.sum((y_true - y_fit)**2) / np.sum((y_true - np.mean(y_true))**2)\n",
    "\n",
    "# Calculate R^2 for each model\n",
    "y_exp_fit = exp_func(x, *params_exp)\n",
    "y_log_fit = log_func(x, *params_log)\n",
    "y_poly_fit = poly_func(x, *params_poly)\n",
    "\n",
    "r2_exp = r_squared(y, y_exp_fit)\n",
    "r2_log = r_squared(y, y_log_fit)\n",
    "r2_poly = r_squared(y, y_poly_fit)\n",
    "\n",
    "# Print R^2 values\n",
    "print(f'R^2 for Exponential Fit: {r2_exp:.4f}')\n",
    "print(f'R^2 for Logarithmic Fit: {r2_log:.4f}')\n",
    "print(f'R^2 for Polynomial Fit: {r2_poly:.4f}')"
   ]
  },
  {
   "cell_type": "markdown",
   "id": "cef81c59-1b0d-47f8-bdcb-cad0dd1493c7",
   "metadata": {},
   "source": [
    "## Problem 13 - Galactic Time Zones\n",
    "\n",
    "The Milky Way rotates around its center such that the Sun takes approximately 225 million years to complete one orbit, known as the \"Galactic Year.\"  \n",
    "\n",
    "- Using the `astropy.units` module, define a new time unit called `galactic_year`.  \n",
    "- Calculate how many Galactic Years have passed since the Solar System's formation (~4.6 billion years ago).  \n",
    "- Bonus: If one Galactic Year is divided into 12 Galactic Months, how many Galactic Months has the Solar System existed?"
   ]
  },
  {
   "cell_type": "code",
   "execution_count": 67,
   "id": "9b025502-34a6-430b-97dd-af660b2948cc",
   "metadata": {},
   "outputs": [
    {
     "name": "stdout",
     "output_type": "stream",
     "text": [
      "Galactic Years since Solar System formation: 20.44\n",
      "Galactic Months since Solar System formation: 245.33\n"
     ]
    }
   ],
   "source": [
    "# Your code \n",
    "import astropy.units as u\n",
    "\n",
    "# Define a new time unit for the Galactic Year\n",
    "galactic_year = 225e6 * u.yr  # 225 million years\n",
    "\n",
    "# Solar System's formation age in years\n",
    "solar_system_age = 4.6e9 * u.yr  # 4.6 billion years\n",
    "\n",
    "# Calculate the number of Galactic Years since the formation of the Solar System\n",
    "galactic_years = solar_system_age / galactic_year\n",
    "print(f\"Galactic Years since Solar System formation: {galactic_years:.2f}\")\n",
    "\n",
    "# Bonus: Calculate the number of Galactic Months (1 Galactic Year = 12 Galactic Months)\n",
    "galactic_months = galactic_years * 12\n",
    "print(f\"Galactic Months since Solar System formation: {galactic_months:.2f}\")"
   ]
  },
  {
   "cell_type": "markdown",
   "id": "c48a1ba1-74aa-47b2-aebd-3defb7dd45ff",
   "metadata": {},
   "source": [
    "## Problem 14 - Supernova Timing\n",
    "Type Ia supernovae are standard candles used to measure cosmic distances. Their luminosity fades over time according to the formula $$ L(t) = L_0 e^{-kt} $$\n",
    "\n",
    "where $ L_0 $ is the initial luminosity and $ k $ is the decay constant. Assume $ L_0 = 10^9 $ $L_\\odot$ and $ k = 0.693 $ and $t$ is time in days.\n",
    "\n",
    "To solve for the time \\( t \\) when the luminosity drops to $ L(t) = L_{\\text{target}} = $ $ 10^6 $ $L_\\odot$, we rearrange the equation:\n",
    "\n",
    "$$\n",
    "L(t) = L_0 e^{-kt} \\quad \\Rightarrow \\quad t = \\frac{\\ln(L_0 / L(t))}{k}\n",
    "$$\n",
    "\n",
    "- Using `numpy` and `matplotlib`, plot the luminosity decay over 50 days.  \n",
    "- Calculate how long it will take for the luminosity to drop to $ 10^6 $ $L_\\odot$"
   ]
  },
  {
   "cell_type": "code",
   "execution_count": 68,
   "id": "6e4c43ef-adc0-48d8-a278-ecdf16e60e5b",
   "metadata": {},
   "outputs": [
    {
     "data": {
      "image/png": "[encoded data removed]",
      "text/plain": [
       "<Figure size 800x600 with 1 Axes>"
      ]
     },
     "metadata": {},
     "output_type": "display_data"
    },
    {
     "name": "stdout",
     "output_type": "stream",
     "text": [
      "Time for luminosity to drop to 1000000.0 L_sun: 9.97 days\n"
     ]
    }
   ],
   "source": [
    "import numpy as np\n",
    "import matplotlib.pyplot as plt\n",
    "\n",
    "# Given constants\n",
    "L0 = 1e9  # Initial luminosity in L_sun\n",
    "k = 0.693  # Decay constant in 1/day\n",
    "L_target = 1e6  # Target luminosity in L_sun\n",
    "\n",
    "# Time values (0 to 100 days)\n",
    "t = np.linspace(0, 50, 500)\n",
    "\n",
    "# Luminosity decay function L(t)\n",
    "L_t = L0 * np.exp(-k * t)\n",
    "\n",
    "# Plot the luminosity decay\n",
    "plt.figure(figsize=(8, 6))\n",
    "plt.plot(t, L_t, label=r\"$L(t) = L_0 e^{-kt}$\")\n",
    "plt.axhline(L_target, color='r', linestyle='--', label=f\"Target Luminosity = {L_target} $L_\\\\odot$\")\n",
    "plt.title(\"Luminosity Decay of Type Ia Supernova\")\n",
    "plt.xlabel(\"Time (days)\")\n",
    "plt.ylabel(\"Luminosity ($L_\\\\odot$)\")\n",
    "plt.legend()\n",
    "plt.grid(True)\n",
    "plt.show()\n",
    "\n",
    "# Calculate time for luminosity to drop to L_target\n",
    "t_target = np.log(L0 / L_target) / k\n",
    "print(f\"Time for luminosity to drop to {L_target} L_sun: {t_target:.2f} days\")\n"
   ]
  },
  {
   "cell_type": "markdown",
   "id": "521531b5-6f10-4692-8073-6ec97948e2e7",
   "metadata": {},
   "source": [
    "## Problem 15 - Calculating the Area Spanned by Three Stars\n",
    "\n",
    "\n",
    "Consider three stars in the sky, each with known Right Ascension (RA) and Declination (Dec) coordinates in the International Celestial Reference System (ICRS). You are tasked with calculating the area spanned by these three stars, forming a [spherical triangle](https://en.wikipedia.org/wiki/Spherical_trigonometry#Notation).\n",
    "\n",
    "\n",
    "\n",
    "Given the coordinates of the stars in RA and Dec, your goal is to calculate the angular separation between each pair of stars, then use the law of cosines to find the angles of the spherical triangle formed by the stars. Finally, apply the spherical excess formula to determine the area of the spherical triangle on the unit sphere.\n",
    "\n",
    "### Coordinates of the Stars:\n",
    "\n",
    "1. **Pleiades**: RA = 03h 48m 30.4s, Dec = +24°11'44.8\"\n",
    "2. **Aldebaran**: RA = 04h 37m 22.7s, Dec = +16°33'36.4\"\n",
    "3. **Capella**: RA = 05h 18m 34.2s, Dec = +46°01'26.1\"\n",
    "\n",
    "### Steps to Solve:\n",
    "\n",
    "1. **Convert the RA and Dec** of the stars into SkyCoord objects in the ICRS frame using Astropy.\n",
    "2. **Calculate the angular separation** between each pair of stars.\n",
    "3. **Convert the angular separations** from degrees to radians.\n",
    "4. **[Apply the law of cosines](https://en.wikipedia.org/wiki/Spherical_trigonometry#Supplemental_cosine_rules)** to calculate the angles at each vertex of the spherical triangle formed by the stars:\n",
    "   - Formula for the angles:\n",
    "     - For angle 1 (opposite side `sep12` =`pleiades.separation(aldebaran)`):\n",
    "       $$ \\cos(\t\\theta_1) = \\dfrac{\\cos(\t\\text{sep23}) - \\cos(\t\\text{sep12}) \\cdot \\cos(\t\\text{sep31})}{\\sin(\t\\text{sep12}) \\cdot \\sin(\t\\text{sep31})} $$\n",
    "     - For angle 2 (opposite side `sep23` = `aldebaran.separation(capella)`):\n",
    "       $$ \\cos(\t\\theta_2) = \\dfrac{\\cos(\t\\text{sep31}) - \\cos(\t\\text{sep12}) \\cdot \\cos(\t\\text{sep23})}{\\sin(\t\\text{sep12}) \\cdot \\sin(\t\\text{sep23})} $$\n",
    "     - For angle 3 (opposite side `sep31` = `capella.separation(pleiades)`):\n",
    "       $$ \\cos(\t\\theta_3) = \\dfrac{\\cos(\t\\text{sep12}) - \\cos(\t\\text{sep31}) \\cdot \\cos(\t\\text{sep23})}{\\sin(\t\\text{sep31}) \\cdot \\sin(\t\\text{sep23})} $$\n",
    "\n",
    "5. **Calculate the angles** using the arccosine function. Once you find $\\cos(\\theta)$ you can use this code line to find theta values `theta1 = np.arccos(np.clip(cos_angle1, -1.0, 1.0))` Here the np.clip function is used to prevent errors due to numerical inaccuracies when computing the inverse cosine. \n",
    "6. **Apply the spherical excess formula** to find the area of the spherical triangle:\n",
    "   $$ \t\\text{Area} = \t\\theta_1 + \t\\theta_2 + \t\\theta_3 - \\pi $$\n",
    "\n",
    "   The area is the spherical excess in **steradians**.\n",
    "\n"
   ]
  },
  {
   "cell_type": "code",
   "execution_count": 69,
   "id": "4b3f0791-8510-4181-80f5-45a4a901e324",
   "metadata": {},
   "outputs": [
    {
     "name": "stdout",
     "output_type": "stream",
     "text": [
      "Spherical Triangle Area: 0.0608 steradians\n"
     ]
    }
   ],
   "source": [
    "# Your code \n",
    "from astropy.coordinates import SkyCoord\n",
    "import astropy.units as u\n",
    "import numpy as np\n",
    "\n",
    "# Define the coordinates of the three stars in RA, Dec (in degrees)\n",
    "pleiades = SkyCoord(ra='03h 48m30.4s', dec=\"+24°11' 44.8\", frame='icrs')  # Example: RA, Dec of the Pleiades\n",
    "aldebaran = SkyCoord(ra='04h 37m22.7s', dec=\"+16°33'36.4\", frame='icrs')  # Example: RA, Dec of Aldebaran\n",
    "capella = SkyCoord(ra='05h 18m34.2s', dec=\"+46°01'26.1\", frame='icrs')  # Example: RA, Dec of a star\n",
    "\n",
    "# Calculate the angular separations between the stars\n",
    "sep12 = pleiades.separation(aldebaran)  # Separation between star 1 and star 2\n",
    "sep23 = aldebaran.separation(capella)  # Separation between star 2 and star 3\n",
    "sep31 = capella.separation(pleiades)  # Separation between star 3 and star 1\n",
    "\n",
    "# Convert the angular separations to radians\n",
    "sep12_rad = sep12.to(u.rad).value\n",
    "sep23_rad = sep23.to(u.rad).value\n",
    "sep31_rad = sep31.to(u.rad).value\n",
    "\n",
    "# Calculate the angles at the vertices of the spherical triangle (using the law of cosines)\n",
    "# Law of cosines formula: cos(c) = cos(a)cos(b) + sin(a)sin(b)cos(C)\n",
    "# where a, b, and c are the sides of the triangle, and C is the angle opposite side c.\n",
    "\n",
    "# Now, apply spherical excess formula to calculate the area\n",
    "# First calculate the angles at each vertex\n",
    "cos_angle1 = (np.cos(sep23_rad) - np.cos(sep12_rad) * np.cos(sep31_rad)) / (np.sin(sep12_rad) * np.sin(sep31_rad))\n",
    "cos_angle2 = (np.cos(sep31_rad) - np.cos(sep12_rad) * np.cos(sep23_rad)) / (np.sin(sep12_rad) * np.sin(sep23_rad))\n",
    "cos_angle3 = (np.cos(sep12_rad) - np.cos(sep31_rad) * np.cos(sep23_rad)) / (np.sin(sep31_rad) * np.sin(sep23_rad))\n",
    "\n",
    "angle1 = np.arccos(np.clip(cos_angle1, -1.0, 1.0))\n",
    "angle2 = np.arccos(np.clip(cos_angle2, -1.0, 1.0))\n",
    "angle3 = np.arccos(np.clip(cos_angle3, -1.0, 1.0))\n",
    "\n",
    "# Calculate the spherical excess (area of the spherical triangle)\n",
    "spherical_excess = angle1 + angle2 + angle3 - np.pi\n",
    "\n",
    "# The area on a unit sphere is equal to the spherical excess in steradians\n",
    "print(f\"Spherical Triangle Area: {spherical_excess:.4f} steradians\")\n"
   ]
  },
  {
   "cell_type": "code",
   "execution_count": 72,
   "id": "6019ca8d-98ff-4007-8663-e6fdc43ba056",
   "metadata": {},
   "outputs": [
    {
     "data": {
      "image/png": "[encoded data removed]",
      "text/plain": [
       "<Figure size 800x600 with 1 Axes>"
      ]
     },
     "metadata": {},
     "output_type": "display_data"
    }
   ],
   "source": [
    "import matplotlib.pyplot as plt\n",
    "from astropy.coordinates import SkyCoord\n",
    "import astropy.units as u\n",
    "\n",
    "# Example SkyCoord objects for Pleiades, Aldebaran, and Capella\n",
    "pleiades = SkyCoord(ra=10.684*u.deg, dec=41.269*u.deg, frame='icrs')\n",
    "aldebaran = SkyCoord(ra=83.822*u.deg, dec=-5.391*u.deg, frame='icrs')\n",
    "capella = SkyCoord(ra=79.172*u.deg, dec=45.997*u.deg, frame='icrs')\n",
    "\n",
    "# Convert RA, Dec to radians\n",
    "ra_pleiades = pleiades.ra.to(u.rad).value\n",
    "dec_pleiades = pleiades.dec.to(u.rad).value\n",
    "ra_aldebaran = aldebaran.ra.to(u.rad).value\n",
    "dec_aldebaran = aldebaran.dec.to(u.rad).value\n",
    "ra_capella = capella.ra.to(u.rad).value\n",
    "dec_capella = capella.dec.to(u.rad).value\n",
    "\n",
    "# Plotting using Mollweide projection\n",
    "fig = plt.figure(figsize=(8, 6))\n",
    "ax = fig.add_subplot(111, projection='mollweide')\n",
    "\n",
    "# Plot the stars\n",
    "ax.scatter(ra_pleiades, dec_pleiades, label='Pleiades', color='blue', s=100, marker='*')\n",
    "ax.scatter(ra_aldebaran, dec_aldebaran, label='Aldebaran', color='red', s=100, marker='*')\n",
    "ax.scatter(ra_capella, dec_capella, label='Capella', color='green', s=100, marker='*')\n",
    "\n",
    "# Adding labels and title\n",
    "ax.legend(loc='upper left')\n",
    "ax.set_xlabel('Right Ascension (RA)')\n",
    "ax.set_ylabel('Declination (Dec)')\n",
    "ax.set_title('Mollweide Projection of Stars')\n",
    "ax.grid()\n",
    "plt.show()\n"
   ]
  }
 ],
 "metadata": {
  "kernelspec": {
   "display_name": "Python 3 (ipykernel)",
   "language": "python",
   "name": "python3"
  },
  "language_info": {
   "codemirror_mode": {
    "name": "ipython",
    "version": 3
   },
   "file_extension": ".py",
   "mimetype": "text/x-python",
   "name": "python",
   "nbconvert_exporter": "python",
   "pygments_lexer": "ipython3",
   "version": "3.11.8"
  }
 },
 "nbformat": 4,
 "nbformat_minor": 5
}
