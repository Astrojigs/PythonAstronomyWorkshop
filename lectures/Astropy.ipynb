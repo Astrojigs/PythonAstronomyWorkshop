{
 "cells": [
  {
   "cell_type": "markdown",
   "id": "8ff9ded0-80f0-45ff-97af-addebbc4bd28",
   "metadata": {},
   "source": [
    "- What is Astropy?\n",
    "- Units (and unit conversion)\n",
    "- Constants\n",
    "- Coordinates Module (angular seperation between two objects with RA and DEC)\n",
    "- Time Module\n",
    "- FITS file Handling\n",
    "- Plotting FITS data\n",
    "- Astropy tables"
   ]
  },
  {
   "cell_type": "markdown",
   "id": "2efbd9fc-a570-4b5f-8577-fbff4f5dfe4a",
   "metadata": {},
   "source": [
    "# Introduction to Astropy\n",
    "\n",
    "Astropy is a Python library designed for astronomy and astrophysics. It's a robust and well documented tool for \n",
    "- Handing units and constants\n",
    "- Working with astronomical coordinates.\n",
    "- Manipulating and visualising FITS files.\n",
    "\n",
    "```pip install astropy```\n",
    "\n",
    "Use this command to install the library."
   ]
  },
  {
   "cell_type": "markdown",
   "id": "c0d716be-7708-49ad-9fc9-2b5b66a43636",
   "metadata": {},
   "source": [
    "## astropy.units\n",
    "\n",
    "This module is designed to handle physical quantities with associated units. it allows for clear, consistent and accurate handing of units in calculations reducing the risk of errors due to unit mismatches.\n",
    "\n",
    "Supports arithmetic operations on units, create composite units like m/s or kg.m/s^2\n",
    "\n",
    "Allows easy conversion between compatible units. (It actually raises an error if you try to convert kg to meters.)\n",
    "\n",
    "Documentation - https://docs.astropy.org/en/stable/units/index.html"
   ]
  },
  {
   "cell_type": "code",
   "execution_count": 9,
   "id": "3e233591-a67c-4aa4-bae3-99088498d6f1",
   "metadata": {},
   "outputs": [],
   "source": [
    "import numpy as np\n",
    "import astropy.units as u"
   ]
  },
  {
   "cell_type": "code",
   "execution_count": 10,
   "id": "5f15f182-3498-4137-bac8-4632b6d84080",
   "metadata": {},
   "outputs": [
    {
     "data": {
      "text/latex": [
       "$\\mathrm{m}$"
      ],
      "text/plain": [
       "Unit(\"m\")"
      ]
     },
     "execution_count": 10,
     "metadata": {},
     "output_type": "execute_result"
    }
   ],
   "source": [
    "u.m"
   ]
  },
  {
   "cell_type": "code",
   "execution_count": 13,
   "id": "b784fd68-9a03-4a88-b6a0-af81bf53e9ab",
   "metadata": {},
   "outputs": [
    {
     "data": {
      "text/latex": [
       "$\\mathrm{m}$"
      ],
      "text/plain": [
       "Unit(\"m\")"
      ]
     },
     "execution_count": 13,
     "metadata": {},
     "output_type": "execute_result"
    }
   ],
   "source": [
    "u.m"
   ]
  },
  {
   "cell_type": "code",
   "execution_count": 14,
   "id": "ca440366-e171-472a-a5d1-53a69c412991",
   "metadata": {},
   "outputs": [
    {
     "data": {
      "text/latex": [
       "$2 \\; \\mathrm{m}$"
      ],
      "text/plain": [
       "<Quantity 2. m>"
      ]
     },
     "execution_count": 14,
     "metadata": {},
     "output_type": "execute_result"
    }
   ],
   "source": [
    "2 * u.m"
   ]
  },
  {
   "cell_type": "code",
   "execution_count": 16,
   "id": "ee788b14-c490-4190-90f7-732bcee861b7",
   "metadata": {},
   "outputs": [],
   "source": [
    "r = 2*u.m\n",
    "d = 2*r"
   ]
  },
  {
   "cell_type": "code",
   "execution_count": 18,
   "id": "d92fe664-b27d-4429-9b5e-071cb001a784",
   "metadata": {},
   "outputs": [
    {
     "data": {
      "text/plain": [
       "4.0"
      ]
     },
     "execution_count": 18,
     "metadata": {},
     "output_type": "execute_result"
    }
   ],
   "source": [
    "d.value"
   ]
  },
  {
   "cell_type": "code",
   "execution_count": 20,
   "id": "85fb8a97-00b9-46bd-a25c-deaabc6930bb",
   "metadata": {},
   "outputs": [
    {
     "data": {
      "text/plain": [
       "PhysicalType('time')"
      ]
     },
     "execution_count": 20,
     "metadata": {},
     "output_type": "execute_result"
    }
   ],
   "source": [
    "u.s.physical_type"
   ]
  },
  {
   "cell_type": "code",
   "execution_count": 24,
   "id": "4825b1d5-8ada-4b73-9bcb-357c56263b4e",
   "metadata": {},
   "outputs": [
    {
     "data": {
      "text/latex": [
       "$\\mathrm{\\frac{kg\\,m}{s^{2}}}$"
      ],
      "text/plain": [
       "Unit(\"kg m / s2\")"
      ]
     },
     "execution_count": 24,
     "metadata": {},
     "output_type": "execute_result"
    }
   ],
   "source": [
    "u.newton.decompose()"
   ]
  },
  {
   "cell_type": "code",
   "execution_count": 38,
   "id": "eaa9fb40-9514-454e-b005-49e1565919d0",
   "metadata": {},
   "outputs": [
    {
     "data": {
      "text/latex": [
       "$\\mathrm{J}$"
      ],
      "text/plain": [
       "Unit(\"J\")"
      ]
     },
     "execution_count": 38,
     "metadata": {},
     "output_type": "execute_result"
    }
   ],
   "source": [
    "u.Joule"
   ]
  },
  {
   "cell_type": "code",
   "execution_count": 40,
   "id": "3ab42966-aea8-4be9-ac8e-7fee66c14789",
   "metadata": {},
   "outputs": [
    {
     "data": {
      "text/latex": [
       "$\\mathrm{\\frac{m^{2}\\,kg}{s^{2}}}$"
      ],
      "text/plain": [
       "Unit(\"m2 kg / s2\")"
      ]
     },
     "execution_count": 40,
     "metadata": {},
     "output_type": "execute_result"
    }
   ],
   "source": [
    "u.Joule.decompose()"
   ]
  },
  {
   "cell_type": "code",
   "execution_count": 37,
   "id": "a5f8f9f5-2d3d-4920-ac7b-743a5c6f9425",
   "metadata": {},
   "outputs": [
    {
     "data": {
      "text/plain": [
       "PhysicalType({'energy', 'torque', 'work'})"
      ]
     },
     "execution_count": 37,
     "metadata": {},
     "output_type": "execute_result"
    }
   ],
   "source": [
    "u.Joule.physical_type"
   ]
  },
  {
   "cell_type": "code",
   "execution_count": 41,
   "id": "90d99fdf-d1db-4bdf-866e-16755b00b9dd",
   "metadata": {},
   "outputs": [
    {
     "data": {
      "text/html": [
       "<table style=\"width:50%\"><tr><th>Primary name</th><th>Unit definition</th><th>Aliases</th></tr><tr><td>J</td><td>m2 kg / s2</td><td>Joule, joule</td></tr><tr><td>Ry</td><td>2.17987e-18 m2 kg / s2</td><td>rydberg</td></tr><tr><td>eV</td><td>1.60218e-19 m2 kg / s2</td><td>electronvolt</td></tr><tr><td>erg</td><td>1e-07 m2 kg / s2</td><td></td></tr><tr><td>foe</td><td>1e+44 m2 kg / s2</td><td>Bethe, bethe</td></tr></table>"
      ],
      "text/plain": [
       "  Primary name | Unit definition        | Aliases     \n",
       "[\n",
       "  J            | m2 kg / s2             | Joule, joule ,\n",
       "  Ry           | 2.17987e-18 m2 kg / s2 | rydberg      ,\n",
       "  eV           | 1.60218e-19 m2 kg / s2 | electronvolt ,\n",
       "  erg          | 1e-07 m2 kg / s2       |              ,\n",
       "  foe          | 1e+44 m2 kg / s2       | Bethe, bethe ,\n",
       "]"
      ]
     },
     "execution_count": 41,
     "metadata": {},
     "output_type": "execute_result"
    }
   ],
   "source": [
    "u.Joule.find_equivalent_units()"
   ]
  },
  {
   "cell_type": "code",
   "execution_count": 46,
   "id": "958f248d-da7a-473c-8cc6-2bfb42117607",
   "metadata": {},
   "outputs": [
    {
     "data": {
      "text/plain": [
       "1e-44"
      ]
     },
     "execution_count": 46,
     "metadata": {},
     "output_type": "execute_result"
    }
   ],
   "source": [
    "u.Joule.to(u.foe)"
   ]
  },
  {
   "cell_type": "code",
   "execution_count": 25,
   "id": "39c04199-91b8-4a81-bf72-5803d38642c5",
   "metadata": {},
   "outputs": [
    {
     "data": {
      "text/html": [
       "<table style=\"width:50%\"><tr><th>Primary name</th><th>Unit definition</th><th>Aliases</th></tr><tr><td>N</td><td>kg m / s2</td><td>Newton, newton</td></tr><tr><td>dyn</td><td>1e-05 kg m / s2</td><td>dyne</td></tr></table>"
      ],
      "text/plain": [
       "  Primary name | Unit definition | Aliases       \n",
       "[\n",
       "  N            | kg m / s2       | Newton, newton ,\n",
       "  dyn          | 1e-05 kg m / s2 | dyne           ,\n",
       "]"
      ]
     },
     "execution_count": 25,
     "metadata": {},
     "output_type": "execute_result"
    }
   ],
   "source": [
    "u.newton.find_equivalent_units()"
   ]
  },
  {
   "cell_type": "code",
   "execution_count": 12,
   "id": "c2fda772-37ab-47cb-9f96-29d059ffe2f8",
   "metadata": {},
   "outputs": [
    {
     "data": {
      "text/html": [
       "<table style=\"width:50%\"><tr><th>Primary name</th><th>Unit definition</th><th>Aliases</th></tr><tr><td>AU</td><td>1.49598e+11 m</td><td>au, astronomical_unit</td></tr><tr><td>Angstrom</td><td>1e-10 m</td><td>AA, angstrom</td></tr><tr><td>cm</td><td>0.01 m</td><td>centimeter</td></tr><tr><td>earthRad</td><td>6.3781e+06 m</td><td>R_earth, Rearth</td></tr><tr><td>jupiterRad</td><td>7.1492e+07 m</td><td>R_jup, Rjup, R_jupiter, Rjupiter</td></tr><tr><td>lsec</td><td>2.99792e+08 m</td><td>lightsecond</td></tr><tr><td>lyr</td><td>9.46073e+15 m</td><td>lightyear</td></tr><tr><td>m</td><td>irreducible</td><td>meter</td></tr><tr><td>micron</td><td>1e-06 m</td><td></td></tr><tr><td>pc</td><td>3.08568e+16 m</td><td>parsec</td></tr><tr><td>solRad</td><td>6.957e+08 m</td><td>R_sun, Rsun</td></tr></table>"
      ],
      "text/plain": [
       "  Primary name | Unit definition | Aliases                         \n",
       "[\n",
       "  AU           | 1.49598e+11 m   | au, astronomical_unit            ,\n",
       "  Angstrom     | 1e-10 m         | AA, angstrom                     ,\n",
       "  cm           | 0.01 m          | centimeter                       ,\n",
       "  earthRad     | 6.3781e+06 m    | R_earth, Rearth                  ,\n",
       "  jupiterRad   | 7.1492e+07 m    | R_jup, Rjup, R_jupiter, Rjupiter ,\n",
       "  lsec         | 2.99792e+08 m   | lightsecond                      ,\n",
       "  lyr          | 9.46073e+15 m   | lightyear                        ,\n",
       "  m            | irreducible     | meter                            ,\n",
       "  micron       | 1e-06 m         |                                  ,\n",
       "  pc           | 3.08568e+16 m   | parsec                           ,\n",
       "  solRad       | 6.957e+08 m     | R_sun, Rsun                      ,\n",
       "]"
      ]
     },
     "execution_count": 12,
     "metadata": {},
     "output_type": "execute_result"
    }
   ],
   "source": [
    "u.m.find_equivalent_units()"
   ]
  },
  {
   "cell_type": "markdown",
   "id": "b362ea08-bc18-4f45-afbb-3a08fd024b84",
   "metadata": {},
   "source": [
    "### Composite Units\n",
    "Created using numeric operators `*`, `/`, `**`"
   ]
  },
  {
   "cell_type": "code",
   "execution_count": 64,
   "id": "5caeb7b6-278e-4e9e-bca1-fa3562b32ed0",
   "metadata": {},
   "outputs": [
    {
     "data": {
      "text/latex": [
       "$\\mathrm{\\frac{km}{s}}$"
      ],
      "text/plain": [
       "Unit(\"km / s\")"
      ]
     },
     "execution_count": 64,
     "metadata": {},
     "output_type": "execute_result"
    }
   ],
   "source": [
    "u.km/u.s"
   ]
  },
  {
   "cell_type": "code",
   "execution_count": 68,
   "id": "62900f96-d609-4869-b02c-c829c44254fc",
   "metadata": {},
   "outputs": [],
   "source": [
    "s = 6*u.kg*u.m/u.s**2"
   ]
  },
  {
   "cell_type": "code",
   "execution_count": 73,
   "id": "90d7bc10-4401-46bb-bab9-be9dde1a5d96",
   "metadata": {},
   "outputs": [
    {
     "data": {
      "text/latex": [
       "$6 \\; \\mathrm{\\frac{kg\\,m}{s^{2}}}$"
      ],
      "text/plain": [
       "<Quantity 6. kg m / s2>"
      ]
     },
     "execution_count": 73,
     "metadata": {},
     "output_type": "execute_result"
    }
   ],
   "source": [
    "s"
   ]
  },
  {
   "cell_type": "code",
   "execution_count": 53,
   "id": "5218a64a-382c-48ef-9489-ee8d469a914d",
   "metadata": {},
   "outputs": [],
   "source": [
    "luminosity = 4*np.pi*(0.1*u.Gpc)**2*(5*u.Jansky)*(500*u.MHz)"
   ]
  },
  {
   "cell_type": "code",
   "execution_count": 60,
   "id": "94d33c99-4c69-4ce0-abb6-ef21ff6392fe",
   "metadata": {},
   "outputs": [
    {
     "data": {
      "text/latex": [
       "$2.991238 \\times 10^{40} \\; \\mathrm{\\frac{erg}{s}}$"
      ],
      "text/plain": [
       "<Quantity 2.99123796e+40 erg / s>"
      ]
     },
     "execution_count": 60,
     "metadata": {},
     "output_type": "execute_result"
    }
   ],
   "source": [
    "luminosity.to(u.erg/u.s)"
   ]
  },
  {
   "cell_type": "code",
   "execution_count": 86,
   "id": "b2e05efe-1ef0-4c13-a1e6-5ba81e963a54",
   "metadata": {},
   "outputs": [],
   "source": [
    "distances = [4, 2.8, 9.2]*(u.km/u.s)"
   ]
  },
  {
   "cell_type": "code",
   "execution_count": 82,
   "id": "95c7544a-938f-47aa-b840-e3d0d4383df0",
   "metadata": {},
   "outputs": [
    {
     "data": {
      "text/latex": [
       "$[4,~2.8,~9.2] \\; \\mathrm{\\frac{pc}{s}}$"
      ],
      "text/plain": [
       "<Quantity [4. , 2.8, 9.2] pc / s>"
      ]
     },
     "execution_count": 82,
     "metadata": {},
     "output_type": "execute_result"
    }
   ],
   "source": [
    "distances"
   ]
  },
  {
   "cell_type": "code",
   "execution_count": 83,
   "id": "05ec9cff-3280-49d2-b917-1bdf12d6cadc",
   "metadata": {},
   "outputs": [
    {
     "data": {
      "text/latex": [
       "$[8,~5.6,~18.4] \\; \\mathrm{\\frac{pc}{s}}$"
      ],
      "text/plain": [
       "<Quantity [ 8. ,  5.6, 18.4] pc / s>"
      ]
     },
     "execution_count": 83,
     "metadata": {},
     "output_type": "execute_result"
    }
   ],
   "source": [
    "distances*2"
   ]
  },
  {
   "cell_type": "code",
   "execution_count": 84,
   "id": "abb95193-05d0-4089-88d6-f3abfac921ff",
   "metadata": {},
   "outputs": [
    {
     "data": {
      "text/latex": [
       "$4 \\; \\mathrm{\\frac{pc}{s}}$"
      ],
      "text/plain": [
       "<Quantity 4. pc / s>"
      ]
     },
     "execution_count": 84,
     "metadata": {},
     "output_type": "execute_result"
    }
   ],
   "source": [
    "distances[0]"
   ]
  },
  {
   "cell_type": "code",
   "execution_count": 85,
   "id": "2e840779-5f82-4f83-bd92-64cc348f6246",
   "metadata": {},
   "outputs": [
    {
     "data": {
      "text/latex": [
       "$[825059.22,~577541.46,~1897636.2] \\; \\mathrm{\\frac{AU}{s}}$"
      ],
      "text/plain": [
       "<Quantity [ 825059.22498839,  577541.45749187, 1897636.21747329] AU / s>"
      ]
     },
     "execution_count": 85,
     "metadata": {},
     "output_type": "execute_result"
    }
   ],
   "source": [
    "distances.to(u.au/u.s)"
   ]
  },
  {
   "cell_type": "code",
   "execution_count": 97,
   "id": "5fc1ad89-5d7e-44c3-aece-e0e697e68553",
   "metadata": {},
   "outputs": [
    {
     "data": {
      "text/latex": [
       "$\\mathrm{\\frac{m^{2}\\,kg}{s^{2}}}$"
      ],
      "text/plain": [
       "Unit(\"m2 kg / s2\")"
      ]
     },
     "execution_count": 97,
     "metadata": {},
     "output_type": "execute_result"
    }
   ],
   "source": [
    "u.J.decompose()"
   ]
  },
  {
   "cell_type": "code",
   "execution_count": 98,
   "id": "03def656-1451-4755-ab6b-7a365ffb698d",
   "metadata": {},
   "outputs": [
    {
     "data": {
      "text/latex": [
       "$\\mathrm{10000000\\,\\frac{cm^{2}\\,g}{s^{2}}}$"
      ],
      "text/plain": [
       "Unit(\"1e+07 cm2 g / s2\")"
      ]
     },
     "execution_count": 98,
     "metadata": {},
     "output_type": "execute_result"
    }
   ],
   "source": [
    "u.J.decompose(u.cgs.bases)"
   ]
  },
  {
   "cell_type": "code",
   "execution_count": 99,
   "id": "ddb20ec2-3f90-49f1-8deb-25ea2c680471",
   "metadata": {},
   "outputs": [
    {
     "data": {
      "text/plain": [
       "{Unit(\"K\"),\n",
       " Unit(\"cd\"),\n",
       " Unit(\"cm\"),\n",
       " Unit(\"g\"),\n",
       " Unit(\"mol\"),\n",
       " Unit(\"rad\"),\n",
       " Unit(\"s\")}"
      ]
     },
     "execution_count": 99,
     "metadata": {},
     "output_type": "execute_result"
    }
   ],
   "source": [
    "u.cgs.bases"
   ]
  },
  {
   "cell_type": "code",
   "execution_count": 100,
   "id": "76957146-42ce-464a-92da-8f26091403a5",
   "metadata": {},
   "outputs": [
    {
     "data": {
      "text/plain": [
       "{Unit(\"A\"),\n",
       " Unit(\"K\"),\n",
       " Unit(\"cd\"),\n",
       " Unit(\"kg\"),\n",
       " Unit(\"m\"),\n",
       " Unit(\"mol\"),\n",
       " Unit(\"rad\"),\n",
       " Unit(\"s\")}"
      ]
     },
     "execution_count": 100,
     "metadata": {},
     "output_type": "execute_result"
    }
   ],
   "source": [
    "u.si.bases"
   ]
  },
  {
   "cell_type": "code",
   "execution_count": 103,
   "id": "9cbf0224-27cb-4998-9d34-6a4642cbb5b2",
   "metadata": {},
   "outputs": [
    {
     "data": {
      "text/latex": [
       "$0.001 \\; \\mathrm{}$"
      ],
      "text/plain": [
       "<Quantity 0.001>"
      ]
     },
     "execution_count": 103,
     "metadata": {},
     "output_type": "execute_result"
    }
   ],
   "source": [
    "((7*u.m)/(7*u.km)).decompose()"
   ]
  },
  {
   "cell_type": "markdown",
   "id": "e6d8a4f6-cf3a-41bc-8c48-f5e2728ee221",
   "metadata": {},
   "source": [
    "## Integration with NumPy"
   ]
  },
  {
   "cell_type": "code",
   "execution_count": 123,
   "id": "d9a5bf20-0258-4fa3-a1d6-19081907bd94",
   "metadata": {},
   "outputs": [
    {
     "data": {
      "text/plain": [
       "-0.9880316240928618"
      ]
     },
     "execution_count": 123,
     "metadata": {},
     "output_type": "execute_result"
    }
   ],
   "source": [
    "np.sin(30)"
   ]
  },
  {
   "cell_type": "code",
   "execution_count": 125,
   "id": "2f75fa50-9b33-4518-866a-df3383c07a1e",
   "metadata": {},
   "outputs": [
    {
     "data": {
      "text/plain": [
       "0.49999999999999994"
      ]
     },
     "execution_count": 125,
     "metadata": {},
     "output_type": "execute_result"
    }
   ],
   "source": [
    "np.sin(np.deg2rad(30))"
   ]
  },
  {
   "cell_type": "code",
   "execution_count": 126,
   "id": "f83a4803-aebb-48c2-8e81-ebcea989c290",
   "metadata": {},
   "outputs": [
    {
     "data": {
      "text/latex": [
       "$0.5 \\; \\mathrm{}$"
      ],
      "text/plain": [
       "<Quantity 0.5>"
      ]
     },
     "execution_count": 126,
     "metadata": {},
     "output_type": "execute_result"
    }
   ],
   "source": [
    "np.sin(30*u.degree)"
   ]
  },
  {
   "cell_type": "code",
   "execution_count": 129,
   "id": "65838d69-f80f-4b72-969d-28143aef9f3d",
   "metadata": {},
   "outputs": [
    {
     "data": {
      "text/latex": [
       "$6 \\; \\mathrm{kg}$"
      ],
      "text/plain": [
       "<Quantity 6. kg>"
      ]
     },
     "execution_count": 129,
     "metadata": {},
     "output_type": "execute_result"
    }
   ],
   "source": [
    "np.sqrt(4*u.kg * 9*u.kg)"
   ]
  },
  {
   "cell_type": "code",
   "execution_count": 139,
   "id": "3298db6a-6c16-4ae7-b1f2-6dc105746ce7",
   "metadata": {},
   "outputs": [],
   "source": [
    "a = np.linspace(1,15,5)"
   ]
  },
  {
   "cell_type": "code",
   "execution_count": 140,
   "id": "dd9637d4-a5b0-4c29-a40e-70b2497dff61",
   "metadata": {},
   "outputs": [],
   "source": [
    "a=a*u.kg"
   ]
  },
  {
   "cell_type": "code",
   "execution_count": 141,
   "id": "2e3d7de6-8768-4e37-8c1f-055f98db732c",
   "metadata": {},
   "outputs": [
    {
     "data": {
      "text/latex": [
       "$[1,~4.5,~8,~11.5,~15] \\; \\mathrm{kg}$"
      ],
      "text/plain": [
       "<Quantity [ 1. ,  4.5,  8. , 11.5, 15. ] kg>"
      ]
     },
     "execution_count": 141,
     "metadata": {},
     "output_type": "execute_result"
    }
   ],
   "source": [
    "a"
   ]
  },
  {
   "cell_type": "code",
   "execution_count": 144,
   "id": "be5e9d9c-bded-47e0-8ac4-1aa41db00bbd",
   "metadata": {},
   "outputs": [
    {
     "name": "stdout",
     "output_type": "stream",
     "text": [
      "1.0 kg\n",
      "4.5 kg\n",
      "8.0 kg\n",
      "11.5 kg\n",
      "15.0 kg\n"
     ]
    }
   ],
   "source": [
    "for i in a:\n",
    "    print(i)"
   ]
  },
  {
   "cell_type": "markdown",
   "id": "bd78a32d-a86b-40aa-aea7-34e96c25fb1b",
   "metadata": {},
   "source": [
    "Limitations for using quantities with numpy - [Quantity Known Issues](https://docs.astropy.org/en/stable/known_issues.html#quantities-lose-their-units-with-some-operations)."
   ]
  },
  {
   "cell_type": "markdown",
   "id": "675d0ad1-5075-486c-b0ed-31202c045be0",
   "metadata": {},
   "source": [
    "# astropy.constants"
   ]
  },
  {
   "cell_type": "code",
   "execution_count": 193,
   "id": "43368659-756e-46ea-97bf-4872c87dfe47",
   "metadata": {},
   "outputs": [],
   "source": [
    "from astropy import constants as const"
   ]
  },
  {
   "cell_type": "code",
   "execution_count": 194,
   "id": "41e88095-ad70-4f87-b5f6-db64a6e3c59b",
   "metadata": {},
   "outputs": [
    {
     "data": {
      "text/latex": [
       "$6.6743 \\times 10^{-11} \\; \\mathrm{\\frac{m^{3}}{kg\\,s^{2}}}$"
      ],
      "text/plain": [
       "<<class 'astropy.constants.codata2018.CODATA2018'> name='Gravitational constant' value=6.6743e-11 uncertainty=1.5e-15 unit='m3 / (kg s2)' reference='CODATA 2018'>"
      ]
     },
     "execution_count": 194,
     "metadata": {},
     "output_type": "execute_result"
    }
   ],
   "source": [
    "const.G"
   ]
  },
  {
   "cell_type": "code",
   "execution_count": 195,
   "id": "189dfac6-f38c-4715-8a66-b53766f19a32",
   "metadata": {},
   "outputs": [
    {
     "name": "stdout",
     "output_type": "stream",
     "text": [
      "  Name   = Gravitational constant\n",
      "  Value  = 6.6743e-11\n",
      "  Uncertainty  = 1.5e-15\n",
      "  Unit  = m3 / (kg s2)\n",
      "  Reference = CODATA 2018\n"
     ]
    }
   ],
   "source": [
    "print(const.G)"
   ]
  },
  {
   "cell_type": "code",
   "execution_count": 200,
   "id": "a94bb7dc-ac11-4fce-892b-e0f92eca433f",
   "metadata": {},
   "outputs": [
    {
     "data": {
      "text/latex": [
       "$3.0856776 \\times 10^{19} \\; \\mathrm{m}$"
      ],
      "text/plain": [
       "<<class 'astropy.constants.iau2015.IAU2015'> name='Kiloparsec' value=3.0856775814913675e+19 uncertainty=0.0 unit='m' reference='Derived from au + IAU 2015 Resolution B 2 note [4]'>"
      ]
     },
     "execution_count": 200,
     "metadata": {},
     "output_type": "execute_result"
    }
   ],
   "source": [
    "const.kpc"
   ]
  },
  {
   "cell_type": "code",
   "execution_count": 204,
   "id": "719ec3e8-7a29-4b5f-8736-ccc789fab3a4",
   "metadata": {},
   "outputs": [
    {
     "data": {
      "text/latex": [
       "$3.0856776 \\times 10^{19} \\; \\mathrm{m}$"
      ],
      "text/plain": [
       "<Quantity 3.08567758e+19 m>"
      ]
     },
     "execution_count": 204,
     "metadata": {},
     "output_type": "execute_result"
    }
   ],
   "source": [
    "(1*u.kpc).decompose()"
   ]
  },
  {
   "cell_type": "code",
   "execution_count": 205,
   "id": "9390e2c1-c2a5-4304-be00-aba63c50f03f",
   "metadata": {},
   "outputs": [
    {
     "data": {
      "text/latex": [
       "$1.8981246 \\times 10^{27} \\; \\mathrm{kg}$"
      ],
      "text/plain": [
       "<<class 'astropy.constants.iau2015.IAU2015'> name='Jupiter mass' value=1.8981245973360505e+27 uncertainty=4.26589589320839e+22 unit='kg' reference='IAU 2015 Resolution B 3 + CODATA 2018'>"
      ]
     },
     "execution_count": 205,
     "metadata": {},
     "output_type": "execute_result"
    }
   ],
   "source": [
    "const.M_jup"
   ]
  },
  {
   "cell_type": "code",
   "execution_count": 206,
   "id": "1ee112e2-4478-4446-9436-7bebfca10852",
   "metadata": {},
   "outputs": [
    {
     "name": "stdout",
     "output_type": "stream",
     "text": [
      "  Name   = Jupiter mass\n",
      "  Value  = 1.8981245973360505e+27\n",
      "  Uncertainty  = 4.26589589320839e+22\n",
      "  Unit  = kg\n",
      "  Reference = IAU 2015 Resolution B 3 + CODATA 2018\n"
     ]
    }
   ],
   "source": [
    "print(const.M_jup)"
   ]
  },
  {
   "cell_type": "markdown",
   "id": "ab9f28f1-9e26-4f47-9e14-67bce71b5bb3",
   "metadata": {},
   "source": [
    "These constants are quantities and can be converted to equivalent units"
   ]
  },
  {
   "cell_type": "code",
   "execution_count": 233,
   "id": "abceb9b6-01ea-407f-8be0-363d1d354763",
   "metadata": {},
   "outputs": [
    {
     "name": "stdout",
     "output_type": "stream",
     "text": [
      "Angular speed: -0.428572859561152 arcsec / min\n"
     ]
    }
   ],
   "source": [
    "# Angular speed of an asteroid\n",
    "\n",
    "d_e = 1 * u.AU\n",
    "d_a = 3.8 * u.AU\n",
    "\n",
    "# Calculate orbital velocities\n",
    "v_a = (np.sqrt(const.G * const.M_sun / d_a)).to(u.km/u.s)\n",
    "v_e = (np.sqrt(const.G * const.M_sun / d_e)).to(u.km/u.s)\n",
    "\n",
    "# Calculate angular speed\n",
    "angular_speed = ((v_e - v_a) / (d_e - d_a) * u.rad).to(u.arcsec / u.minute)\n",
    "print(f\"Angular speed: {angular_speed}\")"
   ]
  },
  {
   "cell_type": "markdown",
   "id": "58be4f8a-1681-4342-8a2e-40fd2e610b46",
   "metadata": {},
   "source": [
    "# Equivalencies\n",
    "\n",
    "https://docs.astropy.org/en/stable/units/equivalencies.html\n",
    "\n",
    "Equivalencies are used to convert between different representations of the same physical quantity.  \n",
    "For example if we try converting grams to eV using the astropy's `.to()` method, then it will throw an error as the units are not compatible. But we know that mass energy equivalence can be used to convert mass to energy."
   ]
  },
  {
   "cell_type": "code",
   "execution_count": 222,
   "id": "d6b84c5d-ef72-418c-88b3-494258e0fd11",
   "metadata": {},
   "outputs": [
    {
     "data": {
      "text/latex": [
       "$9.1093837 \\times 10^{-31} \\; \\mathrm{kg}$"
      ],
      "text/plain": [
       "<<class 'astropy.constants.codata2018.CODATA2018'> name='Electron mass' value=9.1093837015e-31 uncertainty=2.8e-40 unit='kg' reference='CODATA 2018'>"
      ]
     },
     "execution_count": 222,
     "metadata": {},
     "output_type": "execute_result"
    }
   ],
   "source": [
    "const.m_e"
   ]
  },
  {
   "cell_type": "code",
   "execution_count": 224,
   "id": "9210bf1a-0709-40b5-95f7-305f21363912",
   "metadata": {},
   "outputs": [
    {
     "data": {
      "text/latex": [
       "$0.51099895 \\; \\mathrm{MeV}$"
      ],
      "text/plain": [
       "<Quantity 0.51099895 MeV>"
      ]
     },
     "execution_count": 224,
     "metadata": {},
     "output_type": "execute_result"
    }
   ],
   "source": [
    "(const.m_e).to(u.MeV,u.mass_energy())"
   ]
  },
  {
   "cell_type": "code",
   "execution_count": 229,
   "id": "35da90e1-089b-403f-a673-2c292852ee76",
   "metadata": {},
   "outputs": [
    {
     "data": {
      "text/latex": [
       "$1.25 \\; \\mathrm{pc}$"
      ],
      "text/plain": [
       "<Quantity 1.25 pc>"
      ]
     },
     "execution_count": 229,
     "metadata": {},
     "output_type": "execute_result"
    }
   ],
   "source": [
    "(0.8*u.arcsec).to(u.parsec,equivalencies=u.parallax())"
   ]
  },
  {
   "cell_type": "code",
   "execution_count": 232,
   "id": "7da41fc3-9731-49fa-9b16-50ca33127a93",
   "metadata": {},
   "outputs": [
    {
     "data": {
      "text/latex": [
       "$97229.986 \\; \\mathrm{\\frac{km}{s}}$"
      ],
      "text/plain": [
       "<Quantity 97229.98637838 km / s>"
      ]
     },
     "execution_count": 232,
     "metadata": {},
     "output_type": "execute_result"
    }
   ],
   "source": [
    "z = 0.4*u.dimensionless_unscaled\n",
    "z.to(u.km/u.s,u.doppler_redshift())"
   ]
  },
  {
   "cell_type": "markdown",
   "id": "cf9b3678-41ce-46e6-86bb-da7ae510434a",
   "metadata": {},
   "source": [
    "# astropy.coordinates"
   ]
  },
  {
   "cell_type": "code",
   "execution_count": 245,
   "id": "7ba8e399-6913-4732-94ac-351d65a22405",
   "metadata": {},
   "outputs": [],
   "source": [
    "from astropy import units as u\n",
    "from astropy.coordinates import SkyCoord\n",
    "from astropy.coordinates import EarthLocation\n",
    "from astroquery.irsa import Irsa"
   ]
  },
  {
   "cell_type": "code",
   "execution_count": 243,
   "id": "11ef78b8-ad1e-4ef3-9878-14cf9214fb1e",
   "metadata": {},
   "outputs": [],
   "source": [
    "p = SkyCoord(ra=56.75, dec=24.1167,frame='icrs',unit='deg')"
   ]
  },
  {
   "cell_type": "code",
   "execution_count": 244,
   "id": "9d1a9cee-a7db-4ccb-b6ad-3b440e2c8642",
   "metadata": {},
   "outputs": [
    {
     "data": {
      "text/plain": [
       "<SkyCoord (ICRS): (ra, dec) in deg\n",
       "    (56.75, 24.1167)>"
      ]
     },
     "execution_count": 244,
     "metadata": {},
     "output_type": "execute_result"
    }
   ],
   "source": [
    "p"
   ]
  },
  {
   "cell_type": "markdown",
   "id": "f03e96a2-f981-40ae-a942-a99692be5014",
   "metadata": {},
   "source": [
    "The SkyCoord accepts coordinates in hourangle,hmsdms format and degrees format."
   ]
  },
  {
   "cell_type": "code",
   "execution_count": 263,
   "id": "e9329bbd-3cf0-4d1a-9d6d-184e4e58f378",
   "metadata": {},
   "outputs": [
    {
     "data": {
      "text/plain": [
       "<SkyCoord (ICRS): (ra, dec) in deg\n",
       "    [(10., 41.), (11., -5.), (12., 42.), (13.,  0.)]>"
      ]
     },
     "execution_count": 263,
     "metadata": {},
     "output_type": "execute_result"
    }
   ],
   "source": [
    "# Skycoord also accepts array of coordinates\n",
    "\n",
    "c = SkyCoord(ra=[10, 11, 12, 13]*u.degree, dec=[41, -5, 42, 0]*u.degree)\n",
    "\n",
    "c"
   ]
  },
  {
   "cell_type": "code",
   "execution_count": 265,
   "id": "ca33f8c6-5de9-4970-8b4e-58487149d3fe",
   "metadata": {},
   "outputs": [
    {
     "data": {
      "text/latex": [
       "$56^\\circ45{}^\\prime00{}^{\\prime\\prime}$"
      ],
      "text/plain": [
       "<Longitude 56.75 deg>"
      ]
     },
     "execution_count": 265,
     "metadata": {},
     "output_type": "execute_result"
    }
   ],
   "source": [
    "p.ra"
   ]
  },
  {
   "cell_type": "code",
   "execution_count": 266,
   "id": "352dc099-4b45-40a1-a8b5-3180993cf21f",
   "metadata": {},
   "outputs": [
    {
     "data": {
      "text/plain": [
       "3.783333333333334"
      ]
     },
     "execution_count": 266,
     "metadata": {},
     "output_type": "execute_result"
    }
   ],
   "source": [
    "p.ra.hour"
   ]
  },
  {
   "cell_type": "code",
   "execution_count": 267,
   "id": "07521bf7-d0a7-4f3b-b669-78497603501d",
   "metadata": {},
   "outputs": [
    {
     "data": {
      "text/plain": [
       "hms_tuple(h=3.0, m=47.0, s=2.5579538487363607e-12)"
      ]
     },
     "execution_count": 267,
     "metadata": {},
     "output_type": "execute_result"
    }
   ],
   "source": [
    "p.ra.hms"
   ]
  },
  {
   "cell_type": "code",
   "execution_count": 268,
   "id": "27db8f10-1d96-4703-9b97-bb116c6e4e7c",
   "metadata": {},
   "outputs": [
    {
     "data": {
      "text/latex": [
       "$24^\\circ07{}^\\prime00.12{}^{\\prime\\prime}$"
      ],
      "text/plain": [
       "<Latitude 24.1167 deg>"
      ]
     },
     "execution_count": 268,
     "metadata": {},
     "output_type": "execute_result"
    }
   ],
   "source": [
    "p.dec"
   ]
  },
  {
   "cell_type": "code",
   "execution_count": 269,
   "id": "40633b10-634e-47f4-8fcc-3620f5da9db2",
   "metadata": {},
   "outputs": [
    {
     "data": {
      "text/plain": [
       "dms_tuple(d=24.0, m=7.0, s=0.12000000000568889)"
      ]
     },
     "execution_count": 269,
     "metadata": {},
     "output_type": "execute_result"
    }
   ],
   "source": [
    "p.dec.dms"
   ]
  },
  {
   "cell_type": "code",
   "execution_count": 270,
   "id": "e6f17594-6059-4a2f-b028-1111554cb40a",
   "metadata": {},
   "outputs": [
    {
     "data": {
      "text/plain": [
       "24.1167"
      ]
     },
     "execution_count": 270,
     "metadata": {},
     "output_type": "execute_result"
    }
   ],
   "source": [
    "p.dec.degree"
   ]
  },
  {
   "cell_type": "code",
   "execution_count": 271,
   "id": "87621df5-3ea0-43e3-bdd9-009f807dfe75",
   "metadata": {},
   "outputs": [
    {
     "data": {
      "text/plain": [
       "<SkyCoord (Galactic): (l, b) in deg\n",
       "    (166.57063837, -23.52114314)>"
      ]
     },
     "execution_count": 271,
     "metadata": {},
     "output_type": "execute_result"
    }
   ],
   "source": [
    "p_galactic = p.galactic\n",
    "p_galactic"
   ]
  },
  {
   "cell_type": "code",
   "execution_count": 272,
   "id": "ef5297a6-a4cd-4450-af16-c765420e3174",
   "metadata": {},
   "outputs": [
    {
     "name": "stdout",
     "output_type": "stream",
     "text": [
      "<SkyCoord (ICRS): (ra, dec) in deg\n",
      "    (56.75, 24.1167)>\n",
      "<SkyCoord (Galactic): (l, b) in deg\n",
      "    (166.57063837, -23.52114314)>\n"
     ]
    }
   ],
   "source": [
    "print(p)\n",
    "print(p_galactic)"
   ]
  },
  {
   "cell_type": "code",
   "execution_count": 273,
   "id": "c6a35a8d-792f-438b-bda9-5f0e9b4fcbe2",
   "metadata": {},
   "outputs": [
    {
     "data": {
      "text/latex": [
       "$0.50043552 \\; \\mathrm{}$"
      ],
      "text/plain": [
       "<Quantity 0.50043552>"
      ]
     },
     "execution_count": 273,
     "metadata": {},
     "output_type": "execute_result"
    }
   ],
   "source": [
    "p.cartesian.x"
   ]
  },
  {
   "cell_type": "code",
   "execution_count": 274,
   "id": "2fe79aa1-5e40-4f73-9958-52d34d9e1352",
   "metadata": {},
   "outputs": [
    {
     "data": {
      "text/latex": [
       "$0.76329102 \\; \\mathrm{}$"
      ],
      "text/plain": [
       "<Quantity 0.76329102>"
      ]
     },
     "execution_count": 274,
     "metadata": {},
     "output_type": "execute_result"
    }
   ],
   "source": [
    "p.cartesian.y"
   ]
  },
  {
   "cell_type": "code",
   "execution_count": null,
   "id": "58967ede-c009-4c7f-b857-f9e94f322c1a",
   "metadata": {},
   "outputs": [],
   "source": []
  },
  {
   "cell_type": "code",
   "execution_count": null,
   "id": "d0fa1771-b07c-4f09-9a12-023e78163f4a",
   "metadata": {},
   "outputs": [],
   "source": []
  },
  {
   "cell_type": "code",
   "execution_count": 240,
   "id": "3c2f78f6-3c57-4474-8eaf-9ee000e4088b",
   "metadata": {},
   "outputs": [],
   "source": [
    "hanle = EarthLocation.of_site('Indian Astronomical Observatory')"
   ]
  },
  {
   "cell_type": "code",
   "execution_count": 241,
   "id": "51435d7b-e1bb-4383-a192-12452b699d61",
   "metadata": {},
   "outputs": [
    {
     "data": {
      "text/latex": [
       "$(1028235.8, 5272208.3, 3435855.4) \\; \\mathrm{m}$"
      ],
      "text/plain": [
       "<EarthLocation (1028235.76656849, 5272208.285242, 3435855.36298371) m>"
      ]
     },
     "execution_count": 241,
     "metadata": {},
     "output_type": "execute_result"
    }
   ],
   "source": [
    "hanle"
   ]
  },
  {
   "cell_type": "code",
   "execution_count": null,
   "id": "9ad22f93-8747-4512-8326-ae87d4e42c28",
   "metadata": {},
   "outputs": [],
   "source": []
  },
  {
   "cell_type": "code",
   "execution_count": null,
   "id": "3c010e55-7ebe-495e-9858-6df08e9b436e",
   "metadata": {},
   "outputs": [],
   "source": []
  },
  {
   "cell_type": "code",
   "execution_count": null,
   "id": "2bb7ca51-ee87-469b-897b-ff2db5de4b45",
   "metadata": {},
   "outputs": [],
   "source": []
  },
  {
   "cell_type": "code",
   "execution_count": null,
   "id": "1f60d5e6-17cd-40e5-9ccc-6cbbb591c294",
   "metadata": {},
   "outputs": [],
   "source": []
  },
  {
   "cell_type": "code",
   "execution_count": null,
   "id": "25b90f2e-1f7d-4bc4-a3da-c082f101c2d8",
   "metadata": {},
   "outputs": [],
   "source": []
  },
  {
   "cell_type": "markdown",
   "id": "3912c04c-fbc0-4702-9578-caa21495b183",
   "metadata": {},
   "source": [
    "# Assignment\n",
    "\n",
    "In the movie Interstellar, Miller's planet experiences time dilation due to its proximity to a black hole, such that 1 hour on Miller's planet equals 7 years on Earth.\n",
    "\n",
    "Edwin Hubble first presented his findings about discovering new galaxies during a meeting at Americal Astronomical Society on 1st Jan 1925. \n",
    "\n",
    "Use astropy.time module to evaluate how many days/years it has been since this meeting. Assume today's date is 25th December 2024.\n",
    "\n",
    "Use the def_unit function of astropy to create a new unit definition, say, miller_hour which is equivalent to 7 earth years. \n",
    "\n",
    "Test your unit definition by using miller_hour.to(u.year) which should give the output 7.\n",
    "\n",
    "Find out how many hours it has been on Miller's planet since Hubble's meeting.\n"
   ]
  },
  {
   "cell_type": "code",
   "execution_count": 182,
   "id": "17ed7bee-749c-4fc2-98dd-f513f561e316",
   "metadata": {},
   "outputs": [
    {
     "data": {
      "text/latex": [
       "$2 \\; \\mathrm{miller\\_hour}$"
      ],
      "text/plain": [
       "<Quantity 2. miller_hour>"
      ]
     },
     "execution_count": 182,
     "metadata": {},
     "output_type": "execute_result"
    }
   ],
   "source": [
    "miller_hour = u.def_unit('miller_hour', 7*u.year)\n",
    "2*miller_hour"
   ]
  },
  {
   "cell_type": "code",
   "execution_count": 192,
   "id": "51119089-3de8-44ab-9222-d04096919c77",
   "metadata": {},
   "outputs": [
    {
     "data": {
      "text/plain": [
       "7.0"
      ]
     },
     "execution_count": 192,
     "metadata": {},
     "output_type": "execute_result"
    }
   ],
   "source": [
    "miller_hour.to(u.year)"
   ]
  },
  {
   "cell_type": "code",
   "execution_count": 183,
   "id": "731b844f-d5ba-450b-b03f-64d5da9aedb8",
   "metadata": {},
   "outputs": [],
   "source": [
    "a = 2*miller_hour"
   ]
  },
  {
   "cell_type": "code",
   "execution_count": 184,
   "id": "c1bc8f85-8fe6-457f-a7ea-5f54f56127cf",
   "metadata": {},
   "outputs": [
    {
     "data": {
      "text/latex": [
       "$14 \\; \\mathrm{yr}$"
      ],
      "text/plain": [
       "<Quantity 14. yr>"
      ]
     },
     "execution_count": 184,
     "metadata": {},
     "output_type": "execute_result"
    }
   ],
   "source": [
    "a.to(u.year)"
   ]
  },
  {
   "cell_type": "code",
   "execution_count": 185,
   "id": "7fac3c39-3068-403f-b2dd-b573215da7df",
   "metadata": {},
   "outputs": [
    {
     "data": {
      "text/html": [
       "<table style=\"width:50%\"><tr><th>Primary name</th><th>Unit definition</th><th>Aliases</th></tr><tr><td>a</td><td>3.15576e+07 s</td><td>annum</td></tr><tr><td>d</td><td>86400 s</td><td>day</td></tr><tr><td>fortnight</td><td>1.2096e+06 s</td><td></td></tr><tr><td>h</td><td>3600 s</td><td>hour, hr</td></tr><tr><td>min</td><td>60 s</td><td>minute</td></tr><tr><td>s</td><td>irreducible</td><td>second</td></tr><tr><td>sday</td><td>86164.1 s</td><td></td></tr><tr><td>wk</td><td>604800 s</td><td>week</td></tr><tr><td>yr</td><td>3.15576e+07 s</td><td>year</td></tr></table>"
      ],
      "text/plain": [
       "  Primary name | Unit definition | Aliases \n",
       "[\n",
       "  a            | 3.15576e+07 s   | annum    ,\n",
       "  d            | 86400 s         | day      ,\n",
       "  fortnight    | 1.2096e+06 s    |          ,\n",
       "  h            | 3600 s          | hour, hr ,\n",
       "  min          | 60 s            | minute   ,\n",
       "  s            | irreducible     | second   ,\n",
       "  sday         | 86164.1 s       |          ,\n",
       "  wk           | 604800 s        | week     ,\n",
       "  yr           | 3.15576e+07 s   | year     ,\n",
       "]"
      ]
     },
     "execution_count": 185,
     "metadata": {},
     "output_type": "execute_result"
    }
   ],
   "source": [
    "miller_hour.find_equivalent_units()"
   ]
  },
  {
   "cell_type": "code",
   "execution_count": 186,
   "id": "fc7933e9-ea13-45ea-899b-9c77ff3cd313",
   "metadata": {},
   "outputs": [
    {
     "data": {
      "text/plain": [
       "'30 November 1609'"
      ]
     },
     "execution_count": 186,
     "metadata": {},
     "output_type": "execute_result"
    }
   ],
   "source": [
    "'30 November 1609'"
   ]
  },
  {
   "cell_type": "code",
   "execution_count": null,
   "id": "3850ac43-1bfc-4039-bf67-59b161d49aa1",
   "metadata": {},
   "outputs": [],
   "source": [
    "\n"
   ]
  },
  {
   "cell_type": "code",
   "execution_count": 187,
   "id": "e87d1acf-c7e6-4918-85d7-90414bf8dbad",
   "metadata": {},
   "outputs": [
    {
     "name": "stderr",
     "output_type": "stream",
     "text": [
      "/Users/pratik/opt/miniconda3/envs/SETU/lib/python3.11/site-packages/erfa/core.py:133: ErfaWarning: ERFA function \"dtf2d\" yielded 1 of \"dubious year (Note 6)\"\n",
      "  warn(f'ERFA function \"{func_name}\" yielded {wmsg}', ErfaWarning)\n"
     ]
    }
   ],
   "source": [
    "from astropy.time import Time\n",
    "\n",
    "hubble_date = Time('1925-01-01')\n",
    "today_date = Time('2024-12-25')"
   ]
  },
  {
   "cell_type": "code",
   "execution_count": 188,
   "id": "23894f99-fb74-4e5d-ae46-ad6f3f763e52",
   "metadata": {},
   "outputs": [
    {
     "name": "stderr",
     "output_type": "stream",
     "text": [
      "/Users/pratik/opt/miniconda3/envs/SETU/lib/python3.11/site-packages/erfa/core.py:133: ErfaWarning: ERFA function \"utctai\" yielded 1 of \"dubious year (Note 3)\"\n",
      "  warn(f'ERFA function \"{func_name}\" yielded {wmsg}', ErfaWarning)\n"
     ]
    },
    {
     "data": {
      "text/latex": [
       "$99.980836 \\; \\mathrm{yr}$"
      ],
      "text/plain": [
       "<Quantity 99.98083622 yr>"
      ]
     },
     "execution_count": 188,
     "metadata": {},
     "output_type": "execute_result"
    }
   ],
   "source": [
    "(today_date - hubble_date).to(u.year)"
   ]
  },
  {
   "cell_type": "code",
   "execution_count": 189,
   "id": "c84c46c1-9add-466d-b7bc-06fe9aa06951",
   "metadata": {},
   "outputs": [],
   "source": [
    "earth_time = (today_date - hubble_date).to(u.year)"
   ]
  },
  {
   "cell_type": "code",
   "execution_count": 190,
   "id": "c1fcf7b6-d612-4288-a829-fc4a9a9fa767",
   "metadata": {},
   "outputs": [
    {
     "data": {
      "text/latex": [
       "$14.282977 \\; \\mathrm{miller\\_hour}$"
      ],
      "text/plain": [
       "<Quantity 14.2829766 miller_hour>"
      ]
     },
     "execution_count": 190,
     "metadata": {},
     "output_type": "execute_result"
    }
   ],
   "source": [
    "miller_time = earth_time.to(miller_hour)\n",
    "miller_time"
   ]
  },
  {
   "cell_type": "code",
   "execution_count": null,
   "id": "a6cc79c0-ecdc-42bf-b8c2-e010fd9cab08",
   "metadata": {},
   "outputs": [],
   "source": []
  }
 ],
 "metadata": {
  "kernelspec": {
   "display_name": "Python 3 (ipykernel)",
   "language": "python",
   "name": "python3"
  },
  "language_info": {
   "codemirror_mode": {
    "name": "ipython",
    "version": 3
   },
   "file_extension": ".py",
   "mimetype": "text/x-python",
   "name": "python",
   "nbconvert_exporter": "python",
   "pygments_lexer": "ipython3",
   "version": "3.11.8"
  }
 },
 "nbformat": 4,
 "nbformat_minor": 5
}
