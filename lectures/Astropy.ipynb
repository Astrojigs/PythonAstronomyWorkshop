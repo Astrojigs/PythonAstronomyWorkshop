{
 "cells": [
  {
   "cell_type": "code",
   "execution_count": 14,
   "id": "5d9cf9bb-19df-432d-a2b0-00d425bf2755",
   "metadata": {},
   "outputs": [],
   "source": [
    "import astropy.units as u\n",
    "from astropy.constants import G, h, k_B, c, kpc, au\n",
    "import numpy as np\n",
    "import matplotlib.pyplot as plt"
   ]
  },
  {
   "cell_type": "code",
   "execution_count": 2,
   "id": "8b09e828-02b3-4042-ab8b-ca4314a51951",
   "metadata": {},
   "outputs": [
    {
     "data": {
      "text/latex": [
       "$6.6743 \\times 10^{-11} \\; \\mathrm{\\frac{m^{3}}{kg\\,s^{2}}}$"
      ],
      "text/plain": [
       "<<class 'astropy.constants.codata2018.CODATA2018'> name='Gravitational constant' value=6.6743e-11 uncertainty=1.5e-15 unit='m3 / (kg s2)' reference='CODATA 2018'>"
      ]
     },
     "execution_count": 2,
     "metadata": {},
     "output_type": "execute_result"
    }
   ],
   "source": [
    "G"
   ]
  },
  {
   "cell_type": "code",
   "execution_count": 3,
   "id": "643575d4-f766-4a2f-a144-832c341f177b",
   "metadata": {},
   "outputs": [
    {
     "name": "stdout",
     "output_type": "stream",
     "text": [
      "  Name   = Gravitational constant\n",
      "  Value  = 6.6743e-11\n",
      "  Uncertainty  = 1.5e-15\n",
      "  Unit  = m3 / (kg s2)\n",
      "  Reference = CODATA 2018\n"
     ]
    }
   ],
   "source": [
    "print(G)"
   ]
  },
  {
   "cell_type": "code",
   "execution_count": 7,
   "id": "d9bb1147-f925-4b86-93d1-0eba99fd9507",
   "metadata": {},
   "outputs": [
    {
     "name": "stdout",
     "output_type": "stream",
     "text": [
      "  Name   = Planck constant\n",
      "  Value  = 6.62607015e-34\n",
      "  Uncertainty  = 0.0\n",
      "  Unit  = J s\n",
      "  Reference = CODATA 2018\n"
     ]
    }
   ],
   "source": [
    "print(h)"
   ]
  },
  {
   "cell_type": "code",
   "execution_count": 8,
   "id": "3b058dc4-eb15-41aa-8fbc-a00ff8e42439",
   "metadata": {},
   "outputs": [],
   "source": [
    "from astropy.constants import kpc"
   ]
  },
  {
   "cell_type": "code",
   "execution_count": 9,
   "id": "408239e3-54bf-49ce-9f81-cf2c3a83c179",
   "metadata": {},
   "outputs": [
    {
     "data": {
      "text/latex": [
       "$3.0856776 \\times 10^{19} \\; \\mathrm{m}$"
      ],
      "text/plain": [
       "<<class 'astropy.constants.iau2015.IAU2015'> name='Kiloparsec' value=3.0856775814913675e+19 uncertainty=0.0 unit='m' reference='Derived from au + IAU 2015 Resolution B 2 note [4]'>"
      ]
     },
     "execution_count": 9,
     "metadata": {},
     "output_type": "execute_result"
    }
   ],
   "source": [
    "kpc"
   ]
  },
  {
   "cell_type": "code",
   "execution_count": 13,
   "id": "e3886772-8dfb-4870-a2ff-f13ddf20afda",
   "metadata": {},
   "outputs": [
    {
     "data": {
      "text/latex": [
       "$2.0626481 \\times 10^{8} \\; \\mathrm{AU}$"
      ],
      "text/plain": [
       "<Quantity 2.06264806e+08 AU>"
      ]
     },
     "execution_count": 13,
     "metadata": {},
     "output_type": "execute_result"
    }
   ],
   "source": [
    "kpc.to(u.au)"
   ]
  },
  {
   "cell_type": "code",
   "execution_count": 16,
   "id": "a0ecdbde-6037-4715-90c6-c47fbdfccc48",
   "metadata": {},
   "outputs": [
    {
     "name": "stdout",
     "output_type": "stream",
     "text": [
      "  Name   = Astronomical Unit\n",
      "  Value  = 149597870700.0\n",
      "  Uncertainty  = 0.0\n",
      "  Unit  = m\n",
      "  Reference = IAU 2012 Resolution B2\n"
     ]
    }
   ],
   "source": [
    "print(au)"
   ]
  },
  {
   "cell_type": "code",
   "execution_count": null,
   "id": "c479e8b0-af56-4c34-8dd6-c0d9c92d7f4d",
   "metadata": {},
   "outputs": [],
   "source": []
  }
 ],
 "metadata": {
  "kernelspec": {
   "display_name": "Python 3 (ipykernel)",
   "language": "python",
   "name": "python3"
  },
  "language_info": {
   "codemirror_mode": {
    "name": "ipython",
    "version": 3
   },
   "file_extension": ".py",
   "mimetype": "text/x-python",
   "name": "python",
   "nbconvert_exporter": "python",
   "pygments_lexer": "ipython3",
   "version": "3.11.8"
  }
 },
 "nbformat": 4,
 "nbformat_minor": 5
}
