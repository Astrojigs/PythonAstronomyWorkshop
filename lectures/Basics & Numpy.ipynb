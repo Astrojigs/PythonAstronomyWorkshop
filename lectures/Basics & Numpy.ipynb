{
 "cells": [
  {
   "cell_type": "markdown",
   "id": "74547ec3-d513-49da-912a-2efba922822a",
   "metadata": {
    "id": "nHaUiR_0FdIv"
   },
   "source": [
    "# **Getting Started with Python**"
   ]
  },
  {
   "cell_type": "markdown",
   "id": "54c9d4f1-1e4d-40eb-a20f-f02d5b2d7d8c",
   "metadata": {
    "id": "b0kBE4Jugfuj"
   },
   "source": [
    "\n",
    "We'll be using Jupyter Notebook for our programming sessions. It supports many programming languages, we need Python installed before installing Jupyter Notebook. UNIX based system like Mac and Linux have python preinstalled, for windows you can download and install python from [here](https://www.python.org/downloads/).  \n",
    "Alternatively you can install Anaconda (it has packages we need) from [here](https://www.anaconda.com/products/individual).  \n",
    "Download the installer according to your OS. If you're not familiar with command line installation then choose the Graphical installer.   \n",
    "Via Anaconda navigator you can get multiple IDEs like Jupyter Notebook, Spyder, Visual Studio, etc. There are many options to use, it is completely a personal choice which you can explore.  \n",
    "\n",
    "\n",
    "---\n",
    "## Environments\n",
    "\n",
    "### Windows\n",
    "- Install Anaconda > Launch Anaconda Navigator and launch Jupyter Notebook\n",
    "- Alternatively Open command prompt (Press Windows and type 'cmd')  \n",
    "Enter the following command to run  \n",
    "```\n",
    "jupyter notebook\n",
    "```\n",
    "\n",
    "### MacOS\n",
    "- Install Anaconda > Launch Anaconda Navigator and launch Jupyter Notebook\n",
    "- Alternatively open Terminal and enter following command  \n",
    "```\n",
    "jupyter notebook\n",
    "```\n",
    "\n",
    "### Linux\n",
    "- Install Anaconda > [see detailed instructions for Linux](https://docs.anaconda.com/anaconda/install/linux/)\n",
    "- Open terminal (CTRL + ALT + T) and enter following command  \n",
    "```\n",
    "jupyter notebook\n",
    "```\n",
    "\n",
    "\n",
    "---\n",
    "\n",
    "## .py and .ipynb formats \n",
    "- .py is a regular python file. It's plain text and contains just your code.\n",
    "\n",
    "- .ipynb is a python notebook (Jupyter Notebook) and it contains the notebook code, the execution results and other internal settings in a specific format. You can just run .ipynb on the jupyter environment.\n",
    "\n",
    "## **Jupyter Notebook Essentials**\n",
    "\n",
    "Jupyter Notebooks are interactive tools combining **code**, **output**, and **documentation**. Here are some key essentials to get started:\n",
    "\n",
    "### **Running a Cell**\n",
    "- `Shift + Enter` → **Run** the cell and move to the next.  \n",
    "- `Ctrl + Enter` → **Run** the cell and stay on the current cell.  \n",
    "\n",
    "### **Cell Types**\n",
    "There are 3 basic cell types:\n",
    "- **Code cells:** For writing and executing Python code.\n",
    "- **Markdown cells:** For adding text, explanations, equations, and images. (Markup language/HTML). When a Markdown cell is executed, the markdown code is converted into the corresponding formatted rich text. Within Markdown cells, you can also include $mathematics$ in a straightforward way using standard $\\LaTeX$ notation: `$...$` for inline mathematics and `$$...$$` for displayed mathematics. The $\\LaTeX$ portions are automatically rendered in the HTML output as equations with high quality typography. This is made possible by [MathJax](https://www.mathjax.org/), which supports a large subset of $\\LaTeX$ functionality.\n",
    "- **Raw cells:** Unformatted text that is included, without modifications, when notebooks are converted to different formats using nbconvert. \n",
    "\n",
    "### **Useful Shortcuts**\n",
    "- **Create a new cell**:  \n",
    "    - `A` → Insert a cell **above**.  \n",
    "    - `B` → Insert a cell **below**.  \n",
    "- **Delete a cell**: Press `D` **twice** (`D, D`).  \n",
    "- **Save notebook**: `S` or `Ctrl + S`.  \n",
    "- **Change cell type**:  \n",
    "    - Code → Press `Y`.  \n",
    "    - Markdown → Press `M`.\n",
    "\n",
    "\n",
    "---\n",
    "## Using Google Colab\n",
    "- [Google Colab](https://colab.research.google.com/) is very similar to Jupyter Notebook. It has same types of cell blocks and markdown text blocks and supports everthing that can be done in jupyter.  \n",
    "- Added benifit is the cloud sync, you can access your code files on any device by logging into your google account as the colab files are stored on google drive. Colab opens in browser window just like Jupyter but it uses Python 3 Google Compute Engine Backend instead of IPython kernel in Jupyter, so you need internet connectivity.\n",
    "- There is option to connect to local runtime so that you can use colab offline but you have to [follow this procedure](https://research.google.com/colaboratory/local-runtimes.html) to make it happen.  \n",
    "- Rest all the instructions are same as Jupyter Notebook. [Here's a Cheat sheet for Google Colab](https://github.com/Tanu-N-Prabhu/Python/blob/master/Cheat_sheet_for_Google_Colab.ipynb)."
   ]
  },
  {
   "cell_type": "markdown",
   "id": "1cb0e7ec-22d4-4fcb-9a8b-60116a3d628a",
   "metadata": {},
   "source": [
    "# Basics"
   ]
  },
  {
   "cell_type": "code",
   "execution_count": 1,
   "id": "fc838979-81f3-482c-a7e0-f57138e3b20a",
   "metadata": {},
   "outputs": [
    {
     "data": {
      "text/plain": [
       "'Text enclosed in three single quotes\\nallows to write multi line comments'"
      ]
     },
     "execution_count": 1,
     "metadata": {},
     "output_type": "execute_result"
    }
   ],
   "source": [
    "# This is a comment. '#' is used for comments which can fit in one line\n",
    "\n",
    "'''Text enclosed in three single quotes\n",
    "allows to write multi line comments'''"
   ]
  },
  {
   "cell_type": "code",
   "execution_count": 2,
   "id": "e742a51a-7dee-4083-99c2-9ae7ea8a5ab8",
   "metadata": {},
   "outputs": [
    {
     "name": "stdout",
     "output_type": "stream",
     "text": [
      "Hello World\n"
     ]
    }
   ],
   "source": [
    "print('Hello World')"
   ]
  },
  {
   "cell_type": "code",
   "execution_count": 3,
   "id": "4022335f-e2ad-475e-8450-6660479135d9",
   "metadata": {},
   "outputs": [
    {
     "name": "stdout",
     "output_type": "stream",
     "text": [
      "Hubble's Law\n"
     ]
    }
   ],
   "source": [
    "print(\"Hubble's Law\")"
   ]
  },
  {
   "cell_type": "code",
   "execution_count": 4,
   "id": "439b521a-7cd6-48c8-93e8-15e70879462a",
   "metadata": {},
   "outputs": [
    {
     "name": "stdout",
     "output_type": "stream",
     "text": [
      "Hubble's Law\n"
     ]
    }
   ],
   "source": [
    "print('Hubble\\'s Law')"
   ]
  },
  {
   "cell_type": "code",
   "execution_count": 5,
   "id": "3ce7d6b8-f19e-44cf-a103-c72135e34a4a",
   "metadata": {},
   "outputs": [],
   "source": [
    "a = 3\n",
    "b = 4\n",
    "c = a+b"
   ]
  },
  {
   "cell_type": "code",
   "execution_count": 6,
   "id": "1039fece-96f1-442b-95ed-e5ac5bec7b1b",
   "metadata": {},
   "outputs": [
    {
     "name": "stdout",
     "output_type": "stream",
     "text": [
      "7\n"
     ]
    }
   ],
   "source": [
    "print(c)"
   ]
  },
  {
   "cell_type": "code",
   "execution_count": 7,
   "id": "220fcb2b-1986-4eba-9a23-7df75bfb15ba",
   "metadata": {},
   "outputs": [
    {
     "data": {
      "text/plain": [
       "7"
      ]
     },
     "execution_count": 7,
     "metadata": {},
     "output_type": "execute_result"
    }
   ],
   "source": [
    "c"
   ]
  },
  {
   "cell_type": "code",
   "execution_count": null,
   "id": "e66aa8d3-1277-4321-a791-8f14a174103d",
   "metadata": {},
   "outputs": [],
   "source": []
  },
  {
   "cell_type": "markdown",
   "id": "6f37b5ee-1aeb-4da7-8a4d-dc6d5ab11a2c",
   "metadata": {
    "jp-MarkdownHeadingCollapsed": true
   },
   "source": [
    "### Operations\n",
    "\n",
    "| Python Operator | Description  |\n",
    "| :---: | :---: |\n",
    "| `+` | addition |\n",
    "| `-` | subtraction |\n",
    "| `*` | multiplication |\n",
    "| `/` | division |\n",
    "| `**` | power |"
   ]
  },
  {
   "cell_type": "markdown",
   "id": "15507b4d-a92c-4cea-8ff4-5fcc72491ee7",
   "metadata": {},
   "source": [
    "## There are different object types in Python\n",
    "\n",
    "- Strings\n",
    "- Numbers\n",
    "- Lists\n",
    "- Tuples\n",
    "- Dictionaries\n",
    "- Set\n",
    "- Boolean"
   ]
  },
  {
   "cell_type": "markdown",
   "id": "203ec24a-8895-479d-881f-8911aa25fb7f",
   "metadata": {},
   "source": [
    "## Strings"
   ]
  },
  {
   "cell_type": "code",
   "execution_count": 8,
   "id": "49e98d03-42c4-4c18-847d-325ef41ea7d3",
   "metadata": {},
   "outputs": [],
   "source": [
    "s = \"Simple string. A sequence of characters which can also be numbers 1,2,3 and special characters `/@#$% \""
   ]
  },
  {
   "cell_type": "code",
   "execution_count": 9,
   "id": "ba262d6d-cbff-4135-980c-eca4aa608eff",
   "metadata": {},
   "outputs": [
    {
     "data": {
      "text/plain": [
       "'Simple string. A sequence of characters which can also be numbers 1,2,3 and special characters `/@#$% '"
      ]
     },
     "execution_count": 9,
     "metadata": {},
     "output_type": "execute_result"
    }
   ],
   "source": [
    "s"
   ]
  },
  {
   "cell_type": "code",
   "execution_count": 10,
   "id": "9c599a22-6d6c-448f-9494-d104872374f2",
   "metadata": {},
   "outputs": [],
   "source": [
    "# Using escape characters and line change or tab operators in print statement\n",
    "\n",
    "message = \"This is the first day of Astro winter school.\\nOrganiser:\\tWilson College\\nLanguage:\\tPython\""
   ]
  },
  {
   "cell_type": "code",
   "execution_count": 11,
   "id": "726cd68d-bbf2-4f2b-9d83-5107df69ce0e",
   "metadata": {},
   "outputs": [
    {
     "name": "stdout",
     "output_type": "stream",
     "text": [
      "This is the first day of Astro winter school.\n",
      "Organiser:\tWilson College\n",
      "Language:\tPython\n"
     ]
    }
   ],
   "source": [
    "print(message)"
   ]
  },
  {
   "cell_type": "markdown",
   "id": "b540b044-1501-438c-a7f3-e44910bfb6a0",
   "metadata": {},
   "source": [
    "#### Formatted string\n",
    "\n",
    "Used to parse a variable while printing string"
   ]
  },
  {
   "cell_type": "code",
   "execution_count": 12,
   "id": "cf9b9a6b-7098-4860-b01f-c34c5028393e",
   "metadata": {},
   "outputs": [],
   "source": [
    "duration = 7\n",
    "message = f\"The Astro winter school will be for {duration} days.\""
   ]
  },
  {
   "cell_type": "code",
   "execution_count": 13,
   "id": "30a33370-14bb-438a-8d75-3b1c31f4b2b9",
   "metadata": {},
   "outputs": [
    {
     "name": "stdout",
     "output_type": "stream",
     "text": [
      "The Astro winter school will be for 7 days.\n"
     ]
    }
   ],
   "source": [
    "print(message)"
   ]
  },
  {
   "cell_type": "code",
   "execution_count": 14,
   "id": "013b4a4d-08f5-4e22-b271-022c55051104",
   "metadata": {},
   "outputs": [
    {
     "data": {
      "text/plain": [
       "'The Astro winter school will be for 7 days.'"
      ]
     },
     "execution_count": 14,
     "metadata": {},
     "output_type": "execute_result"
    }
   ],
   "source": [
    "message"
   ]
  },
  {
   "cell_type": "code",
   "execution_count": 15,
   "id": "b18ee08a-a1eb-492c-82cf-a49620bfd925",
   "metadata": {},
   "outputs": [
    {
     "data": {
      "text/plain": [
       "'stro winter school will be for 7 days.'"
      ]
     },
     "execution_count": 15,
     "metadata": {},
     "output_type": "execute_result"
    }
   ],
   "source": [
    "message[5:]"
   ]
  },
  {
   "cell_type": "code",
   "execution_count": 16,
   "id": "8b42d4ca-65a1-4ddc-9b38-84ce4b3ca23c",
   "metadata": {},
   "outputs": [
    {
     "data": {
      "text/plain": [
       "'The Ast'"
      ]
     },
     "execution_count": 16,
     "metadata": {},
     "output_type": "execute_result"
    }
   ],
   "source": [
    "message[:7]"
   ]
  },
  {
   "cell_type": "markdown",
   "id": "01169ea2-19f9-448b-9abd-f70e9b1d653f",
   "metadata": {
    "id": "1oEdCxU_6WC9"
   },
   "source": [
    "## Numbers\n",
    "There are 3 numeric types:\n",
    "\n",
    "- `int`\n",
    "- `float`\n",
    "- `complex`"
   ]
  },
  {
   "cell_type": "markdown",
   "id": "d9d7692a-5161-48fa-8d36-f23fe64eaacb",
   "metadata": {
    "id": "EQaATdsqPTHN"
   },
   "source": [
    "#### How to differentiate between types of numbers?\n",
    "\n",
    "There is a small note regarding the inspection of different number types.\n",
    "\n",
    "\"*How do we know what type of number is in your code?*\"\n",
    "\n",
    "To solve this issue there is an in-built function called `type()` which lets you know the type of an object.\n",
    "\n"
   ]
  },
  {
   "cell_type": "code",
   "execution_count": 17,
   "id": "7656b07f-6cce-490f-8d22-42e63c8119c5",
   "metadata": {},
   "outputs": [
    {
     "name": "stdout",
     "output_type": "stream",
     "text": [
      "<class 'str'>\n",
      "<class 'int'>\n"
     ]
    }
   ],
   "source": [
    "# If you are given a string which includes a number, such as:\n",
    "a = '24'\n",
    "print(type(a)) #Output: <class 'str'>\n",
    "\n",
    "# Converting string type to integer type:\n",
    "b = int(a)\n",
    "print(type(b)) #Output: <class 'int'>"
   ]
  },
  {
   "cell_type": "markdown",
   "id": "5309c712-28b6-4d2e-9581-bf2869c2d5ad",
   "metadata": {
    "id": "xRgsGUfl0n7z"
   },
   "source": [
    "### Floating numbers\n",
    "\n",
    "Floating numbers are used when we want to play around with numbers with decimal numbers.\n",
    "For example, `e = 2.718`.\n",
    "\n",
    "You can convert a string to a floating number, for example:"
   ]
  },
  {
   "cell_type": "code",
   "execution_count": 18,
   "id": "23be33e5-530c-4830-95fe-6d538f7a887c",
   "metadata": {
    "ExecuteTime": {
     "end_time": "2023-05-24T14:28:15.820592Z",
     "start_time": "2023-05-24T14:28:15.817686Z"
    },
    "colab": {
     "base_uri": "https://localhost:8080/"
    },
    "id": "UWS0Obrw101-",
    "outputId": "498e8193-368b-418c-df0a-36ae9e52176a"
   },
   "outputs": [
    {
     "name": "stdout",
     "output_type": "stream",
     "text": [
      "2.718\n",
      " Type:<class 'float'>\n"
     ]
    }
   ],
   "source": [
    "e_string = '2.718'\n",
    "\n",
    "e_float = float(e_string)\n",
    "\n",
    "print(f\"{e_float}\\n Type:{type(e_float)}\")"
   ]
  },
  {
   "cell_type": "markdown",
   "id": "3f53a7c0-f9e7-4c24-8995-eadd9d170ead",
   "metadata": {
    "id": "8IKpmoptPjFt"
   },
   "source": [
    "- If you need to **round-off** the floating number use the method `round()` as follows:"
   ]
  },
  {
   "cell_type": "code",
   "execution_count": 19,
   "id": "40a85fba-b887-42d6-a2ca-291fa006a366",
   "metadata": {
    "ExecuteTime": {
     "end_time": "2023-05-24T14:28:17.591381Z",
     "start_time": "2023-05-24T14:28:17.587749Z"
    },
    "colab": {
     "base_uri": "https://localhost:8080/"
    },
    "id": "G-BLn3SZPsEs",
    "outputId": "18610054-b7c1-4817-adf1-e0e07520aff1"
   },
   "outputs": [
    {
     "data": {
      "text/plain": [
       "4.546"
      ]
     },
     "execution_count": 19,
     "metadata": {},
     "output_type": "execute_result"
    }
   ],
   "source": [
    "a = 4.54578\n",
    "\n",
    "# rounding off to three decimal places.\n",
    "round(a, 3)"
   ]
  },
  {
   "cell_type": "markdown",
   "id": "eaa303ec-2893-4001-b22f-516cacc97420",
   "metadata": {
    "id": "5FJkS3LfEmdB"
   },
   "source": [
    "### Imaginary numbers:\n",
    "\n",
    "**Defining an imaginary number**:\n",
    "\n",
    "Main ways to define the complex number:"
   ]
  },
  {
   "cell_type": "code",
   "execution_count": 20,
   "id": "1db1f99e-f108-4d35-9308-88cc966dc2b4",
   "metadata": {
    "ExecuteTime": {
     "end_time": "2023-05-24T14:28:19.060842Z",
     "start_time": "2023-05-24T14:28:19.057687Z"
    },
    "colab": {
     "base_uri": "https://localhost:8080/"
    },
    "id": "QLJi9jlvE2o2",
    "outputId": "b3c7148e-a858-465a-b44c-34af6a5e94a7"
   },
   "outputs": [
    {
     "name": "stdout",
     "output_type": "stream",
     "text": [
      "<class 'complex'>\n",
      "<class 'complex'>\n",
      "<class 'complex'>\n"
     ]
    }
   ],
   "source": [
    "c = 5 + 4j\n",
    "print(type(c))\n",
    "\n",
    "d = 10j + 7\n",
    "print(type(d))\n",
    "\n",
    "f = 2j\n",
    "print(type(f))"
   ]
  },
  {
   "cell_type": "markdown",
   "id": "1eff11a6-ebd5-4a95-8a02-8841e950bb39",
   "metadata": {
    "id": "j3aPsbKlFSt0"
   },
   "source": [
    "Python understands \"`j`\" as $\\sqrt{-1}$\n",
    "\n",
    "Common mistakes to avoid:\n",
    "\n",
    "- Don't use `a + b*j`, otherwise you will encounter an error. Instead use the above methods to define the complex number."
   ]
  },
  {
   "cell_type": "markdown",
   "id": "a31069b0-173a-41ec-8132-37aa354b30bb",
   "metadata": {
    "id": "eOO-1Um_JGc3"
   },
   "source": [
    "<u>**Note**</u>: If we want to define a *very large or a very small number*, for example, the planck's constant,  *h* = $6.626*10^{-34}$ (in SI Units), or speed of light, *c* = $3*10^{8}$ (SI Units). We can use the following notation:"
   ]
  },
  {
   "cell_type": "code",
   "execution_count": 21,
   "id": "0fd219b9-a649-47f7-b2b3-155be9abae0b",
   "metadata": {
    "ExecuteTime": {
     "end_time": "2023-05-24T14:28:20.927078Z",
     "start_time": "2023-05-24T14:28:20.917813Z"
    },
    "colab": {
     "base_uri": "https://localhost:8080/"
    },
    "id": "KSf3GHDFKoIh",
    "outputId": "0ee61d07-abb3-4f18-bcab-253ff8f25704"
   },
   "outputs": [
    {
     "name": "stdout",
     "output_type": "stream",
     "text": [
      "6.626e-34\n",
      "300000000.0\n"
     ]
    }
   ],
   "source": [
    "# Planck's constant\n",
    "h = 6.626e-34\n",
    "print(h)\n",
    "# Speed of light\n",
    "c = 3e8\n",
    "print(c)"
   ]
  },
  {
   "cell_type": "markdown",
   "id": "a2171573-8082-47ef-82d1-c24342a92edc",
   "metadata": {
    "id": "u36RB0KBMC4L"
   },
   "source": [
    "## Tuples\n",
    "\n",
    "Tuples are used for storing multiple items in a single variable.\n",
    "The items can be stored inside the curvy braces \"`()`\".\n",
    "\n"
   ]
  },
  {
   "cell_type": "code",
   "execution_count": 22,
   "id": "57164d20-55e0-4cd4-85a9-7d2c78c4c64a",
   "metadata": {
    "ExecuteTime": {
     "end_time": "2023-05-24T14:28:35.952845Z",
     "start_time": "2023-05-24T14:28:35.948632Z"
    },
    "colab": {
     "base_uri": "https://localhost:8080/"
    },
    "id": "POK6SWpANPW_",
    "outputId": "88492a33-04e6-4fb8-cf66-fd533a9e40cd"
   },
   "outputs": [
    {
     "name": "stdout",
     "output_type": "stream",
     "text": [
      "(1, 3, 5, 7, 9)\n",
      "('one', 'three', 'five', 'seven', 'nine')\n",
      "('one', 3, 'five', 7, 'nine')\n"
     ]
    }
   ],
   "source": [
    "t1 = (1,3,5,7,9)\n",
    "\n",
    "t2 = ('one','three', 'five', 'seven', 'nine')\n",
    "\n",
    "t3 = ('one', 3, 'five', 7, 'nine')\n",
    "\n",
    "print(f\"{t1}\\n{t2}\\n{t3}\")"
   ]
  },
  {
   "cell_type": "markdown",
   "id": "5993312f-8742-4227-81c5-1ba45e66a58d",
   "metadata": {
    "id": "kKZKXDG4Ns87"
   },
   "source": [
    "Above are all examples of Tuples.\n",
    "\n",
    " A 'list' is very much similar to a tuple. The only **difference between a tuple and a list** is that a tuple's value cannot be changed after defining it. We shall learn about lists and its importance in the coming sections."
   ]
  },
  {
   "cell_type": "markdown",
   "id": "43071c62-8fb8-48f7-b0ac-eeb85253c666",
   "metadata": {
    "id": "QMqN3VPEQOyk"
   },
   "source": [
    "You can check the **length of the tuple** simply by using `len()` method.\n",
    "\n",
    "\n"
   ]
  },
  {
   "cell_type": "code",
   "execution_count": 23,
   "id": "fd87689c-07ca-49aa-afab-ff279623c07c",
   "metadata": {
    "ExecuteTime": {
     "end_time": "2023-05-24T14:28:37.362307Z",
     "start_time": "2023-05-24T14:28:37.358295Z"
    },
    "colab": {
     "base_uri": "https://localhost:8080/"
    },
    "id": "2eQrQExcQVGW",
    "outputId": "e4a7ac53-198f-4273-9ced-0cfd8141685b"
   },
   "outputs": [
    {
     "data": {
      "text/plain": [
       "5"
      ]
     },
     "execution_count": 23,
     "metadata": {},
     "output_type": "execute_result"
    }
   ],
   "source": [
    "len(t1)"
   ]
  },
  {
   "cell_type": "code",
   "execution_count": 24,
   "id": "ddac6bbe-8828-423b-b001-45e938ab5d2d",
   "metadata": {
    "ExecuteTime": {
     "end_time": "2023-05-24T14:28:37.842110Z",
     "start_time": "2023-05-24T14:28:37.838362Z"
    },
    "colab": {
     "base_uri": "https://localhost:8080/"
    },
    "id": "2eQrQExcQVGW",
    "outputId": "e4a7ac53-198f-4273-9ced-0cfd8141685b"
   },
   "outputs": [
    {
     "data": {
      "text/plain": [
       "5"
      ]
     },
     "execution_count": 24,
     "metadata": {},
     "output_type": "execute_result"
    }
   ],
   "source": [
    "len(t1)"
   ]
  },
  {
   "cell_type": "markdown",
   "id": "38ad1c72-055f-4fbe-9bed-c29d1272bfc0",
   "metadata": {},
   "source": [
    "## Dictionary\n",
    "\n",
    "A **dictionary** in Python is a collection of key-value pairs. It is used to store and organize data where each value is associated with a unique key.\n",
    "\n",
    "- **Keys**: Must be unique and immutable (e.g., strings, numbers, or tuples).  \n",
    "- **Values**: Can be of any data type (e.g., strings, lists, numbers, or other dictionaries).  \n",
    "\n",
    "Dictionaries are defined using **curly braces `{}`**.\n",
    "\n",
    "### **Basic Syntax**\n",
    "```python\n",
    "# Example dictionary\n",
    "example_dict = {\n",
    "    \"key1\": \"value1\",\n",
    "    \"key2\": \"value2\"\n",
    "}\n"
   ]
  },
  {
   "cell_type": "code",
   "execution_count": 25,
   "id": "442771a1-bb63-440c-9bcd-b98506cf47b4",
   "metadata": {},
   "outputs": [
    {
     "name": "stdout",
     "output_type": "stream",
     "text": [
      "Sirius properties:\n",
      "Type: Main Sequence\n",
      "Surface Temperature: 9940 K\n",
      "Distance: 8.6 light-years\n"
     ]
    }
   ],
   "source": [
    "# Dictionary to store star properties\n",
    "stars = {\n",
    "    \"Sirius\": {\"type\": \"Main Sequence\", \"temperature\": 9940, \"distance_ly\": 8.6},\n",
    "    \"Betelgeuse\": {\"type\": \"Red Supergiant\", \"temperature\": 3500, \"distance_ly\": 642.5},\n",
    "    \"Vega\": {\"type\": \"Main Sequence\", \"temperature\": 9602, \"distance_ly\": 25.3}\n",
    "}\n",
    "\n",
    "# Accessing data for Sirius\n",
    "print(\"Sirius properties:\")\n",
    "print(\"Type:\", stars[\"Sirius\"][\"type\"])\n",
    "print(\"Surface Temperature:\", stars[\"Sirius\"][\"temperature\"], \"K\")\n",
    "print(\"Distance:\", stars[\"Sirius\"][\"distance_ly\"], \"light-years\")\n"
   ]
  },
  {
   "cell_type": "code",
   "execution_count": 26,
   "id": "1b29f85f-200a-44d0-a985-7d2c21cb14ba",
   "metadata": {},
   "outputs": [
    {
     "data": {
      "text/plain": [
       "{'Sirius': {'type': 'Main Sequence', 'temperature': 9940, 'distance_ly': 8.6},\n",
       " 'Betelgeuse': {'type': 'Red Supergiant',\n",
       "  'temperature': 3500,\n",
       "  'distance_ly': 642.5},\n",
       " 'Vega': {'type': 'Main Sequence', 'temperature': 9602, 'distance_ly': 25.3}}"
      ]
     },
     "execution_count": 26,
     "metadata": {},
     "output_type": "execute_result"
    }
   ],
   "source": [
    "stars"
   ]
  },
  {
   "cell_type": "code",
   "execution_count": 27,
   "id": "b6b9d79b-1058-4119-ae95-c34628fecfdf",
   "metadata": {},
   "outputs": [
    {
     "data": {
      "text/plain": [
       "{'type': 'Main Sequence', 'temperature': 9940, 'distance_ly': 8.6}"
      ]
     },
     "execution_count": 27,
     "metadata": {},
     "output_type": "execute_result"
    }
   ],
   "source": [
    "stars['Sirius']"
   ]
  },
  {
   "cell_type": "code",
   "execution_count": 28,
   "id": "dce8e550-eb99-4c39-bcfc-78474255ee79",
   "metadata": {},
   "outputs": [
    {
     "name": "stdout",
     "output_type": "stream",
     "text": [
      "type = Main Sequence\n",
      "\n",
      "temperature = 9940\n",
      "\n",
      "distance_ly = 8.6\n",
      "\n"
     ]
    }
   ],
   "source": [
    "for key,val in stars['Sirius'].items():\n",
    "    print(f\"{key} = {val}\\n\")"
   ]
  },
  {
   "cell_type": "code",
   "execution_count": 29,
   "id": "38718980-efd1-4db5-ac9a-106eb58e9fc2",
   "metadata": {},
   "outputs": [
    {
     "data": {
      "text/plain": [
       "dict_values(['Main Sequence', 9940, 8.6])"
      ]
     },
     "execution_count": 29,
     "metadata": {},
     "output_type": "execute_result"
    }
   ],
   "source": [
    "stars['Sirius'].values()"
   ]
  },
  {
   "cell_type": "code",
   "execution_count": 30,
   "id": "6cee3170-dba5-4534-8b50-a78e58f36b0d",
   "metadata": {},
   "outputs": [
    {
     "data": {
      "text/plain": [
       "dict_keys(['type', 'temperature', 'distance_ly'])"
      ]
     },
     "execution_count": 30,
     "metadata": {},
     "output_type": "execute_result"
    }
   ],
   "source": [
    "stars['Sirius'].keys()"
   ]
  },
  {
   "cell_type": "markdown",
   "id": "d1694431-d881-4b00-87f5-388d1952598b",
   "metadata": {},
   "source": [
    "## Sets\n",
    "\n",
    "Set is an unordered collection of unique elements. Unlike lists or tuples, sets do not allow duplicate values. They are useful when you need to store a collection of items without duplicates and perform mathematical set operations like union, intersection and difference.\n",
    "\n",
    "** Key Characteristics of Sets **\n",
    "\n",
    "1. Unordered - Sets do not maintain the order of elements.\n",
    "2. Unique elements - Duplicate elements are automatically removed.\n",
    "3. Mutable - You can add or remove elements."
   ]
  },
  {
   "cell_type": "code",
   "execution_count": 84,
   "id": "4e442110-9750-4de5-b828-272e8002dee8",
   "metadata": {},
   "outputs": [
    {
     "name": "stdout",
     "output_type": "stream",
     "text": [
      "Set: {1, 2, 3, 4}\n",
      "Empty Set: set()\n"
     ]
    }
   ],
   "source": [
    "# Creating a set\n",
    "my_set = {1, 2, 3, 4}\n",
    "print(\"Set:\", my_set)\n",
    "\n",
    "# Creating an empty set\n",
    "empty_set = set()  # Use the set() constructor\n",
    "print(\"Empty Set:\", empty_set)\n"
   ]
  },
  {
   "cell_type": "code",
   "execution_count": 85,
   "id": "c47f42bb-9cd3-4e8d-99fc-f8c421f82dd4",
   "metadata": {},
   "outputs": [
    {
     "name": "stdout",
     "output_type": "stream",
     "text": [
      "After Adding 5: {1, 2, 3, 4, 5}\n",
      "After Removing 3: {1, 2, 4, 5}\n",
      "After Discarding 10: {1, 2, 4, 5}\n"
     ]
    }
   ],
   "source": [
    "# Adding elements\n",
    "my_set.add(5)\n",
    "print(\"After Adding 5:\", my_set)\n",
    "\n",
    "# Removing elements\n",
    "my_set.remove(3)\n",
    "print(\"After Removing 3:\", my_set)\n",
    "\n",
    "# Using discard (does not raise an error if the element is not found)\n",
    "my_set.discard(10)  # No error\n",
    "print(\"After Discarding 10:\", my_set)\n"
   ]
  },
  {
   "cell_type": "code",
   "execution_count": 86,
   "id": "7f206ab8-8976-4ce1-8ba4-d70dca069f4c",
   "metadata": {},
   "outputs": [
    {
     "name": "stdout",
     "output_type": "stream",
     "text": [
      "Union: {1, 2, 3, 4, 5, 6}\n",
      "Intersection: {3, 4}\n",
      "Difference (set_a - set_b): {1, 2}\n",
      "Symmetric Difference: {1, 2, 5, 6}\n"
     ]
    }
   ],
   "source": [
    "# Define two sets\n",
    "set_a = {1, 2, 3, 4}\n",
    "set_b = {3, 4, 5, 6}\n",
    "\n",
    "# Union\n",
    "print(\"Union:\", set_a | set_b)  # or set_a.union(set_b)\n",
    "\n",
    "# Intersection\n",
    "print(\"Intersection:\", set_a & set_b)  # or set_a.intersection(set_b)\n",
    "\n",
    "# Difference\n",
    "print(\"Difference (set_a - set_b):\", set_a - set_b)\n",
    "\n",
    "# Symmetric Difference\n",
    "print(\"Symmetric Difference:\", set_a ^ set_b)\n"
   ]
  },
  {
   "cell_type": "code",
   "execution_count": 87,
   "id": "315a5f0a-649b-48c3-9f3c-38a6591ed266",
   "metadata": {},
   "outputs": [
    {
     "name": "stdout",
     "output_type": "stream",
     "text": [
      "True\n",
      "True\n"
     ]
    }
   ],
   "source": [
    "# Checking Membership\n",
    "\n",
    "print(2 in set_a)  # True\n",
    "print(7 not in set_a)  # True\n"
   ]
  },
  {
   "cell_type": "code",
   "execution_count": 88,
   "id": "3a9086e0-bbbe-473b-8be6-395b059039b0",
   "metadata": {},
   "outputs": [
    {
     "name": "stdout",
     "output_type": "stream",
     "text": [
      "Unique Elements: {1, 2, 3, 4, 5}\n"
     ]
    }
   ],
   "source": [
    "# Removing duplicate elements\n",
    "\n",
    "my_list = [1, 2, 2, 3, 4, 4, 5]\n",
    "unique_elements = set(my_list)\n",
    "print(\"Unique Elements:\", unique_elements)\n"
   ]
  },
  {
   "cell_type": "code",
   "execution_count": 89,
   "id": "ed7d4df9-ba6d-47bf-ba70-db6298189868",
   "metadata": {},
   "outputs": [
    {
     "name": "stdout",
     "output_type": "stream",
     "text": [
      "set_b is a subset of set_a: True\n",
      "set_a is a superset of set_b: True\n"
     ]
    }
   ],
   "source": [
    "set_a = {1, 2, 3}\n",
    "set_b = {1, 2}\n",
    "\n",
    "print(\"set_b is a subset of set_a:\", set_b.issubset(set_a))\n",
    "print(\"set_a is a superset of set_b:\", set_a.issuperset(set_b))\n"
   ]
  },
  {
   "cell_type": "code",
   "execution_count": 2,
   "id": "d71b1806-025f-4ab3-85d8-3a551b094b11",
   "metadata": {},
   "outputs": [
    {
     "name": "stdout",
     "output_type": "stream",
     "text": [
      "True\n",
      "List Time: 0.011547088623046875\n",
      "True\n",
      "Set Time: 7.796287536621094e-05\n"
     ]
    }
   ],
   "source": [
    "large_list = list(range(1000000))\n",
    "large_set = set(large_list)\n",
    "\n",
    "# Membership test\n",
    "import time\n",
    "\n",
    "start_time = time.time()\n",
    "print(999999 in large_list)  # Testing with a list\n",
    "print(\"List Time:\", time.time() - start_time)\n",
    "\n",
    "start_time = time.time()\n",
    "print(999999 in large_set)  # Testing with a set\n",
    "print(\"Set Time:\", time.time() - start_time)\n"
   ]
  },
  {
   "cell_type": "markdown",
   "id": "3fb4b7c8-c8fe-4200-83a8-936a0195b795",
   "metadata": {
    "id": "z0x6uAZsb0cH"
   },
   "source": [
    "## Lists\n",
    "- Lists is an ordered collection of elements enclosed within `[ ]`\n",
    "- Lists are similar to tuples, the difference is that lists are $mutable$, i.e., we can change data or reassign items.\n",
    "- `L = [1,2,'a','b',True,3.145,False]`\n",
    "- Accessing elements is same as tuples.\n",
    "\n",
    "    `L[0]`, `L[3]`, `L[2,6]`, etc\n",
    "\n",
    "- To change the element in list enter the element number in square bracket and reassign \n",
    "\n",
    "    `L[0] = 100`\n",
    "    \n",
    "- To add element in list we use 'append',\n",
    "\n",
    "    `L.append( )`\n",
    "    \n",
    "- To add list inside list,\n",
    "\n",
    "    `L.append([5,6,7,8])`\n",
    "    \n",
    "- To remove element from list,\n",
    "\n",
    "    `L.pop( )` - pops out the last element in list  \n",
    "    `L.pop(index)` - pops out the element at the said index"
   ]
  },
  {
   "cell_type": "code",
   "execution_count": 31,
   "id": "201fc061-3621-4b20-85dc-525033406c7d",
   "metadata": {
    "ExecuteTime": {
     "end_time": "2023-05-24T14:28:41.051516Z",
     "start_time": "2023-05-24T14:28:41.048535Z"
    },
    "id": "dkWwIzz141Cy"
   },
   "outputs": [],
   "source": [
    "# Define a list using [ ] square brackets\n",
    "L = [1,2,'a','b',True,3.145,1+2j]"
   ]
  },
  {
   "cell_type": "code",
   "execution_count": 32,
   "id": "5d5fe907-1ff0-469d-b729-f2f0cc16bab6",
   "metadata": {
    "ExecuteTime": {
     "end_time": "2023-05-24T14:28:41.441516Z",
     "start_time": "2023-05-24T14:28:41.437156Z"
    },
    "colab": {
     "base_uri": "https://localhost:8080/"
    },
    "id": "3PxMcA1L5OHx",
    "outputId": "676280ef-8955-491a-ac08-930474682e80"
   },
   "outputs": [
    {
     "data": {
      "text/plain": [
       "True"
      ]
     },
     "execution_count": 32,
     "metadata": {},
     "output_type": "execute_result"
    }
   ],
   "source": [
    "# Access elements using their index\n",
    "L[4]"
   ]
  },
  {
   "cell_type": "code",
   "execution_count": 33,
   "id": "ec212546-a528-4343-b3ea-65bd7f5a9da2",
   "metadata": {
    "ExecuteTime": {
     "end_time": "2023-05-24T14:28:41.863485Z",
     "start_time": "2023-05-24T14:28:41.859322Z"
    },
    "colab": {
     "base_uri": "https://localhost:8080/"
    },
    "id": "wSZX-CMJ5WB4",
    "outputId": "c961456c-8134-4d0e-d3ec-63e3f7cb7b92"
   },
   "outputs": [
    {
     "name": "stdout",
     "output_type": "stream",
     "text": [
      "[100, 2, 'a', 'b', True, 3.145, (1+2j)]\n"
     ]
    }
   ],
   "source": [
    "# Changing element in list\n",
    "L[0] = 100\n",
    "print(L)"
   ]
  },
  {
   "cell_type": "code",
   "execution_count": 34,
   "id": "6fa61583-0c89-4fff-97a8-3185d5f3202d",
   "metadata": {
    "ExecuteTime": {
     "end_time": "2023-05-24T14:28:42.316651Z",
     "start_time": "2023-05-24T14:28:42.312398Z"
    },
    "colab": {
     "base_uri": "https://localhost:8080/"
    },
    "id": "rj7y_rxh5eU-",
    "outputId": "14cd4801-0833-4d32-b6b9-84d4b4ef1c2b"
   },
   "outputs": [
    {
     "name": "stdout",
     "output_type": "stream",
     "text": [
      "[100, 2, 'a', 'b', True, 3.145, (1+2j), 24]\n"
     ]
    }
   ],
   "source": [
    "# Adding element in a list\n",
    "L.append(24)\n",
    "print(L)"
   ]
  },
  {
   "cell_type": "code",
   "execution_count": 35,
   "id": "9bf8c4ce-8b56-425a-849c-8467261176e1",
   "metadata": {
    "ExecuteTime": {
     "end_time": "2023-05-24T14:28:42.881948Z",
     "start_time": "2023-05-24T14:28:42.878560Z"
    },
    "colab": {
     "base_uri": "https://localhost:8080/"
    },
    "id": "wvPve6xs5tRS",
    "outputId": "0811e6fd-49dc-4602-b095-20cbe8e39fbb"
   },
   "outputs": [
    {
     "name": "stdout",
     "output_type": "stream",
     "text": [
      "[100, 2, 'a', 'b', True, 3.145, (1+2j), 24, [5, 6, 7, 8]]\n"
     ]
    }
   ],
   "source": [
    "# Adding a list to a list\n",
    "L.append([5,6,7,8])\n",
    "print(L)"
   ]
  },
  {
   "cell_type": "code",
   "execution_count": 36,
   "id": "a0709036-161e-4a71-842e-66119f7c1459",
   "metadata": {
    "ExecuteTime": {
     "end_time": "2023-05-24T14:28:43.662194Z",
     "start_time": "2023-05-24T14:28:43.658951Z"
    },
    "colab": {
     "base_uri": "https://localhost:8080/"
    },
    "id": "at5ay5bw6Dhf",
    "outputId": "e1b441af-dda2-4dcf-9db3-cc0a772b2454"
   },
   "outputs": [
    {
     "name": "stdout",
     "output_type": "stream",
     "text": [
      "[100, 2, 'a', 'b', True, 3.145, (1+2j), 24]\n"
     ]
    }
   ],
   "source": [
    "# Removing elements \n",
    "L.pop() # Will remove the last element\n",
    "print(L)"
   ]
  },
  {
   "cell_type": "code",
   "execution_count": 37,
   "id": "40f228f1-f7b2-4631-8bde-8f3caa0a5c12",
   "metadata": {
    "ExecuteTime": {
     "end_time": "2023-05-24T14:28:44.143662Z",
     "start_time": "2023-05-24T14:28:44.139915Z"
    },
    "colab": {
     "base_uri": "https://localhost:8080/"
    },
    "id": "7xG4mkoa6fOb",
    "outputId": "57655797-f284-4185-a0b4-16911e6d9755"
   },
   "outputs": [
    {
     "name": "stdout",
     "output_type": "stream",
     "text": [
      "[100, 2, 'a', True, 3.145, (1+2j), 24]\n"
     ]
    }
   ],
   "source": [
    "L.pop(3) # Will remove element at 3rd index i.e 'b'\n",
    "print(L)"
   ]
  },
  {
   "cell_type": "markdown",
   "id": "44425ca7-7e65-49c2-8618-82e7cf5c6815",
   "metadata": {},
   "source": [
    "### List Comprehension\n",
    "\n",
    "List comprehensions provide a concise way to create lists in Python. They are especially useful for filtering and transforming data.\n",
    "\n",
    "Syntax - `[expression for item in iterable if condition]`"
   ]
  },
  {
   "cell_type": "code",
   "execution_count": 7,
   "id": "9961a722-db91-40fb-b8c9-08d48e46777c",
   "metadata": {},
   "outputs": [],
   "source": [
    "numbers = [1,2,3,4,5,6,7,8,9,10]"
   ]
  },
  {
   "cell_type": "code",
   "execution_count": 10,
   "id": "077c6391-4c07-4a00-bed5-895165fe8c08",
   "metadata": {},
   "outputs": [
    {
     "data": {
      "text/plain": [
       "[1, 4, 3, 16, 5, 36, 7, 64, 9, 100]"
      ]
     },
     "execution_count": 10,
     "metadata": {},
     "output_type": "execute_result"
    }
   ],
   "source": [
    "even_squares = []\n",
    "for n in numbers:\n",
    "    if n%2==0:\n",
    "        even_squares.append(n**2)\n",
    "    else:\n",
    "        even_squares.append(n)\n",
    "even_squares"
   ]
  },
  {
   "cell_type": "code",
   "execution_count": 13,
   "id": "dcecc332-8091-422d-9b13-b12c4fc2a0e1",
   "metadata": {},
   "outputs": [
    {
     "data": {
      "text/plain": [
       "[1, 4, 9, 16, 25, 36, 49, 64, 81, 100]"
      ]
     },
     "execution_count": 13,
     "metadata": {},
     "output_type": "execute_result"
    }
   ],
   "source": [
    "squares = [n**2 for n in numbers]\n",
    "squares"
   ]
  },
  {
   "cell_type": "code",
   "execution_count": 14,
   "id": "30410e77-dca9-4631-8509-9e409aba5ca1",
   "metadata": {},
   "outputs": [
    {
     "data": {
      "text/plain": [
       "[4, 16, 36, 64, 100]"
      ]
     },
     "execution_count": 14,
     "metadata": {},
     "output_type": "execute_result"
    }
   ],
   "source": [
    "even_squares = [n**2 for n in numbers if n%2==0]\n",
    "even_squares"
   ]
  },
  {
   "cell_type": "code",
   "execution_count": 16,
   "id": "3bf0946c-d2f7-47ec-9252-212937575a17",
   "metadata": {},
   "outputs": [
    {
     "data": {
      "text/plain": [
       "[1, 4, 3, 16, 5, 36, 7, 64, 9, 100]"
      ]
     },
     "execution_count": 16,
     "metadata": {},
     "output_type": "execute_result"
    }
   ],
   "source": [
    "squares = [n**2 if n%2==0 else n for n in numbers]\n",
    "squares"
   ]
  },
  {
   "cell_type": "code",
   "execution_count": 18,
   "id": "26fe6931-1b92-4756-9341-ac9a7cd6cf48",
   "metadata": {},
   "outputs": [
    {
     "ename": "SyntaxError",
     "evalue": "invalid syntax (2270881187.py, line 2)",
     "output_type": "error",
     "traceback": [
      "\u001b[0;36m  Cell \u001b[0;32mIn[18], line 2\u001b[0;36m\u001b[0m\n\u001b[0;31m    [n**2 for n in numbers if n%2==0 else n]\u001b[0m\n\u001b[0m                                     ^\u001b[0m\n\u001b[0;31mSyntaxError\u001b[0m\u001b[0;31m:\u001b[0m invalid syntax\n"
     ]
    }
   ],
   "source": [
    "# if there is if else condition in list comprehension then the if else conditions comes before the iterable condition\n",
    "[n**2 for n in numbers if n%2==0 else n]"
   ]
  },
  {
   "cell_type": "markdown",
   "id": "5811298d-6b32-40b4-a30f-1d9cd58c0fa4",
   "metadata": {
    "id": "YVNF0dwWQfdU"
   },
   "source": [
    "## Control Flow\n",
    "- Control Flow statements like loops and conditionals have blocks indicated by indentations. Any number of whitespaces is syntactically correct as long as it is consistent within a block. Typically `tab` is used for indentation which is equivalent to 4 spaces.\n",
    "- Looping statements are used to repeat tasks. To iterate over a sequence of numbers, the built-in function `range()` can be used. It generates arithmetic progression.\n",
    "- `while` loop can execute a set of statements as long as a condition is `True`\n",
    "- `for` loop is used for iterating over a sequence (either list, tuple, dictionary, set or string)\n",
    "- `break` is used to stop the loop even if the while condition is `True`\n",
    "- `continue` is used to stop the current iteration, and continue to the next.\n"
   ]
  },
  {
   "cell_type": "markdown",
   "id": "2497aaa1-8673-4de6-8800-3d857654556d",
   "metadata": {
    "id": "FuHd3T-wW3kB"
   },
   "source": [
    "### if/elif/else\n",
    "- An `if` statement checks for the given condition\n",
    "- Notations for logical conditons:\n",
    "  - `a==b` - Equals\n",
    "  - `a != b` - Not equal\n",
    "  - `a < b` - Less than\n",
    "  - `a <= b` - Less than or equal to\n",
    "  - `a > b` - Greater than\n",
    "  - `a >= b` - Greater than or equal to\n",
    "- `elif` means else if (if the previous conditions were not true, then try this condition)\n",
    "- `else` is for any other condition which doesn't belong to previous conditions."
   ]
  },
  {
   "cell_type": "code",
   "execution_count": 38,
   "id": "e112e6c4-778a-4537-82b4-bcb56c97de63",
   "metadata": {
    "ExecuteTime": {
     "end_time": "2023-05-24T14:28:45.942689Z",
     "start_time": "2023-05-24T14:28:45.938617Z"
    },
    "colab": {
     "base_uri": "https://localhost:8080/"
    },
    "id": "toUB4pDWQYYM",
    "outputId": "c7633ad8-25e9-4dcf-9c71-8fe4c0c4d449"
   },
   "outputs": [
    {
     "name": "stdout",
     "output_type": "stream",
     "text": [
      "4 is less than 5.\n"
     ]
    }
   ],
   "source": [
    "a = 4\n",
    "if a<5:\n",
    "    print(a,\"is less than 5.\")\n",
    "elif a==5:\n",
    "    print(a,\"is equal to 5.\")\n",
    "else:\n",
    "    print(a,\"is greater than 5.\")"
   ]
  },
  {
   "cell_type": "markdown",
   "id": "871473bd-24cd-43f2-af8d-6a6aaf1a1ee6",
   "metadata": {
    "id": "pA3vvsxQb0cM"
   },
   "source": [
    "**User Input**\n",
    "\n",
    "Python allows for user input.  \n",
    "`input` keyword prompts the user to enter the value.\n",
    "\n"
   ]
  },
  {
   "cell_type": "code",
   "execution_count": 39,
   "id": "d56f6968-a789-4cdd-8cbc-73204b8e1f46",
   "metadata": {
    "ExecuteTime": {
     "end_time": "2023-05-24T14:28:50.828173Z",
     "start_time": "2023-05-24T14:28:47.108738Z"
    },
    "colab": {
     "base_uri": "https://localhost:8080/"
    },
    "id": "47o-oA5gb0cN",
    "outputId": "dc69a71e-f259-4861-f380-b58494ff8ce0"
   },
   "outputs": [
    {
     "name": "stdin",
     "output_type": "stream",
     "text": [
      "Enter the number:  5\n"
     ]
    },
    {
     "name": "stdout",
     "output_type": "stream",
     "text": [
      "5.0 is less than 10.\n"
     ]
    }
   ],
   "source": [
    "b = float(input(\"Enter the number: \")) # takes the number from user and defines b as a float.\n",
    "if b < 10:\n",
    "    print(b,\"is less than 10.\")\n",
    "elif b==10:\n",
    "    print(b,\"is equal to 10.\")\n",
    "else:\n",
    "    print(b,\"is greater than 10.\")"
   ]
  },
  {
   "cell_type": "code",
   "execution_count": null,
   "id": "27f008b5-1fcd-46ed-8bac-b813d7461e8c",
   "metadata": {},
   "outputs": [],
   "source": []
  },
  {
   "cell_type": "markdown",
   "id": "385d1c16-049a-4bc0-acb5-ac731861297e",
   "metadata": {
    "id": "JXfCRhBta6zF"
   },
   "source": [
    "### for/range\n",
    "With `for` loop we can iterate over a sequence or execute a set of statements, once for each item in list, tuple, set, etc."
   ]
  },
  {
   "cell_type": "code",
   "execution_count": 40,
   "id": "c17e2827-3d05-4aea-b802-a5e6faf8a4de",
   "metadata": {
    "ExecuteTime": {
     "end_time": "2023-05-24T14:28:55.512230Z",
     "start_time": "2023-05-24T14:28:55.508758Z"
    },
    "colab": {
     "base_uri": "https://localhost:8080/"
    },
    "id": "Sz2mIGjfkiUM",
    "outputId": "05da80e3-cbc2-4636-f35c-50aa808efcb1"
   },
   "outputs": [
    {
     "name": "stdout",
     "output_type": "stream",
     "text": [
      "P\n",
      "h\n",
      "y\n",
      "s\n",
      "i\n",
      "c\n",
      "s\n"
     ]
    }
   ],
   "source": [
    "# strings are sequence of characters\n",
    "# Loop through each letter and print it \n",
    "for x in \"Physics\":\n",
    "  print(x)"
   ]
  },
  {
   "cell_type": "code",
   "execution_count": 41,
   "id": "616169ed-bb25-47e8-9187-501a0f7b53ea",
   "metadata": {
    "ExecuteTime": {
     "end_time": "2023-05-24T14:28:56.293355Z",
     "start_time": "2023-05-24T14:28:56.289531Z"
    },
    "colab": {
     "base_uri": "https://localhost:8080/"
    },
    "id": "E6UCeqCQq9ht",
    "outputId": "794bb6e6-3917-425f-bbe0-492d87f15859"
   },
   "outputs": [
    {
     "name": "stdout",
     "output_type": "stream",
     "text": [
      "0\n",
      "1\n",
      "2\n",
      "3\n",
      "4\n",
      "5\n",
      "6\n",
      "7\n",
      "8\n",
      "9\n"
     ]
    }
   ],
   "source": [
    "# range() returns a sequence of numbers, starting from 0 by default, and increments by 1 by default.\n",
    "for x in range(10):\n",
    "  print(x)"
   ]
  },
  {
   "cell_type": "code",
   "execution_count": 42,
   "id": "2ee0c803-358d-4c4e-aa5c-131d7164872b",
   "metadata": {
    "ExecuteTime": {
     "end_time": "2023-05-24T14:28:57.342881Z",
     "start_time": "2023-05-24T14:28:57.339296Z"
    },
    "colab": {
     "base_uri": "https://localhost:8080/"
    },
    "id": "lj60281ZbIdb",
    "outputId": "d2a32aca-f7c3-464d-ab25-cffd5b273853"
   },
   "outputs": [
    {
     "name": "stdout",
     "output_type": "stream",
     "text": [
      "1  4  16  64  256  "
     ]
    }
   ],
   "source": [
    "# range(inclusive, exclusive, step size) \n",
    "# range(0,10,2) will give 0,2,4,6,8\n",
    "for i in range(0,10,2): \n",
    "    print(2**i,end='  ')\n",
    "#This will print powers of 2 upto 2^8"
   ]
  },
  {
   "cell_type": "code",
   "execution_count": 43,
   "id": "4f97de4c-fd2d-447d-9fa7-576b80dfedf5",
   "metadata": {
    "ExecuteTime": {
     "end_time": "2023-05-24T14:29:02.047549Z",
     "start_time": "2023-05-24T14:28:58.749591Z"
    },
    "colab": {
     "base_uri": "https://localhost:8080/"
    },
    "id": "ZKkuRGyC6zEE",
    "outputId": "4204dd93-f51d-4656-e4cd-492792883c33"
   },
   "outputs": [
    {
     "name": "stdin",
     "output_type": "stream",
     "text": [
      "Enter the number:  5\n"
     ]
    },
    {
     "name": "stdout",
     "output_type": "stream",
     "text": [
      "5 ! =  120\n"
     ]
    }
   ],
   "source": [
    "# Example\n",
    "# Gives factorial of a number\n",
    "f = 1\n",
    "n = int(input(\"Enter the number: \"))\n",
    "for i in range(1,n+1): # index of range is n + 1 \n",
    "  f = f*i\n",
    "print(n,\"! = \",f)"
   ]
  },
  {
   "cell_type": "markdown",
   "id": "5b17c2eb-7f5b-4ba7-9314-76e66033693c",
   "metadata": {
    "id": "bfFZ2VlGrvQT"
   },
   "source": [
    "### while/continue\n",
    "- `while` loop executes a set of statements as long as a condition is true.\n",
    "- `continue` stops the current iteration and continues with the next."
   ]
  },
  {
   "cell_type": "code",
   "execution_count": 44,
   "id": "5c763f55-4df7-4c11-9281-08f0569bde27",
   "metadata": {
    "ExecuteTime": {
     "end_time": "2023-05-24T14:29:03.673430Z",
     "start_time": "2023-05-24T14:29:03.669798Z"
    },
    "colab": {
     "base_uri": "https://localhost:8080/"
    },
    "id": "7kPOExy3om4T",
    "outputId": "63208fd9-365c-4e07-efe8-cf26fe992295"
   },
   "outputs": [
    {
     "name": "stdout",
     "output_type": "stream",
     "text": [
      "1\n",
      "2\n",
      "3\n",
      "4\n",
      "5\n",
      "6\n",
      "7\n",
      "8\n",
      "9\n",
      "10\n"
     ]
    }
   ],
   "source": [
    "i = 0\n",
    "while i < 10:\n",
    "  i = i + 1\n",
    "  print(i)\n",
    "# Try changing the order of i = i + 1 and print command and notice the difference"
   ]
  },
  {
   "cell_type": "code",
   "execution_count": 45,
   "id": "c6898910-1402-43a5-867b-dbe9795d0ae3",
   "metadata": {
    "ExecuteTime": {
     "end_time": "2023-05-24T14:29:04.332878Z",
     "start_time": "2023-05-24T14:29:04.329136Z"
    },
    "colab": {
     "base_uri": "https://localhost:8080/"
    },
    "id": "FSm7YxjG4FRT",
    "outputId": "ab1ff6cb-842c-4889-b0a7-226cf01a439f"
   },
   "outputs": [
    {
     "name": "stdout",
     "output_type": "stream",
     "text": [
      "0\n",
      "1\n",
      "2\n",
      "3\n",
      "4\n",
      "5\n"
     ]
    }
   ],
   "source": [
    "i = 0\n",
    "while i < 10:\n",
    "  print(i)\n",
    "  if i == 5:\n",
    "    break # This will exit the loop when i is 5\n",
    "  i = i + 1"
   ]
  },
  {
   "cell_type": "code",
   "execution_count": 46,
   "id": "3680a4cf-e28c-4284-a5e9-9572e4be670f",
   "metadata": {
    "ExecuteTime": {
     "end_time": "2023-05-24T14:29:05.293462Z",
     "start_time": "2023-05-24T14:29:05.289743Z"
    },
    "colab": {
     "base_uri": "https://localhost:8080/"
    },
    "id": "3AhnxpjB4UmA",
    "outputId": "13d05fdd-d889-4b6d-92c3-fdcc3bb7087b"
   },
   "outputs": [
    {
     "name": "stdout",
     "output_type": "stream",
     "text": [
      "1\n",
      "2\n",
      "3\n",
      "4\n",
      "6\n",
      "7\n",
      "8\n",
      "9\n",
      "10\n"
     ]
    }
   ],
   "source": [
    "i = 0\n",
    "while i < 10:\n",
    "  i = i + 1\n",
    "  if i == 5:\n",
    "    continue # When i is 5 it will skip that iteration and continue\n",
    "  print(i)"
   ]
  },
  {
   "cell_type": "markdown",
   "id": "5662d058-0337-42bf-8521-f32b6f7f9d0c",
   "metadata": {
    "id": "zg-6IL51b0cY"
   },
   "source": [
    "## Functions\n",
    "- Function is a block of code which performs a specific task.\n",
    "\n",
    "- You can pass data, known as parameters, into a function.\n",
    "- Codes should ideally be robust, efficient, easy to debug, and of course, self explanatory for someone else reading it. Functions are very important for acheiving all of the above, with utmost simplicity. Functions are also very useful if you want the same task to be performed repeatedly, with no changes, or maybe with minor modifications.\n",
    "- In python a function is defined using the keyword `def`\n",
    "- Useful [documentation](https://docs.python.org/3/tutorial/controlflow.html#defining-functions)."
   ]
  },
  {
   "cell_type": "code",
   "execution_count": 47,
   "id": "378544c1-b38b-480e-8b44-556ea686a1af",
   "metadata": {
    "ExecuteTime": {
     "end_time": "2023-05-24T14:29:10.818595Z",
     "start_time": "2023-05-24T14:29:10.809411Z"
    },
    "id": "DiWs1H7Ib0cZ"
   },
   "outputs": [],
   "source": [
    "# Defining a function which takes radius as parameters and returns area of circle\n",
    "import math \n",
    "def areacircle(r):\n",
    "    area = math.pi*r**2\n",
    "    print(\"The area of circle of radius\",r,\"units is\",round(area,2),\"sq.units\")\n",
    "#round(area,2) will round off the value of area to second decimal place\n",
    "# math.pi and round are function in math library that's why we imported it before."
   ]
  },
  {
   "cell_type": "code",
   "execution_count": 48,
   "id": "cf1ebfc8-2634-471c-ad26-df0435404f9d",
   "metadata": {
    "ExecuteTime": {
     "end_time": "2023-05-24T14:29:11.412551Z",
     "start_time": "2023-05-24T14:29:11.408856Z"
    },
    "colab": {
     "base_uri": "https://localhost:8080/"
    },
    "id": "WJy2z9ky_E4x",
    "outputId": "2207370f-2010-4a47-8b3a-bc5edb7f1020"
   },
   "outputs": [
    {
     "name": "stdout",
     "output_type": "stream",
     "text": [
      "The area of circle of radius 6 units is 113.1 sq.units\n"
     ]
    }
   ],
   "source": [
    "# This is how you call a function, enter the values of parameters defined in function.\n",
    "# r is the parameter in this function.\n",
    "areacircle(6) "
   ]
  },
  {
   "cell_type": "markdown",
   "id": "3ea4beec",
   "metadata": {},
   "source": [
    "# NumPy\n",
    "NumPy is the fundamental package for scientific computing in Python. It is a Python library that provides a multidimensional array object, various derived objects (such as masked arrays and matrices), and an assortment of routines for fast operations on arrays, including mathematical, logical, shape manipulation, sorting, selecting, I/O, discrete Fourier transforms, basic linear algebra, basic statistical operations, random simulation and much more."
   ]
  },
  {
   "cell_type": "markdown",
   "id": "e931258f",
   "metadata": {},
   "source": [
    "- NumPy is a python library, stands for Numerical Python\n",
    "- Used for working with arrays. It is very useful in Numerical calculations - matrices, linear algebra, etc\n",
    "- The array object in NumPy is called ndarray (n-dimensional array). Arrays are frequently used in data sciences, where speed and accuracy matters. It is similar to list but it is way faster than that.\n",
    "- Elements in NumPy array cannot be heterogeneous like in lists. The elements in a NumPy array are all required to be of the same data type, and thus will be the same size in memory.\n",
    "- NumPy arrays have a fixed size at creation, unlike Python lists (which can grow dynamically). Changing the size of an ndarray will create a new array and delete the original.\n",
    "- NumPy library was written partially in Python, but most of the parts that require fast computation are written in C or C++.\n",
    "- For detailed information you can go through the [official documentation](https://numpy.org/doc/stable/user/absolute_beginners.html#numpy-the-absolute-basics-for-beginners) \n",
    "- [Source code for NumPy](https://github.com/numpy/numpy)"
   ]
  },
  {
   "cell_type": "code",
   "execution_count": 49,
   "id": "04e1304e",
   "metadata": {},
   "outputs": [],
   "source": [
    "# To import the library use\n",
    "import numpy"
   ]
  },
  {
   "cell_type": "code",
   "execution_count": 50,
   "id": "770c89c5",
   "metadata": {},
   "outputs": [],
   "source": [
    "# add keyword numpy before using\n",
    "a = numpy.array([1,2,3,4,5]) # defines a as numpy object \n",
    "# array is enclosed in ([])"
   ]
  },
  {
   "cell_type": "markdown",
   "id": "e21fd7a1",
   "metadata": {},
   "source": [
    "NumPy is imported under the alias using the keyword \"as\" - import numpy as np  \n",
    "This shortens the keyword required in syntax, instead of numpy.array we can type np.array"
   ]
  },
  {
   "cell_type": "code",
   "execution_count": 51,
   "id": "fef05d89",
   "metadata": {},
   "outputs": [
    {
     "name": "stdout",
     "output_type": "stream",
     "text": [
      "[1 2 3 4 5]\n",
      "[1, 2, 3, 4, 5]\n",
      "<class 'numpy.ndarray'>\n",
      "<class 'list'>\n"
     ]
    }
   ],
   "source": [
    "import numpy as np\n",
    "a = np.array([1,2,3,4,5])\n",
    "b = [1,2,3,4,5]\n",
    "print(a)\n",
    "print(b)\n",
    "print(type(a)) # shows the type\n",
    "print(type(b))"
   ]
  },
  {
   "cell_type": "markdown",
   "id": "cdbea321",
   "metadata": {},
   "source": [
    "Notice the output of print(a), it is enclosed in square brackets like lists but not separated by commas like lists. Hence the output is a numpy array."
   ]
  },
  {
   "cell_type": "code",
   "execution_count": 52,
   "id": "c3d44079",
   "metadata": {},
   "outputs": [
    {
     "name": "stdout",
     "output_type": "stream",
     "text": [
      "[1 2 3 4 5]\n",
      "<class 'numpy.ndarray'>\n"
     ]
    }
   ],
   "source": [
    "#Use Tuple to create numpy array\n",
    "import numpy as np\n",
    "a = np.array((1,2,3,4,5))\n",
    "print(a)\n",
    "print(type(a))\n",
    "# To create an ndarray, we can pass a list, tuple or any array-like object into the array() method."
   ]
  },
  {
   "cell_type": "markdown",
   "id": "37fb7414",
   "metadata": {},
   "source": [
    "## Dimensions in Array\n",
    "A dimension in array is one level of array depth\n",
    "\n",
    "- nested arrays: are arrays that have arrays as elements.\n",
    "\n",
    "#### Check Number of Dimensions of array\n",
    "*ndim* attribute returns an integer that tells us how many dimensions an array has\n",
    "\n",
    "if a is defined as an array, to check the dimensions of a, the syntax is - a.ndim\n",
    "\n",
    "### 0-D Arrays\n",
    "- 0-D Arrays or scalars are elements in array, each value in array is 0-D array."
   ]
  },
  {
   "cell_type": "code",
   "execution_count": 53,
   "id": "2ff7c1e1",
   "metadata": {},
   "outputs": [
    {
     "name": "stdout",
     "output_type": "stream",
     "text": [
      "9\n",
      "0\n"
     ]
    }
   ],
   "source": [
    "import numpy as np\n",
    "a = np.array(9) # single element\n",
    "print(a)\n",
    "print(a.ndim) #prints the dimension of an array"
   ]
  },
  {
   "cell_type": "markdown",
   "id": "dfd77fe6",
   "metadata": {},
   "source": [
    "### 1-D Arrays\n",
    "An array that has 0D Arrays as its elements."
   ]
  },
  {
   "cell_type": "code",
   "execution_count": 54,
   "id": "c9c529f3",
   "metadata": {},
   "outputs": [
    {
     "name": "stdout",
     "output_type": "stream",
     "text": [
      "[1 2 3 4 5]\n",
      "1\n"
     ]
    }
   ],
   "source": [
    "a = np.array([1,2,3,4,5])\n",
    "print(a)\n",
    "print(a.ndim)"
   ]
  },
  {
   "cell_type": "markdown",
   "id": "17b8b297",
   "metadata": {},
   "source": [
    "### 2-D Arrays\n",
    "An array that has 1-D elements is called a 2D array\n",
    "\n",
    "Represents a matrix\n",
    "\n",
    "Note: NumPy also has a submodule dedicated for matrix operations called numpy.mat (go through [documentation](https://numpy.org/doc/stable/reference/generated/numpy.mat.html))"
   ]
  },
  {
   "cell_type": "code",
   "execution_count": 55,
   "id": "0f206a0e",
   "metadata": {},
   "outputs": [
    {
     "name": "stdout",
     "output_type": "stream",
     "text": [
      "[[1 2 3]\n",
      " [4 5 6]]\n",
      "2\n"
     ]
    }
   ],
   "source": [
    "import numpy as np\n",
    "a = np.array([[1,2,3],[4,5,6]])\n",
    "print(a)\n",
    "print(a.ndim)"
   ]
  },
  {
   "cell_type": "markdown",
   "id": "0814c197",
   "metadata": {},
   "source": [
    "### 3-D Arrays\n",
    "An array of 2D arrays is called a 3D array."
   ]
  },
  {
   "cell_type": "code",
   "execution_count": 56,
   "id": "ad5c7355",
   "metadata": {},
   "outputs": [
    {
     "name": "stdout",
     "output_type": "stream",
     "text": [
      "[[[1 2 3]\n",
      "  [4 5 6]\n",
      "  [7 8 9]]\n",
      "\n",
      " [[9 8 7]\n",
      "  [6 5 4]\n",
      "  [3 2 1]]]\n",
      "3\n"
     ]
    }
   ],
   "source": [
    "import numpy as np\n",
    "a = np.array([[[1,2,3],[4,5,6],[7,8,9]],[[9,8,7],[6,5,4],[3,2,1]]])\n",
    "print(a)\n",
    "print(a.ndim)"
   ]
  },
  {
   "cell_type": "markdown",
   "id": "0774826c",
   "metadata": {},
   "source": [
    "## Access Array Elements\n",
    "Array indexing is the same as accessing an array element.\n",
    "\n",
    "You can access an array element by referring to its index number."
   ]
  },
  {
   "cell_type": "code",
   "execution_count": 57,
   "id": "ebf17ea1",
   "metadata": {},
   "outputs": [
    {
     "name": "stdout",
     "output_type": "stream",
     "text": [
      "1\n"
     ]
    }
   ],
   "source": [
    "import numpy as np\n",
    "a = np.array([1,2,3,4])\n",
    "print(a[0]) # Remember! first element has 0 index in python"
   ]
  },
  {
   "cell_type": "code",
   "execution_count": 58,
   "id": "5ba4867d",
   "metadata": {},
   "outputs": [
    {
     "name": "stdout",
     "output_type": "stream",
     "text": [
      "2\n"
     ]
    }
   ],
   "source": [
    "'''To access elements from 2-D arrays we can use comma separated integers representing \n",
    "the dimension and the index of the element.'''\n",
    "\n",
    "a = np.array([[1,2,3,4,5],[6,7,8,9,10]]) \n",
    "#[1,2,3,4,5] = 0th dimension, [6,7,8,9,10] = 1st dimension\n",
    "\n",
    "print(a[0,1]) # first index = 0 ->selects 1st array, second index = 1 ->selects second element of first array"
   ]
  },
  {
   "cell_type": "code",
   "execution_count": 59,
   "id": "999b7597",
   "metadata": {},
   "outputs": [
    {
     "name": "stdout",
     "output_type": "stream",
     "text": [
      "9\n"
     ]
    }
   ],
   "source": [
    "print(a[1,3]) #syntax - a[dimension,element]"
   ]
  },
  {
   "cell_type": "code",
   "execution_count": 60,
   "id": "89af9cc9",
   "metadata": {},
   "outputs": [
    {
     "name": "stdout",
     "output_type": "stream",
     "text": [
      "5\n",
      "Dimensions of a:  3\n"
     ]
    }
   ],
   "source": [
    "a = np.array([[[1,2,3],[4,5,6]],[[7,8,9],[10,11,12]]])\n",
    "\n",
    "print(a[0,1,1]) \n",
    "'''\n",
    "first index = 0 -> Selects [[1,2,3],[4,5,6]]\n",
    "second index = 1 -> Selects [4,5,6]\n",
    "third index = 1 -> Selects 5\n",
    "'''\n",
    "print(\"Dimensions of a: \",a.ndim)"
   ]
  },
  {
   "cell_type": "code",
   "execution_count": 61,
   "id": "0679840a",
   "metadata": {},
   "outputs": [
    {
     "data": {
      "text/plain": [
       "(2, 2, 3)"
      ]
     },
     "execution_count": 61,
     "metadata": {},
     "output_type": "execute_result"
    }
   ],
   "source": [
    "a.shape\n"
   ]
  },
  {
   "cell_type": "markdown",
   "id": "028b3669",
   "metadata": {},
   "source": [
    "a has 2 elements `[[1,2,3],[4,5,6]]` & `[[7,8,9],[10,11,12]]`  \n",
    "of which each has 2 elements `[1,2,3]` & `[4,5,6]` of 1st element; `[7,8,9]` & `[10,11,12]` of 2nd element  \n",
    "of which each has 3 elements `1,2,3` .... and so on you get the point  \n",
    "`a.shape` returns (2,2,3) which is the shape of an array  "
   ]
  },
  {
   "cell_type": "markdown",
   "id": "147da14d",
   "metadata": {},
   "source": [
    "## Slicing Arrays\n",
    "Syntax [start_inclusive:end_exclusive]\n",
    "\n",
    "also\n",
    "\n",
    "[start:end:step]\n",
    "\n",
    "Leaving start or end index blank will mean start from beginning and go till end respectively"
   ]
  },
  {
   "cell_type": "code",
   "execution_count": 62,
   "id": "f85f8839",
   "metadata": {},
   "outputs": [
    {
     "name": "stdout",
     "output_type": "stream",
     "text": [
      "[2 3 4 5]\n"
     ]
    }
   ],
   "source": [
    "a = np.array([1,2,3,4,5,6,7,8,9])\n",
    "print(a[1:5]) # From 1st index to 4th index"
   ]
  },
  {
   "cell_type": "code",
   "execution_count": 63,
   "id": "c2f21b1e",
   "metadata": {},
   "outputs": [
    {
     "data": {
      "text/plain": [
       "array([1, 2, 3, 4, 5])"
      ]
     },
     "execution_count": 63,
     "metadata": {},
     "output_type": "execute_result"
    }
   ],
   "source": [
    "a[:5] # From beginning to 4th index"
   ]
  },
  {
   "cell_type": "code",
   "execution_count": 64,
   "id": "5ba167ae",
   "metadata": {},
   "outputs": [
    {
     "data": {
      "text/plain": [
       "array([6, 7, 8, 9])"
      ]
     },
     "execution_count": 64,
     "metadata": {},
     "output_type": "execute_result"
    }
   ],
   "source": [
    "a[5:]"
   ]
  },
  {
   "cell_type": "code",
   "execution_count": 65,
   "id": "aec2b331",
   "metadata": {},
   "outputs": [
    {
     "data": {
      "text/plain": [
       "array([3, 5])"
      ]
     },
     "execution_count": 65,
     "metadata": {},
     "output_type": "execute_result"
    }
   ],
   "source": [
    "a[2:6:2] # from index 2 to 5 in steps of 2"
   ]
  },
  {
   "cell_type": "code",
   "execution_count": 66,
   "id": "95bd3ed9",
   "metadata": {},
   "outputs": [
    {
     "name": "stdout",
     "output_type": "stream",
     "text": [
      "[array([1, 2, 3]), array([4, 5]), array([6, 7])]\n"
     ]
    }
   ],
   "source": [
    "b = np.array([1,2,3,4,5,6,7])\n",
    "c = np.array_split(b,3) # array_split(array,no. of splits)\n",
    "print(c)"
   ]
  },
  {
   "cell_type": "markdown",
   "id": "21753000",
   "metadata": {},
   "source": [
    "## Random\n",
    "NumPy has a function `random` which creates an array of given shape and populate it with random samples from a uniform distribution over `[0,1)` [Documentation](https://numpy.org/doc/stable/reference/random/generated/numpy.random.rand.html)"
   ]
  },
  {
   "cell_type": "code",
   "execution_count": 67,
   "id": "a6f3c5f3",
   "metadata": {},
   "outputs": [
    {
     "data": {
      "text/plain": [
       "0.5015475482295897"
      ]
     },
     "execution_count": 67,
     "metadata": {},
     "output_type": "execute_result"
    }
   ],
   "source": [
    "# import random from numpy so that we don't have to write np.random.rand()\n",
    "from numpy import random \n",
    "x = random.rand() #returns a random float between 0 and 1\n",
    "x"
   ]
  },
  {
   "cell_type": "markdown",
   "id": "cb450913",
   "metadata": {},
   "source": [
    "`random.randint(low, high=None, size=None, dtype=int)`  \n",
    "Return random integers from low (inclusive) to high (exclusive).  \n",
    "\n",
    "Return random integers from the “discrete uniform” distribution of the specified dtype in the “half-open” interval [low, high). If high is None (the default), then results are from [0, low).  \n",
    "[Documentation](https://numpy.org/doc/stable/reference/random/generated/numpy.random.randint.html#numpy-random-randint)"
   ]
  },
  {
   "cell_type": "code",
   "execution_count": 68,
   "id": "1965de0a",
   "metadata": {},
   "outputs": [
    {
     "data": {
      "text/plain": [
       "array([85, 93, 30, 23, 37])"
      ]
     },
     "execution_count": 68,
     "metadata": {},
     "output_type": "execute_result"
    }
   ],
   "source": [
    "x = random.randint(100, size=(5)) #gives an array of 5 random integers between 0 and 100\n",
    "x"
   ]
  },
  {
   "cell_type": "code",
   "execution_count": 69,
   "id": "65996601",
   "metadata": {},
   "outputs": [
    {
     "data": {
      "text/plain": [
       "array([[43,  3, 97],\n",
       "       [77,  8, 75],\n",
       "       [ 0, 80, 55]])"
      ]
     },
     "execution_count": 69,
     "metadata": {},
     "output_type": "execute_result"
    }
   ],
   "source": [
    "x = random.randint(100, size=(3,3)) # gives a 3 x 3 array\n",
    "x"
   ]
  },
  {
   "cell_type": "code",
   "execution_count": 70,
   "id": "1eedfcdc",
   "metadata": {},
   "outputs": [
    {
     "data": {
      "text/plain": [
       "9"
      ]
     },
     "execution_count": 70,
     "metadata": {},
     "output_type": "execute_result"
    }
   ],
   "source": [
    "x = random.choice([3,5,7,9]) # chooses a random value from given array\n",
    "x"
   ]
  },
  {
   "cell_type": "code",
   "execution_count": 71,
   "id": "402b5e08",
   "metadata": {},
   "outputs": [
    {
     "data": {
      "text/plain": [
       "array([[7, 9, 9],\n",
       "       [3, 3, 7],\n",
       "       [7, 5, 5]])"
      ]
     },
     "execution_count": 71,
     "metadata": {},
     "output_type": "execute_result"
    }
   ],
   "source": [
    "x = random.choice([3,5,7,9],size=(3,3)) # creates a 3 x 3 array by choosing values randomly from given array\n",
    "x"
   ]
  },
  {
   "cell_type": "code",
   "execution_count": 72,
   "id": "fbceea33",
   "metadata": {},
   "outputs": [
    {
     "name": "stdout",
     "output_type": "stream",
     "text": [
      "[33 83 14 23 74]\n",
      "None\n"
     ]
    }
   ],
   "source": [
    "x = random.randint(100, size=(5))\n",
    "y = np.random.shuffle(x)\n",
    "print(x)\n",
    "print(y)"
   ]
  },
  {
   "cell_type": "code",
   "execution_count": 73,
   "id": "0c53bbaa",
   "metadata": {},
   "outputs": [
    {
     "name": "stdout",
     "output_type": "stream",
     "text": [
      "[592 503 192 373 260 508 729 735 327 290]\n",
      "33471.69000000001\n",
      "182.95269880490972\n",
      "450.9\n"
     ]
    }
   ],
   "source": [
    "x = random.randint(1000,size=(10)) # 10 random values between 0 and 1000\n",
    "print(x) \n",
    "print(np.var(x)) # Variance\n",
    "print(np.std(x)) # Standard Deviation\n",
    "print(np.average(x)) # Average"
   ]
  },
  {
   "cell_type": "markdown",
   "id": "bed225c1",
   "metadata": {},
   "source": [
    "`np.random.randn()` returns a sample(or samples) from the \"Standard Normal\" Distribution.  \n",
    "If positive int_like arguments are provided, `randn` generates an array of shape (d0,d1,...,dn), filled with random floats sampled from a univariate \"normal\" (Gaussian) distribution of mean 0 and variance 1. A single float randomly sampled from the distribution is returned if no argument is provided."
   ]
  },
  {
   "cell_type": "code",
   "execution_count": 74,
   "id": "01b84b01",
   "metadata": {},
   "outputs": [
    {
     "data": {
      "text/plain": [
       "array([-0.16719043,  0.05021605,  0.70661422, -0.28233358,  0.66195865,\n",
       "       -0.04643299,  2.17296151, -0.26231237,  0.37163251,  0.12564469])"
      ]
     },
     "execution_count": 74,
     "metadata": {},
     "output_type": "execute_result"
    }
   ],
   "source": [
    "x = np.random.randn(10)\n",
    "x"
   ]
  },
  {
   "cell_type": "markdown",
   "id": "ba7e60da",
   "metadata": {},
   "source": [
    "Modify a sequence in-place by shuffling its contents.\n",
    "\n",
    "This function only shuffles the array along the first axis of a multi-dimensional array. The order of sub-arrays is changed but their contents remains the same."
   ]
  },
  {
   "cell_type": "code",
   "execution_count": 75,
   "id": "00fd454e",
   "metadata": {},
   "outputs": [
    {
     "data": {
      "text/plain": [
       "array([ 3,  9,  1, 10,  2,  7,  8,  4,  5,  6])"
      ]
     },
     "execution_count": 75,
     "metadata": {},
     "output_type": "execute_result"
    }
   ],
   "source": [
    "x = np.array([1,2,3,4,5,6,7,8,9,10])\n",
    "random.shuffle(x) \n",
    "x "
   ]
  },
  {
   "cell_type": "markdown",
   "id": "4d1899bd",
   "metadata": {},
   "source": [
    "## **Functions like np.arange, np.linspace are very useful:**\n",
    "\n",
    "np.arange (read as 'a range') gives an array of numbers within a given range and stepsize\n",
    "\n",
    "np.linspace gives an array of linearly spaced numbers"
   ]
  },
  {
   "cell_type": "code",
   "execution_count": 76,
   "id": "a76381e2",
   "metadata": {},
   "outputs": [
    {
     "data": {
      "text/plain": [
       "array([0, 3, 6, 9])"
      ]
     },
     "execution_count": 76,
     "metadata": {},
     "output_type": "execute_result"
    }
   ],
   "source": [
    "np.arange(0,10,3) # syntax - (inclusive_start, exclusive_stop, stepsize)\n",
    "#This will give an array of values from 0 to 10 in steps of 3"
   ]
  },
  {
   "cell_type": "code",
   "execution_count": 77,
   "id": "918b8070",
   "metadata": {},
   "outputs": [
    {
     "data": {
      "text/plain": [
       "array([-3.14159265, -2.14159265, -1.14159265, -0.14159265,  0.85840735,\n",
       "        1.85840735,  2.85840735])"
      ]
     },
     "execution_count": 77,
     "metadata": {},
     "output_type": "execute_result"
    }
   ],
   "source": [
    "np.arange(-np.pi, np.pi, 1) "
   ]
  },
  {
   "cell_type": "code",
   "execution_count": 78,
   "id": "1e40fed2",
   "metadata": {},
   "outputs": [
    {
     "data": {
      "text/plain": [
       "array([-3.14159265, -2.0943951 , -1.04719755,  0.        ,  1.04719755,\n",
       "        2.0943951 ,  3.14159265])"
      ]
     },
     "execution_count": 78,
     "metadata": {},
     "output_type": "execute_result"
    }
   ],
   "source": [
    "np.linspace(-np.pi, np.pi, 7) # linearly spaced values - difference between 2 consecutive values not necessarily 1"
   ]
  },
  {
   "cell_type": "markdown",
   "id": "ed0316c8",
   "metadata": {},
   "source": [
    "**Notice** the difference between `np.arange()` function and `np.linspace()` function:\n",
    "\n",
    "`np.arange` function gives values which have same difference but doesn't include the last value, whereas `np.linspace` function first sets start and end value and divides the numbers linearly.\n",
    "\n",
    "This changes the output of both of these function significantly. \n",
    "\n",
    "In the syntax of `np.arange` function the **last value denotes the difference between each element**. But in `np.linspace` function the **last value denotes the number of elements desired in the given range**, the difference between each element is determined accoridingly by the system."
   ]
  },
  {
   "cell_type": "code",
   "execution_count": 79,
   "id": "25e9c893",
   "metadata": {},
   "outputs": [
    {
     "data": {
      "text/plain": [
       "array([0.        , 0.34906585, 0.6981317 , 1.04719755, 1.3962634 ,\n",
       "       1.74532925, 2.0943951 , 2.44346095, 2.7925268 , 3.14159265])"
      ]
     },
     "execution_count": 79,
     "metadata": {},
     "output_type": "execute_result"
    }
   ],
   "source": [
    "np.linspace(0,np.pi,10) #syntax - (inclusive_start, INCLUSIVE_stop, Number of elements)"
   ]
  },
  {
   "cell_type": "markdown",
   "id": "664b2b6a",
   "metadata": {},
   "source": [
    "## Convert Degrees into Radians and Radians to Degrees\n",
    "By default the values are in radians, but we can convert it into degrees and vice versa if required\n",
    "\n",
    "$$180^\\circ=\\pi\\;rad$$\n",
    "$$\\therefore 1\\;rad=\\Big(\\frac{180}{\\pi}\\Big)^\\circ$$"
   ]
  },
  {
   "cell_type": "code",
   "execution_count": 80,
   "id": "0b8cc9d5",
   "metadata": {},
   "outputs": [
    {
     "name": "stdout",
     "output_type": "stream",
     "text": [
      "[0.         0.52359878 0.78539816 1.04719755 1.57079633 3.14159265\n",
      " 4.71238898 6.28318531]\n"
     ]
    }
   ],
   "source": [
    "# Suppose we have array of values in degrees\n",
    "import numpy as np\n",
    "x = np.array([0,30,45,60,90,180,270,360])\n",
    "radian = np.deg2rad(x)\n",
    "print(radian)"
   ]
  },
  {
   "cell_type": "code",
   "execution_count": 81,
   "id": "75613375",
   "metadata": {},
   "outputs": [
    {
     "name": "stdout",
     "output_type": "stream",
     "text": [
      "[  0.  30.  45.  60.  90. 180. 270. 360.]\n"
     ]
    }
   ],
   "source": [
    "degree = np.rad2deg(radian)\n",
    "print(degree)"
   ]
  },
  {
   "cell_type": "code",
   "execution_count": 82,
   "id": "bce0b430",
   "metadata": {},
   "outputs": [
    {
     "name": "stdout",
     "output_type": "stream",
     "text": [
      "[ 90. 180. 240. 360.]\n"
     ]
    }
   ],
   "source": [
    "y = np.array([np.pi/2, np.pi, 4*np.pi/3, 2*np.pi])\n",
    "y_degree = np.rad2deg(y)\n",
    "print(y_degree)"
   ]
  },
  {
   "cell_type": "markdown",
   "id": "63e30940",
   "metadata": {},
   "source": [
    "NumPy also has the function to find angles i.e inverse trig values\n",
    "\n",
    "arcsin( ), arccos( ), arctan( )"
   ]
  },
  {
   "cell_type": "code",
   "execution_count": 83,
   "id": "f3507a14",
   "metadata": {},
   "outputs": [
    {
     "name": "stdout",
     "output_type": "stream",
     "text": [
      "0.9272952180016123\n",
      "53.13\n"
     ]
    }
   ],
   "source": [
    "x = np.arcsin(0.8)\n",
    "x_deg = np.rad2deg(x)\n",
    "print(x)\n",
    "print(round(x_deg,2)) # round(x_deg,2) rounds off the value of x_deg to 2 decimal places"
   ]
  }
 ],
 "metadata": {
  "kernelspec": {
   "display_name": "Python 3 (ipykernel)",
   "language": "python",
   "name": "python3"
  },
  "language_info": {
   "codemirror_mode": {
    "name": "ipython",
    "version": 3
   },
   "file_extension": ".py",
   "mimetype": "text/x-python",
   "name": "python",
   "nbconvert_exporter": "python",
   "pygments_lexer": "ipython3",
   "version": "3.11.8"
  }
 },
 "nbformat": 4,
 "nbformat_minor": 5
}
