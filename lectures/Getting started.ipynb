{
 "cells": [
  {
   "cell_type": "markdown",
   "id": "54c9d4f1-1e4d-40eb-a20f-f02d5b2d7d8c",
   "metadata": {
    "id": "b0kBE4Jugfuj"
   },
   "source": [
    "# Winter School in Astronomical Calculations 2024\n",
    "\n",
    "## Jupyter Notebook and Google Colab\n",
    "\n",
    "Jupyter Notebook and Google Colab are powerful tools for interactive programming in Python. They allow you to combine **code**, **output**, and **documentation** in one interface, making them ideal for data analysis, machine learning, and more.\n",
    "\n",
    "---\n",
    "\n",
    "## Recommended Setup: Google Colab\n",
    "\n",
    "[Google Colab](https://colab.research.google.com/) is a free, browser-based tool similar to Jupyter Notebook but with added benefits:\n",
    "- No installation required.\n",
    "- Cloud-based, so you can access your work from anywhere.\n",
    "- Supports collaboration and sharing.\n",
    "- Provides free access to GPUs and TPUs for computational tasks.\n",
    "\n",
    "### **Using Google Colab**\n",
    "1. Go to [Google Colab](https://colab.research.google.com/).\n",
    "2. Sign in with your Google account.\n",
    "3. Create a new notebook by clicking **File > New Notebook**.\n",
    "4. Click `Connect` on top right. This will connect you to a server and resources will be alloted. This is called Runtime or a kernel.\n",
    "5. Code, execute, and save your notebook directly to your Google Drive.\n",
    "6. Optionally, connect Colab to your local runtime by following [these instructions](https://research.google.com/colaboratory/local-runtimes.html).\n",
    "\n",
    "- Supports Python 3.\n",
    "- Works offline by connecting to a local runtime.\n",
    "- Cheat Sheet: [Google Colab Cheat Sheet](https://github.com/Tanu-N-Prabhu/Python/blob/master/Cheat_sheet_for_Google_Colab.ipynb).\n",
    "\n",
    "---\n",
    "\n",
    "## For Advanced Users: Installing Jupyter Notebook\n",
    "\n",
    "If you prefer working offline or need more control, you can install Jupyter Notebook on your system. We recommend using **Anaconda** or **Miniconda** for an easy setup.\n",
    "\n",
    "### **Step 1: Install Anaconda or Miniconda**\n",
    "- Download the installer:\n",
    "  - [Anaconda Download](https://www.anaconda.com/download/)\n",
    "  - [Miniconda Download](https://docs.conda.io/en/latest/miniconda.html)\n",
    "\n",
    "- Choose the installer for your operating system and follow the graphical installation instructions. Anaconda includes Jupyter Notebook and other tools like Spyder, making it a comprehensive environment.\n",
    "\n",
    "### **Step 2: Launch Jupyter Notebook**\n",
    "\n",
    "#### **Windows**\n",
    "1. Open **Anaconda Navigator** and launch Jupyter Notebook.\n",
    "2. Alternatively, open Command Prompt and run:\n",
    "   ```\n",
    "   jupyter notebook\n",
    "   ```\n",
    "\n",
    "#### **macOS**\n",
    "1. Open **Anaconda Navigator** and launch Jupyter Notebook.\n",
    "2. Alternatively, open Terminal and run:\n",
    "   ```\n",
    "   jupyter notebook\n",
    "   ```\n",
    "\n",
    "#### **Linux**\n",
    "1. Install Anaconda by following [these detailed instructions](https://docs.anaconda.com/anaconda/install/linux/).\n",
    "2. Open Terminal and run:\n",
    "   ```\n",
    "   jupyter notebook\n",
    "   ```\n",
    "\n",
    "---\n",
    "\n",
    "## File Types\n",
    "\n",
    "### **.py Files**\n",
    "- Regular Python files.\n",
    "- Plain text containing Python code.\n",
    "\n",
    "### **.ipynb Files**\n",
    "- Jupyter Notebook files.\n",
    "- Contain code, output, and documentation in a structured format.\n",
    "- Can be executed and modified interactively in Jupyter or Colab.\n",
    "\n",
    "---\n",
    "\n",
    "## Jupyter Notebook Essentials\n",
    "\n",
    "### **Running a Cell**\n",
    "- `Shift + Enter`: Run the cell and move to the next one.\n",
    "- `Ctrl + Enter`: Run the cell and stay on the current cell.\n",
    "\n",
    "### **Cell Types**\n",
    "1. **Code Cells**: Write and execute Python code.\n",
    "2. **Markdown Cells**: Add text, explanations, and formatted equations using Markdown.\n",
    "   - Inline math: `$E=mc^2$`\n",
    "   - Block math: `$$E=mc^2$$`\n",
    "3. **Raw Cells**: Store unformatted text for export.\n",
    "\n",
    "### **Useful Shortcuts**\n",
    "- **Create a new cell**: Press `A` (above) or `B` (below).\n",
    "- **Delete a cell**: Press `D` twice (`D, D`).\n",
    "- **Save notebook**: Press `S` or `Ctrl + S`.\n",
    "- **Change cell type**: Press `Y` for Code or `M` for Markdown."
   ]
  },
  {
   "cell_type": "markdown",
   "id": "1cb0e7ec-22d4-4fcb-9a8b-60116a3d628a",
   "metadata": {},
   "source": [
    "# Basics"
   ]
  },
  {
   "cell_type": "code",
   "execution_count": 1,
   "id": "fc838979-81f3-482c-a7e0-f57138e3b20a",
   "metadata": {},
   "outputs": [
    {
     "data": {
      "text/plain": [
       "'Text enclosed in three single quotes\\nallows to write multi line comments'"
      ]
     },
     "execution_count": 1,
     "metadata": {},
     "output_type": "execute_result"
    }
   ],
   "source": [
    "# This is a comment. '#' is used for comments which can fit in one line\n",
    "\n",
    "'''Text enclosed in three single quotes\n",
    "allows to write multi line comments'''"
   ]
  },
  {
   "cell_type": "code",
   "execution_count": 2,
   "id": "e742a51a-7dee-4083-99c2-9ae7ea8a5ab8",
   "metadata": {},
   "outputs": [
    {
     "name": "stdout",
     "output_type": "stream",
     "text": [
      "Hello World\n"
     ]
    }
   ],
   "source": [
    "print('Hello World')"
   ]
  },
  {
   "cell_type": "code",
   "execution_count": 3,
   "id": "4022335f-e2ad-475e-8450-6660479135d9",
   "metadata": {},
   "outputs": [
    {
     "name": "stdout",
     "output_type": "stream",
     "text": [
      "Hubble's Law\n"
     ]
    }
   ],
   "source": [
    "print(\"Hubble's Law\")"
   ]
  },
  {
   "cell_type": "code",
   "execution_count": 4,
   "id": "439b521a-7cd6-48c8-93e8-15e70879462a",
   "metadata": {},
   "outputs": [
    {
     "name": "stdout",
     "output_type": "stream",
     "text": [
      "Hubble's Law\n"
     ]
    }
   ],
   "source": [
    "print('Hubble\\'s Law')"
   ]
  },
  {
   "cell_type": "code",
   "execution_count": 5,
   "id": "3ce7d6b8-f19e-44cf-a103-c72135e34a4a",
   "metadata": {},
   "outputs": [],
   "source": [
    "a = 3\n",
    "b = 4\n",
    "c = a+b"
   ]
  },
  {
   "cell_type": "code",
   "execution_count": 6,
   "id": "1039fece-96f1-442b-95ed-e5ac5bec7b1b",
   "metadata": {},
   "outputs": [
    {
     "name": "stdout",
     "output_type": "stream",
     "text": [
      "7\n"
     ]
    }
   ],
   "source": [
    "print(c)"
   ]
  },
  {
   "cell_type": "code",
   "execution_count": 7,
   "id": "220fcb2b-1986-4eba-9a23-7df75bfb15ba",
   "metadata": {},
   "outputs": [
    {
     "data": {
      "text/plain": [
       "7"
      ]
     },
     "execution_count": 7,
     "metadata": {},
     "output_type": "execute_result"
    }
   ],
   "source": [
    "c"
   ]
  },
  {
   "cell_type": "code",
   "execution_count": 8,
   "id": "e66aa8d3-1277-4321-a791-8f14a174103d",
   "metadata": {},
   "outputs": [],
   "source": [
    "# Try different operations by defining variables\n",
    "\n"
   ]
  },
  {
   "cell_type": "markdown",
   "id": "6f37b5ee-1aeb-4da7-8a4d-dc6d5ab11a2c",
   "metadata": {},
   "source": [
    "### Operations\n",
    "\n",
    "| Python Operator | Description  |\n",
    "| :---: | :---: |\n",
    "| `+` | addition |\n",
    "| `-` | subtraction |\n",
    "| `*` | multiplication |\n",
    "| `/` | division |\n",
    "| `**` | power |"
   ]
  },
  {
   "cell_type": "markdown",
   "id": "15507b4d-a92c-4cea-8ff4-5fcc72491ee7",
   "metadata": {},
   "source": [
    "## There are different object types in Python\n",
    "\n",
    "- Strings\n",
    "- Numbers\n",
    "- Lists\n",
    "- Tuples\n",
    "- Dictionaries\n",
    "- Set\n",
    "- Boolean"
   ]
  },
  {
   "cell_type": "markdown",
   "id": "203ec24a-8895-479d-881f-8911aa25fb7f",
   "metadata": {},
   "source": [
    "## Strings"
   ]
  },
  {
   "cell_type": "code",
   "execution_count": 8,
   "id": "49e98d03-42c4-4c18-847d-325ef41ea7d3",
   "metadata": {},
   "outputs": [],
   "source": [
    "s = \"Simple string. A sequence of characters which can also be numbers 1,2,3 and special characters `/@#$% \""
   ]
  },
  {
   "cell_type": "code",
   "execution_count": 9,
   "id": "ba262d6d-cbff-4135-980c-eca4aa608eff",
   "metadata": {},
   "outputs": [
    {
     "data": {
      "text/plain": [
       "'Simple string. A sequence of characters which can also be numbers 1,2,3 and special characters `/@#$% '"
      ]
     },
     "execution_count": 9,
     "metadata": {},
     "output_type": "execute_result"
    }
   ],
   "source": [
    "s"
   ]
  },
  {
   "cell_type": "code",
   "execution_count": 10,
   "id": "9c599a22-6d6c-448f-9494-d104872374f2",
   "metadata": {},
   "outputs": [],
   "source": [
    "# Using escape characters and line change or tab operators in print statement\n",
    "\n",
    "message = \"This is the first day of Astro winter school.\\nOrganiser:\\tWilson College\\nLanguage:\\tPython\""
   ]
  },
  {
   "cell_type": "code",
   "execution_count": 11,
   "id": "726cd68d-bbf2-4f2b-9d83-5107df69ce0e",
   "metadata": {},
   "outputs": [
    {
     "name": "stdout",
     "output_type": "stream",
     "text": [
      "This is the first day of Astro winter school.\n",
      "Organiser:\tWilson College\n",
      "Language:\tPython\n"
     ]
    }
   ],
   "source": [
    "print(message)"
   ]
  },
  {
   "cell_type": "markdown",
   "id": "b540b044-1501-438c-a7f3-e44910bfb6a0",
   "metadata": {},
   "source": [
    "#### Formatted string\n",
    "\n",
    "Used to parse a variable while printing string"
   ]
  },
  {
   "cell_type": "code",
   "execution_count": 1,
   "id": "cf9b9a6b-7098-4860-b01f-c34c5028393e",
   "metadata": {},
   "outputs": [],
   "source": [
    "duration = 6\n",
    "message = f\"The Astro winter school will be for {duration} days.\""
   ]
  },
  {
   "cell_type": "code",
   "execution_count": 2,
   "id": "30a33370-14bb-438a-8d75-3b1c31f4b2b9",
   "metadata": {},
   "outputs": [
    {
     "name": "stdout",
     "output_type": "stream",
     "text": [
      "The Astro winter school will be for 6 days.\n"
     ]
    }
   ],
   "source": [
    "print(message)"
   ]
  },
  {
   "cell_type": "code",
   "execution_count": 3,
   "id": "013b4a4d-08f5-4e22-b271-022c55051104",
   "metadata": {},
   "outputs": [
    {
     "data": {
      "text/plain": [
       "'The Astro winter school will be for 6 days.'"
      ]
     },
     "execution_count": 3,
     "metadata": {},
     "output_type": "execute_result"
    }
   ],
   "source": [
    "message"
   ]
  },
  {
   "cell_type": "code",
   "execution_count": 4,
   "id": "b18ee08a-a1eb-492c-82cf-a49620bfd925",
   "metadata": {},
   "outputs": [
    {
     "data": {
      "text/plain": [
       "'stro winter school will be for 6 days.'"
      ]
     },
     "execution_count": 4,
     "metadata": {},
     "output_type": "execute_result"
    }
   ],
   "source": [
    "message[5:]"
   ]
  },
  {
   "cell_type": "code",
   "execution_count": 5,
   "id": "8b42d4ca-65a1-4ddc-9b38-84ce4b3ca23c",
   "metadata": {},
   "outputs": [
    {
     "data": {
      "text/plain": [
       "'The Ast'"
      ]
     },
     "execution_count": 5,
     "metadata": {},
     "output_type": "execute_result"
    }
   ],
   "source": [
    "message[:7]"
   ]
  },
  {
   "cell_type": "code",
   "execution_count": 6,
   "id": "41f78d47-3790-4676-9903-d3324ae674de",
   "metadata": {},
   "outputs": [
    {
     "data": {
      "text/plain": [
       "'Astro'"
      ]
     },
     "execution_count": 6,
     "metadata": {},
     "output_type": "execute_result"
    }
   ],
   "source": [
    "message[4:9]"
   ]
  },
  {
   "cell_type": "code",
   "execution_count": 7,
   "id": "b80f1837-1097-46d4-8850-6228d345af8b",
   "metadata": {},
   "outputs": [],
   "source": [
    "# Remember Python is 0 indexing language so the first character is at 0th position.\n",
    "\n",
    "# Try out different indexes for yourself\n",
    "\n"
   ]
  },
  {
   "cell_type": "markdown",
   "id": "01169ea2-19f9-448b-9abd-f70e9b1d653f",
   "metadata": {
    "id": "1oEdCxU_6WC9"
   },
   "source": [
    "## Numbers\n",
    "There are 3 numeric types:\n",
    "\n",
    "- `int`\n",
    "- `float`\n",
    "- `complex`"
   ]
  },
  {
   "cell_type": "markdown",
   "id": "d9d7692a-5161-48fa-8d36-f23fe64eaacb",
   "metadata": {
    "id": "EQaATdsqPTHN"
   },
   "source": [
    "#### How to differentiate between types of numbers?\n",
    "\n",
    "There is a small note regarding the inspection of different number types.\n",
    "\n",
    "\"*How do we know what type of number is in your code?*\"\n",
    "\n",
    "To solve this issue there is an in-built function called `type()` which lets you know the type of an object.\n",
    "\n"
   ]
  },
  {
   "cell_type": "code",
   "execution_count": 17,
   "id": "7656b07f-6cce-490f-8d22-42e63c8119c5",
   "metadata": {},
   "outputs": [
    {
     "name": "stdout",
     "output_type": "stream",
     "text": [
      "<class 'str'>\n",
      "<class 'int'>\n"
     ]
    }
   ],
   "source": [
    "# If you are given a string which includes a number, such as:\n",
    "a = '24'\n",
    "print(type(a)) #Output: <class 'str'>\n",
    "\n",
    "# Converting string type to integer type:\n",
    "b = int(a)\n",
    "print(type(b)) #Output: <class 'int'>"
   ]
  },
  {
   "cell_type": "markdown",
   "id": "5309c712-28b6-4d2e-9581-bf2869c2d5ad",
   "metadata": {
    "id": "xRgsGUfl0n7z"
   },
   "source": [
    "### Floating numbers\n",
    "\n",
    "Floating numbers are used when we want to play around with numbers with decimal numbers.\n",
    "For example, `e = 2.718`.\n",
    "\n",
    "You can convert a string to a floating number, for example:"
   ]
  },
  {
   "cell_type": "code",
   "execution_count": 18,
   "id": "23be33e5-530c-4830-95fe-6d538f7a887c",
   "metadata": {
    "ExecuteTime": {
     "end_time": "2023-05-24T14:28:15.820592Z",
     "start_time": "2023-05-24T14:28:15.817686Z"
    },
    "colab": {
     "base_uri": "https://localhost:8080/"
    },
    "id": "UWS0Obrw101-",
    "outputId": "498e8193-368b-418c-df0a-36ae9e52176a"
   },
   "outputs": [
    {
     "name": "stdout",
     "output_type": "stream",
     "text": [
      "2.718\n",
      " Type:<class 'float'>\n"
     ]
    }
   ],
   "source": [
    "e_string = '2.718'\n",
    "\n",
    "e_float = float(e_string)\n",
    "\n",
    "print(f\"{e_float}\\n Type:{type(e_float)}\")"
   ]
  },
  {
   "cell_type": "markdown",
   "id": "3f53a7c0-f9e7-4c24-8995-eadd9d170ead",
   "metadata": {
    "id": "8IKpmoptPjFt"
   },
   "source": [
    "- If you need to **round-off** the floating number use the method `round()` as follows:"
   ]
  },
  {
   "cell_type": "code",
   "execution_count": 19,
   "id": "40a85fba-b887-42d6-a2ca-291fa006a366",
   "metadata": {
    "ExecuteTime": {
     "end_time": "2023-05-24T14:28:17.591381Z",
     "start_time": "2023-05-24T14:28:17.587749Z"
    },
    "colab": {
     "base_uri": "https://localhost:8080/"
    },
    "id": "G-BLn3SZPsEs",
    "outputId": "18610054-b7c1-4817-adf1-e0e07520aff1"
   },
   "outputs": [
    {
     "data": {
      "text/plain": [
       "4.546"
      ]
     },
     "execution_count": 19,
     "metadata": {},
     "output_type": "execute_result"
    }
   ],
   "source": [
    "a = 4.54578\n",
    "\n",
    "# rounding off to three decimal places.\n",
    "round(a, 3)"
   ]
  },
  {
   "cell_type": "markdown",
   "id": "eaa303ec-2893-4001-b22f-516cacc97420",
   "metadata": {
    "id": "5FJkS3LfEmdB"
   },
   "source": [
    "### Imaginary numbers:\n",
    "\n",
    "**Defining an imaginary number**:\n",
    "\n",
    "Main ways to define the complex number:"
   ]
  },
  {
   "cell_type": "code",
   "execution_count": 20,
   "id": "1db1f99e-f108-4d35-9308-88cc966dc2b4",
   "metadata": {
    "ExecuteTime": {
     "end_time": "2023-05-24T14:28:19.060842Z",
     "start_time": "2023-05-24T14:28:19.057687Z"
    },
    "colab": {
     "base_uri": "https://localhost:8080/"
    },
    "id": "QLJi9jlvE2o2",
    "outputId": "b3c7148e-a858-465a-b44c-34af6a5e94a7"
   },
   "outputs": [
    {
     "name": "stdout",
     "output_type": "stream",
     "text": [
      "<class 'complex'>\n",
      "<class 'complex'>\n",
      "<class 'complex'>\n"
     ]
    }
   ],
   "source": [
    "c = 5 + 4j\n",
    "print(type(c))\n",
    "\n",
    "d = 10j + 7\n",
    "print(type(d))\n",
    "\n",
    "f = 2j\n",
    "print(type(f))"
   ]
  },
  {
   "cell_type": "markdown",
   "id": "1eff11a6-ebd5-4a95-8a02-8841e950bb39",
   "metadata": {
    "id": "j3aPsbKlFSt0"
   },
   "source": [
    "Python understands \"`j`\" as $\\sqrt{-1}$\n",
    "\n",
    "Common mistakes to avoid:\n",
    "\n",
    "- Don't use `a + b*j`, otherwise you will encounter an error. Instead use the above methods to define the complex number."
   ]
  },
  {
   "cell_type": "markdown",
   "id": "a31069b0-173a-41ec-8132-37aa354b30bb",
   "metadata": {
    "id": "eOO-1Um_JGc3"
   },
   "source": [
    "<u>**Note**</u>: If we want to define a *very large or a very small number*, for example, the planck's constant,  *h* = $6.626*10^{-34}$ (in SI Units), or speed of light, *c* = $3*10^{8}$ (SI Units). We can use the following notation:"
   ]
  },
  {
   "cell_type": "code",
   "execution_count": 21,
   "id": "0fd219b9-a649-47f7-b2b3-155be9abae0b",
   "metadata": {
    "ExecuteTime": {
     "end_time": "2023-05-24T14:28:20.927078Z",
     "start_time": "2023-05-24T14:28:20.917813Z"
    },
    "colab": {
     "base_uri": "https://localhost:8080/"
    },
    "id": "KSf3GHDFKoIh",
    "outputId": "0ee61d07-abb3-4f18-bcab-253ff8f25704"
   },
   "outputs": [
    {
     "name": "stdout",
     "output_type": "stream",
     "text": [
      "6.626e-34\n",
      "300000000.0\n"
     ]
    }
   ],
   "source": [
    "# Planck's constant\n",
    "h = 6.626e-34\n",
    "print(h)\n",
    "# Speed of light\n",
    "c = 3e8\n",
    "print(c)"
   ]
  },
  {
   "cell_type": "markdown",
   "id": "900faa31-7b63-451c-88b8-40353946d52e",
   "metadata": {},
   "source": [
    "We will look at the other object types in the live sessions!\n",
    "\n",
    "Please make sure you are able to either install jupyter notebook in your laptop or you are able to run this notebook on Google Colab. Become familiar with the UI so that you can start right away."
   ]
  }
 ],
 "metadata": {
  "kernelspec": {
   "display_name": "Python 3 (ipykernel)",
   "language": "python",
   "name": "python3"
  },
  "language_info": {
   "codemirror_mode": {
    "name": "ipython",
    "version": 3
   },
   "file_extension": ".py",
   "mimetype": "text/x-python",
   "name": "python",
   "nbconvert_exporter": "python",
   "pygments_lexer": "ipython3",
   "version": "3.11.8"
  }
 },
 "nbformat": 4,
 "nbformat_minor": 5
}
