{
 "cells": [
  {
   "cell_type": "code",
   "execution_count": null,
   "id": "0efbd6d8-5057-4fb0-9d0d-628d57382b63",
   "metadata": {},
   "outputs": [],
   "source": []
  }
 ],
 "metadata": {
  "kernelspec": {
   "display_name": "",
   "name": ""
  },
  "language_info": {
   "name": ""
  }
 },
 "nbformat": 4,
 "nbformat_minor": 5
}
